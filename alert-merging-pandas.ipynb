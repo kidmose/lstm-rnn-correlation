{
 "cells": [
  {
   "cell_type": "markdown",
   "metadata": {
    "collapsed": true
   },
   "source": [
    "Copyright (C) Egon Kidmose 2015-2017\n",
    "\n",
    "This file is part of lstm-rnn-correlation.\n",
    "\n",
    "lstm-rnn-correlation is free software: you can redistribute it and/or\n",
    "modify it under the terms of the GNU Lesser General Public License as\n",
    "published by the Free Software Foundation, either version 3 of the\n",
    "License, or (at your option) any later version.\n",
    "\n",
    "lstm-rnn-correlation is distributed in the hope that it will be\n",
    "useful, but WITHOUT ANY WARRANTY; without even the implied warranty of\n",
    "MERCHANTABILITY or FITNESS FOR A PARTICULAR PURPOSE.  See the GNU\n",
    "Lesser General Public License for more details.\n",
    "\n",
    "You should have received a copy of the GNU Lesser General Public\n",
    "License along with lstm-rnn-correlation. If not, see\n",
    "<http://www.gnu.org/licenses/>.\n"
   ]
  },
  {
   "cell_type": "code",
   "execution_count": 1,
   "metadata": {
    "collapsed": false
   },
   "outputs": [],
   "source": [
    "from __future__ import division\n",
    "\n",
    "import pandas as pd\n",
    "from pandas import DataFrame\n",
    "import numpy as np\n",
    "import re\n",
    "import datetime\n",
    "import ipaddress\n",
    "\n",
    "# matplotlib\n",
    "try: # might, might not have x available\n",
    "    import os\n",
    "    os.environ['DISPLAY']\n",
    "except KeyError:\n",
    "    import matplotlib\n",
    "    matplotlib.use('Agg')\n",
    "try: # might, might not be notebook\n",
    "    %matplotlib inline\n",
    "except NameError:\n",
    "    pass\n",
    "import matplotlib.pyplot as plt\n",
    "\n",
    "seed = 1468586473 # Unix time at time of writing\n",
    "def rndseed():\n",
    "    global seed\n",
    "    seed += 1\n",
    "    return seed"
   ]
  },
  {
   "cell_type": "code",
   "execution_count": null,
   "metadata": {
    "collapsed": true
   },
   "outputs": [],
   "source": [
    "from data_cfg import data\n",
    "# load files\n",
    "data_tmp = DataFrame()\n",
    "for index, row in data.iterrows():\n",
    "    print(\"Opening: {}\".format(row['filename']))\n",
    "    with open(row['filename']) as f:\n",
    "        alerts = DataFrame(\n",
    "            map(parse_line, f.readlines()),\n",
    "            columns=['ts', 'rid', 'msg', 'prio', 'proto', 'srcip', 'srcport', 'dstip', 'dstport']\n",
    "        )\n",
    "        alerts['incident'] = row['incident']   \n",
    "        data_tmp = data_tmp.append(pd.merge(data, alerts))\n",
    "        print(\"Loaded: {}\".format(row['filename']))\n",
    "data = data_tmp"
   ]
  },
  {
   "cell_type": "code",
   "execution_count": 168,
   "metadata": {
    "collapsed": false
   },
   "outputs": [],
   "source": [
    "data = data_tmp"
   ]
  },
  {
   "cell_type": "code",
   "execution_count": 169,
   "metadata": {
    "collapsed": false
   },
   "outputs": [],
   "source": [
    "difficult_ips = [\n",
    "    '94.63.149.152',\n",
    "    '147.32.84.165',\n",
    "]\n",
    "for ip in difficult_ips:\n",
    "    assert re.match('('+IP+')', ip).group()\n",
    "\n",
    "difficult_ips_port = [\n",
    "    '94.63.149.152:80',\n",
    "    '147.32.84.165:1040',\n",
    "]\n",
    "for ip in difficult_ips_port:\n",
    "    res = re.match(IP_PORT, ip).groups()\n",
    "    assert res is not None\n",
    "    assert len(res) == 2\n",
    "\n",
    "difficult_lines = [\n",
    "    '08/15-15:53:48.900440  [**] [120:3:1] (http_inspect) NO CONTENT-LENGTH OR TRANSFER-ENCODING IN HTTP RESPONSE [**] [Classification: Unknown Traffic] [Priority: 3] {TCP} 94.63.149.152:80 -> 147.32.84.165:1040\\n',\n",
    "]\n",
    "for l in difficult_lines:\n",
    "    res = parse_line(l)\n",
    "    assert len(res) == 9"
   ]
  },
  {
   "cell_type": "code",
   "execution_count": 170,
   "metadata": {
    "collapsed": false
   },
   "outputs": [],
   "source": [
    "IPV4 = '(?:[0-9]{1,3}(?:\\.[0-9]{1,3}){3})'\n",
    "IPV6 = '(?:[0-9a-f]|:){1,4}(?::(?:[0-9a-f]{0,4})*){1,7}'\n",
    "IP = '(?:{}|{})'.format(IPV4, IPV6)\n",
    "IP_PORT = '('+IP+')(?::([^ ]+))?'\n",
    "\n",
    "SNORT_REGEX = re.compile('^(.*)  \\[\\*\\*] \\[([^]]*)] (.*) \\[Priority: ([0-9])] {([^}]*)} ('+IP+')(?::([^ ]+))? -> ('+IP+')(?::([^ ]+))?\\n')\n",
    "SNORT_TS_FMT = '%m/%d/%y-%H:%M:%S.%f'\n",
    "SNORT_TS_FMT_NO_YR = '%m/%d-%H:%M:%S.%f'\n",
    "\n",
    "def strptime(string):\n",
    "    ts = None\n",
    "    try:\n",
    "        ts = datetime.datetime.strptime(string, SNORT_TS_FMT)\n",
    "    except:\n",
    "        pass\n",
    "    try:\n",
    "        ts = datetime.datetime.strptime(string, SNORT_TS_FMT_NO_YR)\n",
    "    except:\n",
    "        pass\n",
    "    if ts is None:\n",
    "        raise Exception('Failed to parse {}: {}'.format(type(string), string))\n",
    "    return ts\n",
    "\n",
    "def strftime(ts):\n",
    "    return ts.strftime(SNORT_TS_FMT)\n",
    "\n",
    "def parse_line(line):\n",
    "    tupl = re.match(SNORT_REGEX, line).groups()\n",
    "    tupl = tuple([strptime(tupl[0])]) + tupl[1:]\n",
    "    return tupl\n",
    "\n",
    "\n",
    "def build_line(tupl):\n",
    "    tupl = tuple([strftime(tupl[0])]) + tupl[1:]\n",
    "    return \"{}  [**] [{}] {} [Priority: {}] {{{}}} {} -> {}\\n\".format(*tupl)\n",
    "\n",
    "test_code =\\\n",
    "\"\"\"\n",
    "for fn in data['filename']:\n",
    "    for l in open(fn).readlines():\n",
    "        p = parse_line(l)\n",
    "        b = build_line(p)\n",
    "        assert l == b or l == (b[:5]+b[8:]), \"Mismatch in result\"\n",
    "\"\"\""
   ]
  },
  {
   "cell_type": "code",
   "execution_count": 171,
   "metadata": {
    "collapsed": false
   },
   "outputs": [
    {
     "data": {
      "text/html": [
       "<div>\n",
       "<table border=\"1\" class=\"dataframe\">\n",
       "  <thead>\n",
       "    <tr style=\"text-align: right;\">\n",
       "      <th></th>\n",
       "      <th></th>\n",
       "      <th></th>\n",
       "      <th></th>\n",
       "      <th></th>\n",
       "      <th></th>\n",
       "    </tr>\n",
       "    <tr>\n",
       "      <th>incident</th>\n",
       "      <th>inc_cnt</th>\n",
       "      <th>inc_cnt_pct</th>\n",
       "      <th>prio</th>\n",
       "      <th>inc_prio_cnt</th>\n",
       "      <th>inc_prio_cnt_pct</th>\n",
       "    </tr>\n",
       "  </thead>\n",
       "  <tbody>\n",
       "    <tr>\n",
       "      <th rowspan=\"3\" valign=\"top\">1</th>\n",
       "      <th rowspan=\"3\" valign=\"top\">100</th>\n",
       "      <th rowspan=\"3\" valign=\"top\">0.002181</th>\n",
       "      <th>1</th>\n",
       "      <th>1</th>\n",
       "      <th>1.000000</th>\n",
       "    </tr>\n",
       "    <tr>\n",
       "      <th>2</th>\n",
       "      <th>79</th>\n",
       "      <th>79.000000</th>\n",
       "    </tr>\n",
       "    <tr>\n",
       "      <th>3</th>\n",
       "      <th>20</th>\n",
       "      <th>20.000000</th>\n",
       "    </tr>\n",
       "    <tr>\n",
       "      <th rowspan=\"3\" valign=\"top\">2</th>\n",
       "      <th rowspan=\"3\" valign=\"top\">184</th>\n",
       "      <th rowspan=\"3\" valign=\"top\">0.004013</th>\n",
       "      <th>1</th>\n",
       "      <th>3</th>\n",
       "      <th>1.630435</th>\n",
       "    </tr>\n",
       "    <tr>\n",
       "      <th>2</th>\n",
       "      <th>35</th>\n",
       "      <th>19.021739</th>\n",
       "    </tr>\n",
       "    <tr>\n",
       "      <th>3</th>\n",
       "      <th>146</th>\n",
       "      <th>79.347826</th>\n",
       "    </tr>\n",
       "    <tr>\n",
       "      <th rowspan=\"2\" valign=\"top\">3</th>\n",
       "      <th rowspan=\"2\" valign=\"top\">317</th>\n",
       "      <th rowspan=\"2\" valign=\"top\">0.006914</th>\n",
       "      <th>1</th>\n",
       "      <th>313</th>\n",
       "      <th>98.738170</th>\n",
       "    </tr>\n",
       "    <tr>\n",
       "      <th>3</th>\n",
       "      <th>4</th>\n",
       "      <th>1.261830</th>\n",
       "    </tr>\n",
       "    <tr>\n",
       "      <th rowspan=\"2\" valign=\"top\">4</th>\n",
       "      <th rowspan=\"2\" valign=\"top\">328</th>\n",
       "      <th rowspan=\"2\" valign=\"top\">0.007154</th>\n",
       "      <th>2</th>\n",
       "      <th>305</th>\n",
       "      <th>92.987805</th>\n",
       "    </tr>\n",
       "    <tr>\n",
       "      <th>3</th>\n",
       "      <th>23</th>\n",
       "      <th>7.012195</th>\n",
       "    </tr>\n",
       "    <tr>\n",
       "      <th rowspan=\"2\" valign=\"top\">5</th>\n",
       "      <th rowspan=\"2\" valign=\"top\">390</th>\n",
       "      <th rowspan=\"2\" valign=\"top\">0.008506</th>\n",
       "      <th>2</th>\n",
       "      <th>385</th>\n",
       "      <th>98.717949</th>\n",
       "    </tr>\n",
       "    <tr>\n",
       "      <th>3</th>\n",
       "      <th>5</th>\n",
       "      <th>1.282051</th>\n",
       "    </tr>\n",
       "    <tr>\n",
       "      <th rowspan=\"3\" valign=\"top\">6</th>\n",
       "      <th rowspan=\"3\" valign=\"top\">395</th>\n",
       "      <th rowspan=\"3\" valign=\"top\">0.008615</th>\n",
       "      <th>1</th>\n",
       "      <th>15</th>\n",
       "      <th>3.797468</th>\n",
       "    </tr>\n",
       "    <tr>\n",
       "      <th>2</th>\n",
       "      <th>306</th>\n",
       "      <th>77.468354</th>\n",
       "    </tr>\n",
       "    <tr>\n",
       "      <th>3</th>\n",
       "      <th>74</th>\n",
       "      <th>18.734177</th>\n",
       "    </tr>\n",
       "    <tr>\n",
       "      <th rowspan=\"3\" valign=\"top\">7</th>\n",
       "      <th rowspan=\"3\" valign=\"top\">444</th>\n",
       "      <th rowspan=\"3\" valign=\"top\">0.009684</th>\n",
       "      <th>1</th>\n",
       "      <th>35</th>\n",
       "      <th>7.882883</th>\n",
       "    </tr>\n",
       "    <tr>\n",
       "      <th>2</th>\n",
       "      <th>404</th>\n",
       "      <th>90.990991</th>\n",
       "    </tr>\n",
       "    <tr>\n",
       "      <th>3</th>\n",
       "      <th>5</th>\n",
       "      <th>1.126126</th>\n",
       "    </tr>\n",
       "    <tr>\n",
       "      <th rowspan=\"3\" valign=\"top\">benign</th>\n",
       "      <th rowspan=\"3\" valign=\"top\">4582898</th>\n",
       "      <th rowspan=\"3\" valign=\"top\">99.952934</th>\n",
       "      <th>1</th>\n",
       "      <th>67</th>\n",
       "      <th>0.001462</th>\n",
       "    </tr>\n",
       "    <tr>\n",
       "      <th>2</th>\n",
       "      <th>3169238</th>\n",
       "      <th>69.153579</th>\n",
       "    </tr>\n",
       "    <tr>\n",
       "      <th>3</th>\n",
       "      <th>1413593</th>\n",
       "      <th>30.844959</th>\n",
       "    </tr>\n",
       "    <tr>\n",
       "      <th rowspan=\"3\" valign=\"top\">total</th>\n",
       "      <th rowspan=\"3\" valign=\"top\">4585056</th>\n",
       "      <th rowspan=\"3\" valign=\"top\">100.000000</th>\n",
       "      <th>1</th>\n",
       "      <th>434</th>\n",
       "      <th>0.009466</th>\n",
       "    </tr>\n",
       "    <tr>\n",
       "      <th>2</th>\n",
       "      <th>3170752</th>\n",
       "      <th>69.154052</th>\n",
       "    </tr>\n",
       "    <tr>\n",
       "      <th>3</th>\n",
       "      <th>1413870</th>\n",
       "      <th>30.836483</th>\n",
       "    </tr>\n",
       "  </tbody>\n",
       "</table>\n",
       "</div>"
      ],
      "text/plain": [
       "Empty DataFrame\n",
       "Columns: []\n",
       "Index: [(1, 100, 0.00218099844364, 1, 1, 1.0), (1, 100, 0.00218099844364, 2, 79, 79.0), (1, 100, 0.00218099844364, 3, 20, 20.0), (2, 184, 0.0040130371363, 1, 3, 1.63043478261), (2, 184, 0.0040130371363, 2, 35, 19.0217391304), (2, 184, 0.0040130371363, 3, 146, 79.347826087), (3, 317, 0.00691376506634, 1, 313, 98.738170347), (3, 317, 0.00691376506634, 3, 4, 1.261829653), (4, 328, 0.00715367489514, 2, 305, 92.987804878), (4, 328, 0.00715367489514, 3, 23, 7.01219512195), (5, 390, 0.00850589393019, 2, 385, 98.7179487179), (5, 390, 0.00850589393019, 3, 5, 1.28205128205), (6, 395, 0.00861494385238, 1, 15, 3.79746835443), (6, 395, 0.00861494385238, 2, 306, 77.4683544304), (6, 395, 0.00861494385238, 3, 74, 18.7341772152), (7, 444, 0.00968363308976, 1, 35, 7.88288288288), (7, 444, 0.00968363308976, 2, 404, 90.990990991), (7, 444, 0.00968363308976, 3, 5, 1.12612612613), (benign, 4582898, 99.9529340536, 1, 67, 0.00146195704116), (benign, 4582898, 99.9529340536, 2, 3169238, 69.1535792418), (benign, 4582898, 99.9529340536, 3, 1413593, 30.8449588012), (total, 4585056, 100.0, 1, 434, 0.0094655332454), (total, 4585056, 100.0, 2, 3170752, 69.1540517717), (total, 4585056, 100.0, 3, 1413870, 30.8364826951)]"
      ]
     },
     "execution_count": 171,
     "metadata": {},
     "output_type": "execute_result"
    }
   ],
   "source": [
    "# data overview\n",
    "# by incident\n",
    "df_inc_cnt = DataFrame(data.groupby(['incident']).size().rename('inc_cnt').reset_index())\n",
    "df_inc_cnt['inc_cnt_pct'] = df_inc_cnt['inc_cnt']/data.count()[0]*100\n",
    "\n",
    "df_inc_prio_cnt = DataFrame(\n",
    "    pd.merge(data, df_inc_cnt, on='incident').groupby(['incident', 'prio', 'inc_cnt']\n",
    ").size().rename('inc_prio_cnt').reset_index())\n",
    "df_inc_prio_cnt['inc_prio_cnt_pct'] = df_inc_prio_cnt['inc_prio_cnt']/df_inc_prio_cnt['inc_cnt']*100\n",
    "\n",
    "df_overview = pd.merge(df_inc_cnt, df_inc_prio_cnt).groupby(['incident', 'prio']).first().reset_index()\n",
    "\n",
    "tot_prio = data.groupby(['prio']).size().rename('inc_prio_cnt')\n",
    "df_tot = DataFrame(tot_prio)\n",
    "df_tot['inc_prio_cnt_pct'] = df_tot['inc_prio_cnt']/data.count()[0]*100\n",
    "df_tot['inc_cnt'] = data.count()[0]\n",
    "df_tot['inc_cnt_pct'] = 100\n",
    "df_tot['incident'] = 'total'\n",
    "\n",
    "df_overview = pd.concat([df_overview.reset_index(), df_tot.reset_index()])\\\n",
    "    .groupby(['incident', 'inc_cnt', 'inc_cnt_pct', 'prio', 'inc_prio_cnt', 'inc_prio_cnt_pct', ])\\\n",
    "    .first().drop('index', 1)\n",
    "\n",
    "df_overview"
   ]
  },
  {
   "cell_type": "code",
   "execution_count": 172,
   "metadata": {
    "collapsed": false
   },
   "outputs": [
    {
     "name": "stdout",
     "output_type": "stream",
     "text": [
      "incident\t&inc_cnt\t&inc_cnt_pct\t&prio\t&inc_prio_cnt\t&inc_prio_cnt_pct\\\\\\hline\n",
      "1\t&100\t&0.00218099844364\t&1\t&1\t&1.0\\\\\\hline\n",
      "1\t&100\t&0.00218099844364\t&2\t&79\t&79.0\\\\\\hline\n",
      "1\t&100\t&0.00218099844364\t&3\t&20\t&20.0\\\\\\hline\n",
      "2\t&184\t&0.0040130371363\t&1\t&3\t&1.63043478261\\\\\\hline\n",
      "2\t&184\t&0.0040130371363\t&2\t&35\t&19.0217391304\\\\\\hline\n",
      "2\t&184\t&0.0040130371363\t&3\t&146\t&79.347826087\\\\\\hline\n",
      "3\t&317\t&0.00691376506634\t&1\t&313\t&98.738170347\\\\\\hline\n",
      "3\t&317\t&0.00691376506634\t&3\t&4\t&1.261829653\\\\\\hline\n",
      "4\t&328\t&0.00715367489514\t&2\t&305\t&92.987804878\\\\\\hline\n",
      "4\t&328\t&0.00715367489514\t&3\t&23\t&7.01219512195\\\\\\hline\n",
      "5\t&390\t&0.00850589393019\t&2\t&385\t&98.7179487179\\\\\\hline\n",
      "5\t&390\t&0.00850589393019\t&3\t&5\t&1.28205128205\\\\\\hline\n",
      "6\t&395\t&0.00861494385238\t&1\t&15\t&3.79746835443\\\\\\hline\n",
      "6\t&395\t&0.00861494385238\t&2\t&306\t&77.4683544304\\\\\\hline\n",
      "6\t&395\t&0.00861494385238\t&3\t&74\t&18.7341772152\\\\\\hline\n",
      "7\t&444\t&0.00968363308976\t&1\t&35\t&7.88288288288\\\\\\hline\n",
      "7\t&444\t&0.00968363308976\t&2\t&404\t&90.990990991\\\\\\hline\n",
      "7\t&444\t&0.00968363308976\t&3\t&5\t&1.12612612613\\\\\\hline\n",
      "benign\t&4582898\t&99.9529340536\t&1\t&67\t&0.00146195704116\\\\\\hline\n",
      "benign\t&4582898\t&99.9529340536\t&2\t&3169238\t&69.1535792418\\\\\\hline\n",
      "benign\t&4582898\t&99.9529340536\t&3\t&1413593\t&30.8449588012\\\\\\hline\n",
      "total\t&4585056\t&100.0\t&1\t&434\t&0.0094655332454\\\\\\hline\n",
      "total\t&4585056\t&100.0\t&2\t&3170752\t&69.1540517717\\\\\\hline\n",
      "total\t&4585056\t&100.0\t&3\t&1413870\t&30.8364826951\\\\\\hline\n"
     ]
    }
   ],
   "source": [
    "# print in latex friendly\n",
    "for l in np.concatenate([\n",
    "    np.array([df_overview.reset_index().columns]),\n",
    "    df_overview.reset_index().as_matrix(),\n",
    "]):\n",
    "    print(('\\t&'.join(['{}']*len(l)) + '\\\\\\\\\\\\hline').format(*l))\n"
   ]
  },
  {
   "cell_type": "code",
   "execution_count": 178,
   "metadata": {
    "collapsed": false
   },
   "outputs": [
    {
     "data": {
      "text/html": [
       "<div>\n",
       "<table border=\"1\" class=\"dataframe\">\n",
       "  <thead>\n",
       "    <tr style=\"text-align: right;\">\n",
       "      <th></th>\n",
       "      <th>start</th>\n",
       "      <th>stop</th>\n",
       "      <th>dur</th>\n",
       "    </tr>\n",
       "    <tr>\n",
       "      <th>incident</th>\n",
       "      <th></th>\n",
       "      <th></th>\n",
       "      <th></th>\n",
       "    </tr>\n",
       "  </thead>\n",
       "  <tbody>\n",
       "    <tr>\n",
       "      <th>1</th>\n",
       "      <td>2016-05-12 05:22:21.286295771</td>\n",
       "      <td>2016-05-12 05:41:37.509218771</td>\n",
       "      <td>0 days 00:19:16.222923</td>\n",
       "    </tr>\n",
       "    <tr>\n",
       "      <th>2</th>\n",
       "      <td>2016-05-18 15:45:05.045046980</td>\n",
       "      <td>2016-06-02 01:01:17.111661980</td>\n",
       "      <td>14 days 09:16:12.066615</td>\n",
       "    </tr>\n",
       "    <tr>\n",
       "      <th>3</th>\n",
       "      <td>2016-05-24 01:02:18.272334135</td>\n",
       "      <td>2016-05-27 19:49:13.330963135</td>\n",
       "      <td>3 days 18:46:55.058629</td>\n",
       "    </tr>\n",
       "    <tr>\n",
       "      <th>4</th>\n",
       "      <td>2016-06-03 17:57:15.441277549</td>\n",
       "      <td>2016-06-03 20:20:44.096708549</td>\n",
       "      <td>0 days 02:23:28.655431</td>\n",
       "    </tr>\n",
       "    <tr>\n",
       "      <th>5</th>\n",
       "      <td>2016-05-06 12:03:16.830083735</td>\n",
       "      <td>2016-05-06 13:30:11.131837735</td>\n",
       "      <td>0 days 01:26:54.301754</td>\n",
       "    </tr>\n",
       "    <tr>\n",
       "      <th>6</th>\n",
       "      <td>2016-05-15 03:42:15.665750005</td>\n",
       "      <td>2016-05-15 15:45:07.124551005</td>\n",
       "      <td>0 days 12:02:51.458801</td>\n",
       "    </tr>\n",
       "    <tr>\n",
       "      <th>7</th>\n",
       "      <td>2016-05-28 16:53:05.469911388</td>\n",
       "      <td>2016-05-29 11:06:54.781916388</td>\n",
       "      <td>0 days 18:13:49.312005</td>\n",
       "    </tr>\n",
       "    <tr>\n",
       "      <th>benign</th>\n",
       "      <td>2016-05-04 09:38:44.365433000</td>\n",
       "      <td>2016-06-09 13:29:51.193338000</td>\n",
       "      <td>36 days 03:51:06.827905</td>\n",
       "    </tr>\n",
       "  </tbody>\n",
       "</table>\n",
       "</div>"
      ],
      "text/plain": [
       "                                 start                          stop  \\\n",
       "incident                                                               \n",
       "1        2016-05-12 05:22:21.286295771 2016-05-12 05:41:37.509218771   \n",
       "2        2016-05-18 15:45:05.045046980 2016-06-02 01:01:17.111661980   \n",
       "3        2016-05-24 01:02:18.272334135 2016-05-27 19:49:13.330963135   \n",
       "4        2016-06-03 17:57:15.441277549 2016-06-03 20:20:44.096708549   \n",
       "5        2016-05-06 12:03:16.830083735 2016-05-06 13:30:11.131837735   \n",
       "6        2016-05-15 03:42:15.665750005 2016-05-15 15:45:07.124551005   \n",
       "7        2016-05-28 16:53:05.469911388 2016-05-29 11:06:54.781916388   \n",
       "benign   2016-05-04 09:38:44.365433000 2016-06-09 13:29:51.193338000   \n",
       "\n",
       "                             dur  \n",
       "incident                          \n",
       "1         0 days 00:19:16.222923  \n",
       "2        14 days 09:16:12.066615  \n",
       "3         3 days 18:46:55.058629  \n",
       "4         0 days 02:23:28.655431  \n",
       "5         0 days 01:26:54.301754  \n",
       "6         0 days 12:02:51.458801  \n",
       "7         0 days 18:13:49.312005  \n",
       "benign   36 days 03:51:06.827905  "
      ]
     },
     "execution_count": 178,
     "metadata": {},
     "output_type": "execute_result"
    }
   ],
   "source": [
    "# data time overview\n",
    "df_ts = data[['incident', 'ts']].groupby('incident').agg(['min', 'max'])['ts']\n",
    "df_ts.columns = ['start', 'stop', ]\n",
    "df_ts['dur'] = df_ts['stop']-df_ts['start']\n",
    "df_ts"
   ]
  },
  {
   "cell_type": "code",
   "execution_count": 179,
   "metadata": {
    "collapsed": false
   },
   "outputs": [
    {
     "data": {
      "image/png": "[encoded data removed]",
      "text/plain": [
       "<matplotlib.figure.Figure at 0x9e424210>"
      ]
     },
     "metadata": {},
     "output_type": "display_data"
    },
    {
     "data": {
      "image/png": "[encoded data removed]",
      "text/plain": [
       "<matplotlib.figure.Figure at 0xa01d26d0>"
      ]
     },
     "metadata": {},
     "output_type": "display_data"
    }
   ],
   "source": [
    "fig = None\n",
    "ax = None\n",
    "def time_span_plot(dataframe):\n",
    "    \"Dataframe must have 'start' and 'duration' keys\"\n",
    "    global fig, ax\n",
    "    fig, ax = plt.subplots()\n",
    "    for index, row in dataframe.iterrows():\n",
    "        x = row['start'] + row['dur']/2\n",
    "        y = int(index) if index is not 'benign' else 0\n",
    "        xerr = row['dur']/2\n",
    "        ax.errorbar(x, y, xerr=xerr)\n",
    "    \n",
    "    ax.spines['right'].set_visible(False)\n",
    "    ax.spines['left'].set_visible(False)\n",
    "    ax.spines['top'].set_visible(False)\n",
    "    \n",
    "    ax.yaxis.set_ticks_position('none')\n",
    "    ax.xaxis.set_ticks_position('bottom')\n",
    "    \n",
    "    ax.set_ylim(np.array(ax.get_ylim()) + [-1, 1])\n",
    "    \n",
    "    fig.set_size_inches(14, 2)\n",
    "\n",
    "time_span_plot(df_ts[(df_ts.index == 'benign')])\n",
    "time_span_plot(df_ts[(df_ts.index != 'benign')])"
   ]
  },
  {
   "cell_type": "code",
   "execution_count": 186,
   "metadata": {
    "collapsed": false
   },
   "outputs": [
    {
     "data": {
      "text/html": [
       "<div>\n",
       "<table border=\"1\" class=\"dataframe\">\n",
       "  <thead>\n",
       "    <tr style=\"text-align: right;\">\n",
       "      <th></th>\n",
       "      <th>start</th>\n",
       "      <th>stop</th>\n",
       "      <th>dur</th>\n",
       "      <th>shift</th>\n",
       "    </tr>\n",
       "    <tr>\n",
       "      <th>incident</th>\n",
       "      <th></th>\n",
       "      <th></th>\n",
       "      <th></th>\n",
       "      <th></th>\n",
       "    </tr>\n",
       "  </thead>\n",
       "  <tbody>\n",
       "    <tr>\n",
       "      <th>1</th>\n",
       "      <td>2016-05-10 16:11:48.412702887</td>\n",
       "      <td>2016-05-10 16:31:04.635625887</td>\n",
       "      <td>0 days 00:19:16.222923</td>\n",
       "      <td>6 days 00:20:02.053905</td>\n",
       "    </tr>\n",
       "    <tr>\n",
       "      <th>2</th>\n",
       "      <td>2016-05-22 21:58:44.471485738</td>\n",
       "      <td>2016-06-06 07:14:56.538100738</td>\n",
       "      <td>14 days 09:16:12.066615</td>\n",
       "      <td>-9 days +12:54:57.182258</td>\n",
       "    </tr>\n",
       "    <tr>\n",
       "      <th>3</th>\n",
       "      <td>2016-05-05 04:32:51.029337257</td>\n",
       "      <td>2016-05-08 23:19:46.087966257</td>\n",
       "      <td>3 days 18:46:55.058629</td>\n",
       "      <td>20 days 06:46:17.396381</td>\n",
       "    </tr>\n",
       "    <tr>\n",
       "      <th>4</th>\n",
       "      <td>2016-06-01 21:45:11.006069090</td>\n",
       "      <td>2016-06-02 00:08:39.661500090</td>\n",
       "      <td>0 days 02:23:28.655431</td>\n",
       "      <td>-23 days +23:01:35.145677</td>\n",
       "    </tr>\n",
       "    <tr>\n",
       "      <th>5</th>\n",
       "      <td>2016-06-01 10:46:57.542077008</td>\n",
       "      <td>2016-06-01 12:13:51.843831008</td>\n",
       "      <td>0 days 01:26:54.301754</td>\n",
       "      <td>-23 days +03:32:37.350716</td>\n",
       "    </tr>\n",
       "    <tr>\n",
       "      <th>6</th>\n",
       "      <td>2016-05-27 20:18:24.723406838</td>\n",
       "      <td>2016-05-28 08:21:16.182207838</td>\n",
       "      <td>0 days 12:02:51.458801</td>\n",
       "      <td>6 days 16:13:15.289643</td>\n",
       "    </tr>\n",
       "    <tr>\n",
       "      <th>7</th>\n",
       "      <td>2016-06-07 00:54:00.161598049</td>\n",
       "      <td>2016-06-07 19:07:49.473603049</td>\n",
       "      <td>0 days 18:13:49.312005</td>\n",
       "      <td>-13 days +15:34:50.933630</td>\n",
       "    </tr>\n",
       "    <tr>\n",
       "      <th>benign</th>\n",
       "      <td>2016-05-04 09:38:44.365433000</td>\n",
       "      <td>2016-06-09 13:29:51.193338000</td>\n",
       "      <td>36 days 03:51:06.827905</td>\n",
       "      <td>0 days 00:00:00</td>\n",
       "    </tr>\n",
       "  </tbody>\n",
       "</table>\n",
       "</div>"
      ],
      "text/plain": [
       "                                 start                          stop  \\\n",
       "incident                                                               \n",
       "1        2016-05-10 16:11:48.412702887 2016-05-10 16:31:04.635625887   \n",
       "2        2016-05-22 21:58:44.471485738 2016-06-06 07:14:56.538100738   \n",
       "3        2016-05-05 04:32:51.029337257 2016-05-08 23:19:46.087966257   \n",
       "4        2016-06-01 21:45:11.006069090 2016-06-02 00:08:39.661500090   \n",
       "5        2016-06-01 10:46:57.542077008 2016-06-01 12:13:51.843831008   \n",
       "6        2016-05-27 20:18:24.723406838 2016-05-28 08:21:16.182207838   \n",
       "7        2016-06-07 00:54:00.161598049 2016-06-07 19:07:49.473603049   \n",
       "benign   2016-05-04 09:38:44.365433000 2016-06-09 13:29:51.193338000   \n",
       "\n",
       "                             dur                     shift  \n",
       "incident                                                    \n",
       "1         0 days 00:19:16.222923    6 days 00:20:02.053905  \n",
       "2        14 days 09:16:12.066615  -9 days +12:54:57.182258  \n",
       "3         3 days 18:46:55.058629   20 days 06:46:17.396381  \n",
       "4         0 days 02:23:28.655431 -23 days +23:01:35.145677  \n",
       "5         0 days 01:26:54.301754 -23 days +03:32:37.350716  \n",
       "6         0 days 12:02:51.458801    6 days 16:13:15.289643  \n",
       "7         0 days 18:13:49.312005 -13 days +15:34:50.933630  \n",
       "benign   36 days 03:51:06.827905           0 days 00:00:00  "
      ]
     },
     "execution_count": 186,
     "metadata": {},
     "output_type": "execute_result"
    }
   ],
   "source": [
    "# calculate random shift to end up within boundaries of benign\n",
    "new_start_min = df_ts.loc['benign']['start']\n",
    "new_start_max = df_ts.loc['benign']['stop']-df_ts['dur']\n",
    "window = new_start_max - new_start_min\n",
    "assert (np.array(\n",
    "        window+df_ts['dur']-df_ts.loc['benign']['dur'],\n",
    "        dtype='object') == 0).all(), \"window is wrong\"\n",
    "\n",
    "np.random.seed(rndseed())\n",
    "df_ts['shift'] = new_start_min - df_ts['start'] \\\n",
    "    + map(lambda delta : np.random.rand()*delta, window)\n",
    "df_ts"
   ]
  },
  {
   "cell_type": "code",
   "execution_count": 187,
   "metadata": {
    "collapsed": false
   },
   "outputs": [
    {
     "data": {
      "text/html": [
       "<div>\n",
       "<table border=\"1\" class=\"dataframe\">\n",
       "  <thead>\n",
       "    <tr style=\"text-align: right;\">\n",
       "      <th></th>\n",
       "      <th>start</th>\n",
       "      <th>stop</th>\n",
       "      <th>dur</th>\n",
       "    </tr>\n",
       "    <tr>\n",
       "      <th>incident</th>\n",
       "      <th></th>\n",
       "      <th></th>\n",
       "      <th></th>\n",
       "    </tr>\n",
       "  </thead>\n",
       "  <tbody>\n",
       "    <tr>\n",
       "      <th>1</th>\n",
       "      <td>2016-05-16 16:31:50.466608319</td>\n",
       "      <td>2016-05-16 16:51:06.689531319</td>\n",
       "      <td>0 days 00:19:16.222923</td>\n",
       "    </tr>\n",
       "    <tr>\n",
       "      <th>2</th>\n",
       "      <td>2016-05-14 10:53:41.653743935</td>\n",
       "      <td>2016-05-28 20:09:53.720358935</td>\n",
       "      <td>14 days 09:16:12.066615</td>\n",
       "    </tr>\n",
       "    <tr>\n",
       "      <th>3</th>\n",
       "      <td>2016-05-25 11:19:08.425718726</td>\n",
       "      <td>2016-05-29 06:06:03.484347726</td>\n",
       "      <td>3 days 18:46:55.058629</td>\n",
       "    </tr>\n",
       "    <tr>\n",
       "      <th>4</th>\n",
       "      <td>2016-05-10 20:46:46.151746678</td>\n",
       "      <td>2016-05-10 23:10:14.807177678</td>\n",
       "      <td>0 days 02:23:28.655431</td>\n",
       "    </tr>\n",
       "    <tr>\n",
       "      <th>5</th>\n",
       "      <td>2016-05-09 14:19:34.892793726</td>\n",
       "      <td>2016-05-09 15:46:29.194547726</td>\n",
       "      <td>0 days 01:26:54.301754</td>\n",
       "    </tr>\n",
       "    <tr>\n",
       "      <th>6</th>\n",
       "      <td>2016-06-03 12:31:40.013050055</td>\n",
       "      <td>2016-06-04 00:34:31.471851055</td>\n",
       "      <td>0 days 12:02:51.458801</td>\n",
       "    </tr>\n",
       "    <tr>\n",
       "      <th>7</th>\n",
       "      <td>2016-05-25 16:28:51.095228517</td>\n",
       "      <td>2016-05-26 10:42:40.407233517</td>\n",
       "      <td>0 days 18:13:49.312005</td>\n",
       "    </tr>\n",
       "    <tr>\n",
       "      <th>benign</th>\n",
       "      <td>2016-05-04 09:38:44.365433000</td>\n",
       "      <td>2016-06-09 13:29:51.193338000</td>\n",
       "      <td>36 days 03:51:06.827905</td>\n",
       "    </tr>\n",
       "  </tbody>\n",
       "</table>\n",
       "</div>"
      ],
      "text/plain": [
       "                                 start                          stop  \\\n",
       "incident                                                               \n",
       "1        2016-05-16 16:31:50.466608319 2016-05-16 16:51:06.689531319   \n",
       "2        2016-05-14 10:53:41.653743935 2016-05-28 20:09:53.720358935   \n",
       "3        2016-05-25 11:19:08.425718726 2016-05-29 06:06:03.484347726   \n",
       "4        2016-05-10 20:46:46.151746678 2016-05-10 23:10:14.807177678   \n",
       "5        2016-05-09 14:19:34.892793726 2016-05-09 15:46:29.194547726   \n",
       "6        2016-06-03 12:31:40.013050055 2016-06-04 00:34:31.471851055   \n",
       "7        2016-05-25 16:28:51.095228517 2016-05-26 10:42:40.407233517   \n",
       "benign   2016-05-04 09:38:44.365433000 2016-06-09 13:29:51.193338000   \n",
       "\n",
       "                             dur  \n",
       "incident                          \n",
       "1         0 days 00:19:16.222923  \n",
       "2        14 days 09:16:12.066615  \n",
       "3         3 days 18:46:55.058629  \n",
       "4         0 days 02:23:28.655431  \n",
       "5         0 days 01:26:54.301754  \n",
       "6         0 days 12:02:51.458801  \n",
       "7         0 days 18:13:49.312005  \n",
       "benign   36 days 03:51:06.827905  "
      ]
     },
     "execution_count": 187,
     "metadata": {},
     "output_type": "execute_result"
    }
   ],
   "source": [
    "# apply shift\n",
    "shifted_data = pd.merge(data, df_ts.reset_index(), on='incident')\n",
    "shifted_data['ts'] = shifted_data['ts'] + shifted_data['shift']\n",
    "assert shifted_data['ts'].max() == data.groupby(['incident']).max().loc['benign']['ts']\n",
    "assert shifted_data['ts'].min() == data.groupby(['incident']).min().loc['benign']['ts']\n",
    "data = shifted_data\n",
    "data = data[data_tmp.columns] # only original rows\n",
    "\n",
    "df_ts = data[['incident', 'ts']].groupby('incident').agg(['min', 'max'])['ts']\n",
    "df_ts.columns = ['start', 'stop', ]\n",
    "df_ts['dur'] = df_ts['stop']-df_ts['start']\n",
    "df_ts"
   ]
  },
  {
   "cell_type": "code",
   "execution_count": 188,
   "metadata": {
    "collapsed": false
   },
   "outputs": [
    {
     "data": {
      "text/plain": [
       "[<matplotlib.lines.Line2D at 0xa0873390>]"
      ]
     },
     "execution_count": 188,
     "metadata": {},
     "output_type": "execute_result"
    },
    {
     "data": {
      "image/png": "[encoded data removed]",
      "text/plain": [
       "<matplotlib.figure.Figure at 0x9e654d50>"
      ]
     },
     "metadata": {},
     "output_type": "display_data"
    }
   ],
   "source": [
    "time_span_plot(df_ts)\n",
    "ax.plot(new_start_min, 0, 'og')\n",
    "ax.plot(new_start_max[:-1], range(1, len(new_start_max)), 'or')"
   ]
  },
  {
   "cell_type": "code",
   "execution_count": 185,
   "metadata": {
    "collapsed": false
   },
   "outputs": [
    {
     "data": {
      "text/plain": [
       "[<matplotlib.lines.Line2D at 0x9f4f7090>]"
      ]
     },
     "execution_count": 185,
     "metadata": {},
     "output_type": "execute_result"
    },
    {
     "data": {
      "image/png": "[encoded data removed]",
      "text/plain": [
       "<matplotlib.figure.Figure at 0x9e6546d0>"
      ]
     },
     "metadata": {},
     "output_type": "display_data"
    }
   ],
   "source": []
  },
  {
   "cell_type": "code",
   "execution_count": 182,
   "metadata": {
    "collapsed": false
   },
   "outputs": [
    {
     "data": {
      "text/plain": [
       "[<matplotlib.lines.Line2D at 0x9f17bcd0>]"
      ]
     },
     "execution_count": 182,
     "metadata": {},
     "output_type": "execute_result"
    },
    {
     "data": {
      "image/png": "[encoded data removed]",
      "text/plain": [
       "<matplotlib.figure.Figure at 0x9d8a73d0>"
      ]
     },
     "metadata": {},
     "output_type": "display_data"
    }
   ],
   "source": []
  },
  {
   "cell_type": "code",
   "execution_count": 177,
   "metadata": {
    "collapsed": false
   },
   "outputs": [
    {
     "data": {
      "text/plain": [
       "[<matplotlib.lines.Line2D at 0x9f64d590>]"
      ]
     },
     "execution_count": 177,
     "metadata": {},
     "output_type": "execute_result"
    },
    {
     "data": {
      "image/png": "[encoded data removed]",
      "text/plain": [
       "<matplotlib.figure.Figure at 0x9fb76e90>"
      ]
     },
     "metadata": {},
     "output_type": "display_data"
    }
   ],
   "source": []
  },
  {
   "cell_type": "code",
   "execution_count": null,
   "metadata": {
    "collapsed": false
   },
   "outputs": [],
   "source": [
    "# rewrite victim IPs to match benign\n",
    "malicious_ips = data[data['victim_ip'] != 'benign']\\\n",
    "    [['incident', 'victim_ip']].drop_duplicates()\n",
    "\n",
    "data_benign = data[data['incident'] == 'benign']\n",
    "benign_ips = pd.Series(pd.concat([data_benign['srcip'],data_benign['dstip']]).unique(), name='benign_ips')\n",
    "def is_private_ip(string):\n",
    "    try:\n",
    "        return ipaddress.IPv4Address(string).is_private\n",
    "    except ipaddress.AddressValueError:\n",
    "        print(\"ignoring IPv6 addres: {}\".format(string))\n",
    "        return False\n",
    "    \n",
    "benign_ips = benign_ips[np.array(map(is_private_ip, benign_ips))] # only private\n",
    "benign_ips = benign_ips.sample(malicious_ips.shape[0], random_state=rndseed())\n",
    "df_replace = DataFrame(\n",
    "    zip(malicious_ips['incident'], malicious_ips['victim_ip'], benign_ips),\n",
    "    columns=['incident', 'from_ip', 'to_ip']\n",
    ")\n",
    "df_replace"
   ]
  },
  {
   "cell_type": "code",
   "execution_count": null,
   "metadata": {
    "collapsed": false
   },
   "outputs": [],
   "source": [
    "# perform IP replacement\n",
    "src_update = pd.merge(data.reset_index(), df_replace, left_on=['incident', 'srcip'], right_on=['incident', 'from_ip'])\n",
    "src_update['srcip'] = src_update['to_ip']\n",
    "src_update = src_update.drop(['from_ip', 'to_ip'], axis=1)\n",
    "src_update = src_update.set_index('index')\n",
    "data.update(src_update)\n",
    "\n",
    "dst_update = pd.merge(data.reset_index(), df_replace, left_on=['incident', 'dstip'], right_on=['incident', 'from_ip'])\n",
    "dst_update['dstip'] = dst_update['to_ip']\n",
    "dst_update = dst_update.drop(['from_ip', 'to_ip'], axis=1)\n",
    "dst_update = dst_update.set_index('index')\n",
    "data.update(dst_update)\n",
    "\n",
    "assert (np.array(src_update.groupby('incident').size()) > 0).all(), \"No src updated, highly suspicous\"\n",
    "assert (np.array(dst_update.groupby('incident').size()) > 0).all(), \"No dst updated, highly suspicous\"\n",
    "assert pd.merge(data, df_replace, left_on=['incident', 'srcip'], right_on=['incident', 'from_ip']).shape[0] == 0\n",
    "assert pd.merge(data, df_replace, left_on=['incident', 'dstip'], right_on=['incident', 'from_ip']).shape[0] == 0"
   ]
  },
  {
   "cell_type": "code",
   "execution_count": null,
   "metadata": {
    "collapsed": false
   },
   "outputs": [],
   "source": [
    "start = 0 # data.shape[0]//2\n",
    "stop = data.shape[0] // 2\n",
    "\n",
    "# data overview\n",
    "# by incident\n",
    "df_inc_cnt = DataFrame(data[start:stop].groupby(['incident']).size().rename('inc_cnt').reset_index())\n",
    "df_inc_cnt['inc_cnt_pct'] = df_inc_cnt['inc_cnt']/data[start:stop].count()[0]*100\n",
    "\n",
    "df_inc_prio_cnt = DataFrame(\n",
    "    pd.merge(data[start:stop], df_inc_cnt, on='incident').groupby(['incident', 'prio', 'inc_cnt']\n",
    ").size().rename('inc_prio_cnt').reset_index())\n",
    "df_inc_prio_cnt['inc_prio_cnt_pct'] = df_inc_prio_cnt['inc_prio_cnt']/df_inc_prio_cnt['inc_cnt']*100\n",
    "\n",
    "df_overview = pd.merge(df_inc_cnt, df_inc_prio_cnt).groupby(['incident', 'prio']).first().reset_index()\n",
    "\n",
    "tot_prio = data[start:stop].groupby(['prio']).size().rename('inc_prio_cnt')\n",
    "df_tot = DataFrame(tot_prio)\n",
    "df_tot['inc_prio_cnt_pct'] = df_tot['inc_prio_cnt']/data[start:stop].count()[0]*100\n",
    "df_tot['inc_cnt'] = data[start:stop].count()[0]\n",
    "df_tot['inc_cnt_pct'] = 100\n",
    "df_tot['incident'] = 'total'\n",
    "\n",
    "df_overview = pd.concat([df_overview.reset_index(), df_tot.reset_index()])\\\n",
    "    .groupby(['incident', 'inc_cnt', 'inc_cnt_pct', 'prio', 'inc_prio_cnt', 'inc_prio_cnt_pct', ])\\\n",
    "    .first().drop('index', 1)\n",
    "\n",
    "df_overview"
   ]
  },
  {
   "cell_type": "code",
   "execution_count": null,
   "metadata": {
    "collapsed": true
   },
   "outputs": [],
   "source": []
  }
 ],
 "metadata": {
  "kernelspec": {
   "display_name": "Python 2",
   "language": "python",
   "name": "python2"
  },
  "language_info": {
   "codemirror_mode": {
    "name": "ipython",
    "version": 2
   },
   "file_extension": ".py",
   "mimetype": "text/x-python",
   "name": "python",
   "nbconvert_exporter": "python",
   "pygments_lexer": "ipython2",
   "version": "2.7.3"
  }
 },
 "nbformat": 4,
 "nbformat_minor": 0
}
