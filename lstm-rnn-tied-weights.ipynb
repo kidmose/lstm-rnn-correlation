{
 "cells": [
  {
   "cell_type": "markdown",
   "metadata": {},
   "source": [
    "Copyright (C) Egon Kidmose 2015-2017\n",
    "\n",
    "This file is part of lstm-rnn-correlation.\n",
    "\n",
    "lstm-rnn-correlation is free software: you can redistribute it and/or\n",
    "modify it under the terms of the GNU Lesser General Public License as\n",
    "published by the Free Software Foundation, either version 3 of the\n",
    "License, or (at your option) any later version.\n",
    "\n",
    "lstm-rnn-correlation is distributed in the hope that it will be\n",
    "useful, but WITHOUT ANY WARRANTY; without even the implied warranty of\n",
    "MERCHANTABILITY or FITNESS FOR A PARTICULAR PURPOSE.  See the GNU\n",
    "Lesser General Public License for more details.\n",
    "\n",
    "You should have received a copy of the GNU Lesser General Public\n",
    "License along with lstm-rnn-correlation. If not, see\n",
    "<http://www.gnu.org/licenses/>.\n"
   ]
  },
  {
   "cell_type": "markdown",
   "metadata": {},
   "source": [
    "# Alert correlation with a Long Short-Term Memoroy (LSTM) Recurrent Neural Network(RNN) and cosine similarity\n",
    "\n",
    "**Author:** Egon Kidmose, egk@es.aau.dk\n",
    "\n",
    "In network security a common task is to detect network intrusions and for this purpose an Intrusion Detections System (IDS) can be used to raise alerts on suspicious network traffic.\n",
    "Snort, Suricata and Bro are examples of free and open source IDSs (Commercial products also exist).\n",
    "The alerts generally provides low level information such as recognition of strings that are known to be part of security exploits or anomalous connection rates for a host.\n",
    "By grouping alerts that are correlated into higher level events, false positives might be suppressed and attack scenarios becomes easier to recognise. \n",
    "This is a take on how to correlate IDS alerts to determine which belong in the same group.\n",
    "\n",
    "Alerts can be represented as log lines with various information such as time stamp, IP adresses, protocol information and a description of what triggered the alert. \n",
    "It is assumed that such a log lines hold the information needed to determine if two alerts are correlated or not.\n",
    "\n",
    "The input to the neural network will be two alerts and the output will indicate if they are correlated or not. \n",
    "In further detail the inputs is two strings of ASCII characters of variable length. \n",
    "For the output a Cosine Similarity layer is implemented and used to produce an output in the range [-1,1], with -1 meaning opposite, 0 meaning orthogonal and 1 meaning the same. \n",
    "\n",
    "For the hidden layers only a single layers of Long Short-Term Memory (LSTM) cells is used.\n",
    "It is an option to experiment with adding more.\n",
    "Being reccurrent, such a layer handles variable length input well. \n",
    "\n",
    "While it turned out to be to challenging to implement, the initial idea was to let the two inputs pass through LSTM layers with identical weights.\n",
    "The intent was to have them act as transformations into a space where cosine similarity could be used to measure similarity of the alerts.\n",
    "However I have not succeded at tying the weights together.\n",
    "As an alternative this might be achieved by using all training pairs in both original and swapped order.\n",
    "The intuition is that this leads to two identical layers, but intuition also suggest that this is highly ineffective.\n",
    "\n",
    "                      Output\n",
    "                        |\n",
    "    Cosine similarity   #\n",
    "                       / \\\n",
    "        LSTM layers   #   #\n",
    "                      |   |\n",
    "        \"alert number 1\"  |\n",
    "            \"alert number 2\"\n",
    "\n",
    "\n",
    "Reference: Huang, Po-Sen, et al. \"Learning deep structured semantic models for web search using clickthrough data.\" Proceedings of the 22nd ACM international conference on Conference on information & knowledge management. ACM, 2013.\n"
   ]
  },
  {
   "cell_type": "code",
   "execution_count": null,
   "metadata": {
    "collapsed": false
   },
   "outputs": [],
   "source": [
    "from __future__ import print_function\n",
    "from __future__ import division\n",
    "\n",
    "import logging\n",
    "logging.getLogger().handlers = []\n",
    "\n",
    "import sys\n",
    "import os\n",
    "import time\n",
    "import glob\n",
    "import json\n",
    "\n",
    "import numpy as np\n",
    "import theano\n",
    "import theano.tensor as T\n",
    "\n",
    "import lasagne\n",
    "from lasagne.layers import *\n",
    "from lasagne.nonlinearities import *\n",
    "from lasagne.updates import *\n",
    "from lasagne.objectives import *\n",
    "\n",
    "import lstm_rnn_tied_weights\n",
    "from lstm_rnn_tied_weights import CosineSimilarityLayer\n",
    "from lstm_rnn_tied_weights import load_data, split_data, cross_join, iterate_minibatches\n",
    "logger = lstm_rnn_tied_weights.logger\n"
   ]
  },
  {
   "cell_type": "code",
   "execution_count": null,
   "metadata": {
    "collapsed": false
   },
   "outputs": [],
   "source": [
    "# Data for unit testing\n",
    "X_unit = ['abcdef', 'abcdef', 'qwerty']\n",
    "X_unit = [[ord(c) for c in w] for w in X_unit]\n",
    "X_unit = np.array(X_unit, dtype='int8')\n",
    "logger.debug(X_unit)\n",
    "n_alerts_unit, l_alerts_unit = X_unit.shape\n",
    "mask_unit = np.ones(X_unit.shape, dtype='int8')\n",
    "logger.debug(mask_unit)\n"
   ]
  },
  {
   "cell_type": "code",
   "execution_count": null,
   "metadata": {
    "collapsed": true
   },
   "outputs": [],
   "source": [
    "# Dimensions\n",
    "n_alerts = None\n",
    "l_alerts = None\n",
    "n_alphabet = 2**7 # All ASCII chars\n",
    "num_units = 10\n"
   ]
  },
  {
   "cell_type": "code",
   "execution_count": null,
   "metadata": {
    "collapsed": false
   },
   "outputs": [],
   "source": [
    "# Symbolic variables\n",
    "input_var, input_var2 = T.imatrices('inputs', 'inputs2')\n",
    "mask_var, mask_var2 = T.matrices('masks', 'masks2')\n",
    "target_var = T.dvector('targets')\n"
   ]
  },
  {
   "cell_type": "code",
   "execution_count": null,
   "metadata": {
    "collapsed": false
   },
   "outputs": [],
   "source": [
    "# First line\n",
    "l_in = InputLayer(shape=(n_alerts, l_alerts), input_var=input_var, name='INPUT-LAYER')\n",
    "l_emb = EmbeddingLayer(l_in, n_alphabet, n_alphabet, \n",
    "                         W=np.eye(n_alphabet),\n",
    "                         name='EMBEDDING-LAYER')\n",
    "l_emb.params[l_emb.W].remove('trainable') # Fix weight\n",
    "l_mask = InputLayer(shape=(n_alerts, l_alerts), input_var=mask_var, name='MASK-INPUT-LAYER')\n",
    "l_lstm = LSTMLayer(l_emb, num_units=num_units, name='LSTM-LAYER', mask_input=l_mask)\n",
    "l_slice = SliceLayer(l_lstm, indices=-1, axis=1, name=\"SLICE-LAYER\") # Only last timestep\n",
    "net = l_slice\n"
   ]
  },
  {
   "cell_type": "code",
   "execution_count": null,
   "metadata": {
    "collapsed": false
   },
   "outputs": [],
   "source": [
    "# Test first line\n",
    "\n",
    "# Test InputLayer\n",
    "pred_unit = get_output(l_in, inputs={l_in: input_var}).eval(\n",
    "    {input_var: X_unit})\n",
    "assert (pred_unit == X_unit).all(), \"Unexpected output\"\n",
    "# Test EmbeddingLayer\n",
    "pred_unit = get_output(l_emb, inputs={l_in: input_var}).eval(\n",
    "    {input_var: X_unit})\n",
    "assert (np.argmax(pred_unit, axis=2) == X_unit).all()\n",
    "assert np.all(pred_unit.shape == (n_alerts_unit, l_alerts_unit, n_alphabet ))\n",
    "# Test LSTMLayer\n",
    "pred_unit = get_output(\n",
    "    l_lstm,\n",
    "    inputs={l_in: input_var, l_mask: mask_var}\n",
    ").eval({input_var: X_unit, mask_var: mask_unit})\n",
    "assert pred_unit.shape == (n_alerts_unit, l_alerts_unit, num_units), \"Unexpected dimensions\"\n",
    "pred_unit = get_output(\n",
    "    l_lstm, \n",
    "    inputs={l_in: input_var, l_mask: mask_var}\n",
    ").eval({input_var: [[1],[1]], mask_var: [[1],[1]]})\n",
    "assert np.all(pred_unit[0] == pred_unit[1]), \"Repeated alerts must produce the same\"\n",
    "pred_unit = get_output(\n",
    "    l_lstm,\n",
    "    inputs={l_in: input_var, l_mask: mask_var}\n",
    ").eval({input_var: [[1,1],[1,1]], mask_var: [[1,1],[1,1]]})\n",
    "assert np.all(pred_unit[0] == pred_unit[1]), \"Repeated alerts must produce the same\"\n",
    "pred_unit = get_output(\n",
    "    l_lstm,\n",
    "    inputs={l_in: input_var, l_mask: mask_var}\n",
    ").eval({input_var: [[1,1],[0,1]], mask_var: [[1,1],[1,1]]})\n",
    "assert np.all(pred_unit[0] != pred_unit[1]), \"Earlier must affect laters\"\n",
    "pred_unit = get_output(\n",
    "    l_lstm,\n",
    "    inputs={l_in: input_var, l_mask: mask_var}\n",
    ").eval({input_var: [[1,0],[1,1]], mask_var: [[1,1],[1,1]]})\n",
    "assert np.all(pred_unit[0,0] == pred_unit[1,0]), \"Later must not affect earlier\"\n",
    "assert np.all(pred_unit[0,1] != pred_unit[1,1]), \"Current must make a difference\"\n",
    "# Test SliceLayer\n",
    "pred_unit = get_output(\n",
    "    l_slice,\n",
    "    inputs={l_in: input_var, l_mask: mask_var}\n",
    ").eval({input_var: X_unit, mask_var: mask_unit})\n",
    "assert pred_unit.shape == (n_alerts_unit, num_units), \"Unexpected shape\"\n",
    "pred_unit_lstm = get_output(\n",
    "    l_lstm,\n",
    "    inputs={l_in: input_var, l_mask: mask_var}\n",
    ").eval({input_var: X_unit, mask_var: mask_unit})\n",
    "assert np.all(pred_unit_lstm[:, -1, :] == pred_unit), \"Unexpected result of slicing\"\n",
    "\n",
    "logger.debug('OK')\n"
   ]
  },
  {
   "cell_type": "code",
   "execution_count": null,
   "metadata": {
    "collapsed": false
   },
   "outputs": [],
   "source": [
    "# Second line as a copy with shared weights\n",
    "l_in2 = InputLayer(shape=l_in.shape, input_var=input_var2, name=l_in.name+'2')\n",
    "l_mask2 = InputLayer(shape=l_mask.shape, input_var=mask_var2, name=l_mask.name+'2')\n",
    "net2 = lstm_rnn_tied_weights.clone(net, l_in2, l_mask2)\n"
   ]
  },
  {
   "cell_type": "code",
   "execution_count": null,
   "metadata": {
    "collapsed": false
   },
   "outputs": [],
   "source": [
    "# Merge lines\n",
    "l_cos = CosineSimilarityLayer(net, net2, name=\"COSINE-SIMILARITY-LAYER\")\n",
    "l_sig = NonlinearityLayer(l_cos, nonlinearity=sigmoid, name=\"SIGMOID-LAYER\")\n",
    "cos_net = l_sig\n"
   ]
  },
  {
   "cell_type": "code",
   "execution_count": null,
   "metadata": {
    "collapsed": false
   },
   "outputs": [],
   "source": [
    "# Training Procedure\n",
    "t = time.time()\n",
    "prediction = get_output(cos_net)\n",
    "loss = binary_crossentropy(prediction, target_var)\n",
    "loss = loss.mean()\n",
    "params = get_all_params(cos_net, trainable=True)\n",
    "updates = sgd(loss, params, learning_rate=0.1)\n",
    "\n",
    "# Testing Procedure\n",
    "test_prediction = get_output(cos_net, deterministic=True)\n",
    "test_loss = binary_crossentropy(test_prediction, target_var)\n",
    "test_loss = test_loss.mean()\n",
    "test_acc = T.mean(T.eq(test_prediction > 0.5, target_var),\n",
    "                  dtype=theano.config.floatX)\n",
    "\n",
    "train_fn = theano.function([input_var, input_var2, mask_var, mask_var2, target_var], loss, updates=updates)\n",
    "val_fn = theano.function([input_var, input_var2, mask_var, mask_var2, target_var], [test_loss, test_acc])\n",
    "logger.debug(\"Spent {}s compilling.\".format(time.time()-t))\n"
   ]
  },
  {
   "cell_type": "code",
   "execution_count": null,
   "metadata": {
    "collapsed": false,
    "scrolled": false
   },
   "outputs": [],
   "source": [
    "logger.info(\"Loading data...\")\n",
    "data = load_data(glob.glob('data/*.out'))\n",
    "train, val, test = split_data(*data)\n",
    "\n",
    "logger.info(\"Starting training...\")\n",
    "num_epochs = 10\n",
    "for epoch in range(num_epochs):\n",
    "    train_err = 0\n",
    "    train_batches = 0\n",
    "    start_time = time.time()\n",
    "    for batch in iterate_minibatches(cross_join(train, max_alerts=None), 1000):\n",
    "        train_err += train_fn(*batch)\n",
    "        train_batches += 1\n",
    "        logger.debug('Batch complete')\n",
    "    \n",
    "    #if (epoch+1) % (num_epochs/10) == 0:\n",
    "    if True:\n",
    "        val_err = 0\n",
    "        val_acc = 0\n",
    "        val_batches = 0\n",
    "        for batch in iterate_minibatches(cross_join(val, max_alerts=None), 1000):\n",
    "            err, acc = val_fn(*batch)\n",
    "            val_err += err\n",
    "            val_acc += acc\n",
    "            val_batches += 1\n",
    "\n",
    "        logger.info(\"Epoch {} of {} took {:.3f}s\".format(\n",
    "            epoch + 1, num_epochs, time.time() - start_time))\n",
    "        logger.info(\"  training loss:\\t\\t{:.20f}\".format(train_err / train_batches))\n",
    "        logger.info(\"  validation loss:\\t\\t{:.6f}\".format(val_err / val_batches))\n",
    "        logger.info(\"  validation accuracy:\\t\\t{:.2f} %\".format(\n",
    "            val_acc / val_batches * 100))\n",
    "    logger.debug('Epoch complete')\n",
    "\n",
    "test_err = 0\n",
    "test_acc = 0\n",
    "test_batches = 0\n",
    "for batch in iterate_minibatches(cross_join(test, max_alerts=None), 1000):\n",
    "    err, acc = val_fn(*batch)\n",
    "    test_err += err\n",
    "    test_acc += acc\n",
    "    test_batches += 1\n",
    "logger.info(\"Final results:\")\n",
    "logger.info(\"  test loss:\\t\\t\\t{:.6f}\".format(test_err / test_batches))\n",
    "logger.info(\"  test accuracy:\\t\\t{:.2f} %\".format(\n",
    "    test_acc / test_batches * 100))\n",
    "\n",
    "model = {'model':{str(p): v.tolist() for p, v in zip(get_all_params(cos_net), get_all_param_values(cos_net))}}\n",
    "model_str = json.dumps(model)\n",
    "logger.debug('Dumping model parameters:')\n",
    "logger.debug(model_str)\n",
    "\n",
    "    \n"
   ]
  },
  {
   "cell_type": "code",
   "execution_count": null,
   "metadata": {
    "collapsed": false
   },
   "outputs": [],
   "source": []
  }
 ],
 "metadata": {
  "kernelspec": {
   "display_name": "Python 3",
   "language": "python",
   "name": "python3"
  },
  "language_info": {
   "codemirror_mode": {
    "name": "ipython",
    "version": 3
   },
   "file_extension": ".py",
   "mimetype": "text/x-python",
   "name": "python",
   "nbconvert_exporter": "python",
   "pygments_lexer": "ipython3",
   "version": "3.4.0"
  }
 },
 "nbformat": 4,
 "nbformat_minor": 0
}
