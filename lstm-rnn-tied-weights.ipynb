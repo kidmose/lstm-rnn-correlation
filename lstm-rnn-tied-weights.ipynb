{
 "cells": [
  {
   "cell_type": "markdown",
   "metadata": {},
   "source": [
    "Copyright (C) Egon Kidmose 2015-2017\n",
    "\n",
    "This file is part of lstm-rnn-correlation.\n",
    "\n",
    "lstm-rnn-correlation is free software: you can redistribute it and/or\n",
    "modify it under the terms of the GNU Lesser General Public License as\n",
    "published by the Free Software Foundation, either version 3 of the\n",
    "License, or (at your option) any later version.\n",
    "\n",
    "lstm-rnn-correlation is distributed in the hope that it will be\n",
    "useful, but WITHOUT ANY WARRANTY; without even the implied warranty of\n",
    "MERCHANTABILITY or FITNESS FOR A PARTICULAR PURPOSE.  See the GNU\n",
    "Lesser General Public License for more details.\n",
    "\n",
    "You should have received a copy of the GNU Lesser General Public\n",
    "License along with lstm-rnn-correlation. If not, see\n",
    "<http://www.gnu.org/licenses/>.\n"
   ]
  },
  {
   "cell_type": "markdown",
   "metadata": {},
   "source": [
    "# Alert correlation with a Long Short-Term Memoroy (LSTM) Recurrent Neural Network(RNN) and cosine similarity\n",
    "\n",
    "**Author:** Egon Kidmose, egk@es.aau.dk\n",
    "\n",
    "In network security a common task is to detect network intrusions and for this purpose an Intrusion Detections System (IDS) can be used to raise alerts on suspicious network traffic.\n",
    "Snort, Suricata and Bro are examples of free and open source IDSs (Commercial products also exist).\n",
    "The alerts generally provides low level information such as recognition of strings that are known to be part of security exploits or anomalous connection rates for a host.\n",
    "By grouping alerts that are correlated into higher level events, false positives might be suppressed and attack scenarios becomes easier to recognise. \n",
    "This is a take on how to correlate IDS alerts to determine which belong in the same group.\n",
    "\n",
    "Alerts can be represented as log lines with various information such as time stamp, IP adresses, protocol information and a description of what triggered the alert. \n",
    "It is assumed that such a log lines hold the information needed to determine if two alerts are correlated or not.\n",
    "\n",
    "The input to the neural network will be two alerts and the output will indicate if they are correlated or not. \n",
    "In further detail the inputs is two strings of ASCII characters of variable length. \n",
    "For the output a Cosine Similarity layer is implemented and used to produce an output in the range [-1,1], with -1 meaning opposite, 0 meaning orthogonal and 1 meaning the same. \n",
    "\n",
    "For the hidden layers only a single layers of Long Short-Term Memory (LSTM) cells is used.\n",
    "It is an option to experiment with adding more.\n",
    "Being reccurrent, such a layer handles variable length input well. \n",
    "\n",
    "While it turned out to be to challenging to implement, the initial idea was to let the two inputs pass through LSTM layers with identical weights.\n",
    "The intent was to have them act as transformations into a space where cosine similarity could be used to measure similarity of the alerts.\n",
    "However I have not succeded at tying the weights together.\n",
    "As an alternative this might be achieved by using all training pairs in both original and swapped order.\n",
    "The intuition is that this leads to two identical layers, but intuition also suggest that this is highly ineffective.\n",
    "\n",
    "                      Output\n",
    "                        |\n",
    "    Cosine similarity   #\n",
    "                       / \\\n",
    "        LSTM layers   #   #\n",
    "                      |   |\n",
    "        \"alert number 1\"  |\n",
    "            \"alert number 2\"\n",
    "\n",
    "\n",
    "Reference: Huang, Po-Sen, et al. \"Learning deep structured semantic models for web search using clickthrough data.\" Proceedings of the 22nd ACM international conference on Conference on information & knowledge management. ACM, 2013.\n"
   ]
  },
  {
   "cell_type": "code",
   "execution_count": null,
   "metadata": {
    "collapsed": false
   },
   "outputs": [],
   "source": [
    "from __future__ import print_function\n",
    "\n",
    "import sys\n",
    "import os\n",
    "import time\n",
    "\n",
    "import numpy as np\n",
    "import theano\n",
    "import theano.tensor as T\n",
    "\n",
    "import lasagne\n",
    "from lasagne.layers import *\n",
    "from lasagne.nonlinearities import *\n",
    "from lasagne.updates import *\n",
    "from lasagne.objectives import *"
   ]
  },
  {
   "cell_type": "code",
   "execution_count": null,
   "metadata": {
    "collapsed": true
   },
   "outputs": [],
   "source": [
    "def load_dataset(\n",
    "    ntrain=100,\n",
    "    nval=100,\n",
    "    ntest=100,\n",
    "):\n",
    "    X_unit = ['abcdef', 'abcdef', 'qwerty']\n",
    "    X_unit = [[ord(c) for c in w] for w in X_unit]\n",
    "    X_unit = np.array(X_unit, dtype='int8')\n",
    "    \n",
    "    X_train = np.array(list(zip(X_unit, X_unit[::-1])))\n",
    "    y_train = np.array([0, 1, 0])\n",
    "\n",
    "    X_val, y_val = X_train, y_train\n",
    "    X_test, y_test = X_train, y_train\n",
    "    return X_train, y_train, X_val, y_val, X_test, y_test\n",
    "\n",
    "def iterate_minibatches(inputs, targets, batchsize, shuffle=False):\n",
    "    assert len(inputs) == len(targets)\n",
    "    if shuffle:\n",
    "        indices = np.arange(len(inputs))\n",
    "        np.random.shuffle(indices)\n",
    "    for start_idx in range(0, len(inputs) - batchsize + 1, batchsize):\n",
    "        if shuffle:\n",
    "            excerpt = indices[start_idx:start_idx + batchsize]\n",
    "        else:\n",
    "            excerpt = slice(start_idx, start_idx + batchsize)\n",
    "        yield inputs[excerpt], targets[excerpt]"
   ]
  },
  {
   "cell_type": "code",
   "execution_count": null,
   "metadata": {
    "collapsed": false
   },
   "outputs": [],
   "source": [
    "X_train, y_train, X_val, y_val, X_test, y_test = load_dataset()\n",
    "\n",
    "# For unit testing\n",
    "# X_unit, y_unit, _, _, _, _ = load_dataset(2, min_digits=1, max_digits=1)\n",
    "X_unit = ['abcdef', 'abcdef', 'qwerty']\n",
    "X_unit = [[ord(c) for c in w] for w in X_unit]\n",
    "X_unit = np.array(X_unit, dtype='int8')\n",
    "print(X_unit)\n",
    "n_alerts_unit, l_alerts_unit = X_unit.shape"
   ]
  },
  {
   "cell_type": "markdown",
   "metadata": {},
   "source": [
    "# First line of network"
   ]
  },
  {
   "cell_type": "code",
   "execution_count": null,
   "metadata": {
    "collapsed": false
   },
   "outputs": [],
   "source": [
    "input_var = T.imatrix('inputs')\n",
    "target_var = T.dvector('targets')\n",
    "\n",
    "# Input layer\n",
    "n_alerts = None\n",
    "l_alerts = None\n",
    "l_in = InputLayer(shape=(n_alerts, l_alerts), input_var=input_var, name='INPUT-LAYER') # \n",
    "\n",
    "# Test\n",
    "pred_unit = get_output(l_in, inputs={l_in: input_var}).eval(\n",
    "    {input_var: X_unit})\n",
    "assert (pred_unit == X_unit).all(), \"Unexpected output\"\n",
    "\n",
    "print(pred_unit)"
   ]
  },
  {
   "cell_type": "code",
   "execution_count": null,
   "metadata": {
    "collapsed": false
   },
   "outputs": [],
   "source": [
    "# Embedding layer\n",
    "n_alphabet = 2**7 # All ASCII chars\n",
    "\n",
    "l_emb = EmbeddingLayer(l_in, n_alphabet, n_alphabet, \n",
    "                         W=np.eye(n_alphabet),\n",
    "                         name='EMBEDDING-LAYER')\n",
    "l_emb.params[l_emb.W].remove('trainable') # Fix weight\n",
    "\n",
    "# Test\n",
    "pred_unit = get_output(l_emb, inputs={l_in: input_var}).eval(\n",
    "    {input_var: X_unit})\n",
    "assert (np.argmax(pred_unit, axis=2) == X_unit).all()\n",
    "assert np.all(pred_unit.shape == (n_alerts_unit, l_alerts_unit, n_alphabet ))\n",
    "print(pred_unit.shape)\n",
    "print(pred_unit)\n"
   ]
  },
  {
   "cell_type": "code",
   "execution_count": null,
   "metadata": {
    "collapsed": false
   },
   "outputs": [],
   "source": [
    "# Recurrent LSTM layer\n",
    "num_units = 10\n",
    "l_lstm = LSTMLayer(l_emb, num_units=num_units, name='LSTM-LAYER')\n",
    "\n",
    "# Test\n",
    "pred_unit = get_output(l_lstm, inputs={l_in: input_var}).eval({input_var: X_unit})\n",
    "assert pred_unit.shape == (n_alerts_unit, l_alerts_unit, num_units), \"Unexpected dimensions\"\n",
    "print(pred_unit)\n",
    "\n",
    "pred_unit = get_output(l_lstm, inputs={l_in: input_var}).eval({input_var: [[1],[1]]})\n",
    "assert np.all(pred_unit[0] == pred_unit[1]), \"Repeated alerts must produce the same\"\n",
    "\n",
    "pred_unit = get_output(l_lstm, inputs={l_in: input_var}).eval({input_var: [[1,1],[1,1]]})\n",
    "assert np.all(pred_unit[0] == pred_unit[1]), \"Repeated alerts must produce the same\"\n",
    "\n",
    "pred_unit = get_output(l_lstm, inputs={l_in: input_var}).eval({input_var: [[1,1],[0,1]]})\n",
    "assert np.all(pred_unit[0] != pred_unit[1]), \"Earlier must affect laters\"\n",
    "\n",
    "pred_unit = get_output(l_lstm, inputs={l_in: input_var}).eval({input_var: [[1,0],[1,1]]})\n",
    "assert np.all(pred_unit[0,0] == pred_unit[1,0]), \"Later must not affect earlier\"\n",
    "assert np.all(pred_unit[0,1] != pred_unit[1,1]), \"Current must make a difference\""
   ]
  },
  {
   "cell_type": "code",
   "execution_count": null,
   "metadata": {
    "collapsed": false
   },
   "outputs": [],
   "source": [
    "# Slice Layer\n",
    "# Pick the outputs for the last entry in the sequences. \n",
    "\n",
    "l_slice = SliceLayer(l_lstm, indices=-1, axis=1, name=\"SLICE-LAYER\")\n",
    "\n",
    "# Test\n",
    "pred_unit = get_output(l_slice, inputs={l_in: input_var}).eval({input_var: X_unit})\n",
    "assert pred_unit.shape == (n_alerts_unit, num_units), \"Unexpected shape\"\n",
    "\n",
    "pred_unit_lstm = get_output(l_lstm, inputs={l_in: input_var}).eval({input_var: X_unit})\n",
    "assert np.all(pred_unit_lstm[:, -1, :] == pred_unit), \"Unexpected result of slicing\"\n",
    "print(pred_unit)\n",
    "\n",
    "net = l_slice"
   ]
  },
  {
   "cell_type": "markdown",
   "metadata": {},
   "source": [
    "# Clone line, tie weights"
   ]
  },
  {
   "cell_type": "code",
   "execution_count": null,
   "metadata": {
    "collapsed": false
   },
   "outputs": [],
   "source": [
    "# Create an identical test network, with tied weights\n",
    "input_var2 = T.imatrix('inputs2')\n",
    "l_in2 = InputLayer(\n",
    "    shape=l_in.shape, \n",
    "    input_var=input_var2, \n",
    "    name=l_in.name+'2',\n",
    ")\n",
    "net2 = l_in2\n",
    "\n",
    "for l in get_all_layers(net):\n",
    "    print(\"{} ({}):\".format(l.name, l))\n",
    "    if type(l) == InputLayer:\n",
    "        print(' - skipping')\n",
    "        continue\n",
    "    if type(l) == DenseLayer:\n",
    "        net2 = DenseLayer(\n",
    "            net2,\n",
    "            num_units=l.num_units,\n",
    "            W=l.W,\n",
    "            b=l.b,\n",
    "            nonlinearity=l.nonlinearity,\n",
    "            name=l.name+'2',\n",
    "        )\n",
    "    elif type(l) == EmbeddingLayer:\n",
    "        net2 = EmbeddingLayer(\n",
    "            net2,\n",
    "            l.input_size,\n",
    "            l.output_size,\n",
    "            W=l.W,\n",
    "            name=l.name+'2',\n",
    "        )\n",
    "    elif type(l) == LSTMLayer:\n",
    "        net2 = LSTMLayer(\n",
    "            net2,\n",
    "            l.num_units,\n",
    "            ingate=Gate(W_in=l.W_in_to_ingate, W_hid=l.W_hid_to_ingate, W_cell=l.W_cell_to_ingate, b=l.b_ingate, nonlinearity=l.nonlinearity_ingate),\n",
    "            forgetgate=Gate(W_in=l.W_in_to_forgetgate, W_hid=l.W_hid_to_forgetgate, W_cell=l.W_cell_to_forgetgate, b=l.b_forgetgate, nonlinearity=l.nonlinearity_forgetgate),\n",
    "            cell=Gate(W_in=l.W_in_to_cell, W_hid=l.W_hid_to_cell, W_cell=None, b=l.b_cell, nonlinearity=l.nonlinearity_cell),\n",
    "            outgate=Gate(W_in=l.W_in_to_outgate, W_hid=l.W_hid_to_outgate, W_cell=l.W_cell_to_outgate, b=l.b_outgate, nonlinearity=l.nonlinearity_outgate),\n",
    "            nonlinearity=l.nonlinearity,\n",
    "            cell_init=l.cell_init,\n",
    "            hid_init=l.hid_init,\n",
    "            backwards=l.backwards,\n",
    "            learn_init=l.learn_init,\n",
    "            peepholes=l.peepholes,\n",
    "            gradient_steps=l.gradient_steps,\n",
    "            grad_clipping=l.grad_clipping,\n",
    "            unroll_scan=l.unroll_scan,\n",
    "            precompute_input=l.precompute_input,\n",
    "            # mask_input=l.mask_input, # AttributeError: 'LSTMLayer' object has no attribute 'mask_input'\n",
    "            name=l.name+'2',\n",
    "        )\n",
    "    elif type(l) == SliceLayer:\n",
    "        net2 = SliceLayer(\n",
    "            net2,\n",
    "            indices=l.slice,\n",
    "            axis=l.axis,\n",
    "            name=l.name+'2',\n",
    "        )\n",
    "    else:\n",
    "        raise ValueError(\"Unhandled layer: {}\".format(l))\n",
    "    print(' - added layer: {} ({})'.format(get_all_layers(net2)[-1], get_all_layers(net2)[-1].name))\n",
    "print()\n",
    "\n",
    "# Test\n",
    "pred_unit = get_output(net, inputs={l_in: input_var}).eval({input_var: X_unit})\n",
    "pred_unit2 = get_output(net2, inputs={l_in2: input_var2}).eval({input_var2: X_unit})\n",
    "assert pred_unit.shape == pred_unit2.shape\n",
    "assert np.all(pred_unit == pred_unit2)\n",
    "\n",
    "print(pred_unit)\n",
    "print(pred_unit2)"
   ]
  },
  {
   "cell_type": "markdown",
   "metadata": {},
   "source": [
    "$\\cos(\\theta) = {A \\cdot B \\over \\|A\\| \\|B\\|} = \\frac{ \\sum\\limits_{i=1}^{n}{A_i \\times B_i} }{ \\sqrt{\\sum\\limits_{i=1}^{n}{(A_i)^2}} \\times \\sqrt{\\sum\\limits_{i=1}^{n}{(B_i)^2}} }$"
   ]
  },
  {
   "cell_type": "code",
   "execution_count": null,
   "metadata": {
    "collapsed": false
   },
   "outputs": [],
   "source": [
    "# Cosine similarity layer implementation\n",
    "class CosineSimilarityLayer(MergeLayer):\n",
    "    \"\"\"Calculates the cosine of two inputs.\"\"\"\n",
    "    def __init__(self, incoming1, incoming2, **kwargs):\n",
    "        \"\"\"Instantiates the layer with incoming1 and incoming2 as the inputs.\"\"\"\n",
    "        incomings = [incoming1, incoming2]\n",
    "        \n",
    "        for incoming in incomings:\n",
    "            if isinstance(incoming, tuple):\n",
    "                if len(incoming) != 2:\n",
    "                    raise NotImplementedError(\"Requires shape to be exactly (BATCH_SIZE, N).\")\n",
    "            elif len(incoming.output_shape) != 2:\n",
    "                raise NotImplementedError(\"Requires shape to be exactly (BATCH_SIZE, N).\")\n",
    "                \n",
    "        super(CosineSimilarityLayer, self).__init__(incomings, **kwargs)\n",
    "    \n",
    "    def get_output_shape_for(self, input_shapes):\n",
    "        \"\"\"Return output shape: (batch_size, 1).\"\"\"\n",
    "        if len(input_shapes) != 2:\n",
    "            raise ValueError(\"Requires exactly 2 input_shapes\")\n",
    "\n",
    "        for input_shape in input_shapes:\n",
    "            if len(input_shape) != 2:\n",
    "                raise NotImplementedError(\"Requires shape to be exactly (BATCH_SIZE, N).\")\n",
    "\n",
    "        return (input_shape[0],)\n",
    "    \n",
    "    def get_output_for(self, inputs, **kwargs):\n",
    "        \"\"\"Calculates the cosine similarity.\"\"\"\n",
    "        nominator = (inputs[0] * inputs[1]).sum(axis=1)\n",
    "        denominator = T.sqrt((inputs[0]**2).sum(axis=1)) * T.sqrt((inputs[1]**2).sum(axis=1))\n",
    "        return nominator/denominator\n",
    "        \n",
    "# Test\n",
    "test_in_1 = InputLayer((None, None))\n",
    "test_in_2 = InputLayer((None, None))\n",
    "test_layer = CosineSimilarityLayer(test_in_1, test_in_2)\n",
    "in1, in2 = T.dmatrices('in1', 'in2')\n",
    "\n",
    "pred_unit = lasagne.layers.get_output(test_layer, inputs={\n",
    "        test_in_1: in1,\n",
    "        test_in_2: in2\n",
    "    }).eval({\n",
    "        in1: [[0, 1], [1, 0], [0, -1]],\n",
    "        in2: [[0, 1], [0, 1], [0, 1]],\n",
    "    })\n",
    "assert len(pred_unit.shape) == len(test_layer.output_shape), \"Dimension mismatch\"\n",
    "assert (pred_unit == [ 1.,  0., -1.]).all(), \"Invalid output\"\n",
    "print('OK')"
   ]
  },
  {
   "cell_type": "code",
   "execution_count": null,
   "metadata": {
    "collapsed": false
   },
   "outputs": [],
   "source": [
    "# Cosine similarity layer\n",
    "net = CosineSimilarityLayer(net, net2, name=\"COSINE-SIMILARITY-LAYER\")\n",
    "\n",
    "pred_unit = get_output(net, inputs={\n",
    "        l_in: input_var, l_in2: input_var2\n",
    "    }).eval({\n",
    "        input_var: X_unit, input_var2: X_unit\n",
    "    })\n",
    "\n",
    "assert pred_unit.shape == (n_alerts_unit,)\n",
    "print(pred_unit)\n"
   ]
  },
  {
   "cell_type": "code",
   "execution_count": null,
   "metadata": {
    "collapsed": true
   },
   "outputs": [],
   "source": [
    "# Sigmoid layer\n",
    "net = NonlinearityLayer(net, nonlinearity=sigmoid)\n"
   ]
  },
  {
   "cell_type": "code",
   "execution_count": null,
   "metadata": {
    "collapsed": false
   },
   "outputs": [],
   "source": [
    "# Training\n",
    "prediction = get_output(net)\n",
    "loss = binary_crossentropy(prediction, target_var)\n",
    "loss = loss.mean()\n",
    "params = get_all_params(net, trainable=True)\n",
    "updates = sgd(loss, params, learning_rate=0.1)\n",
    "\n",
    "# Testing\n",
    "test_prediction = get_output(net, deterministic=True)\n",
    "test_loss = binary_crossentropy(test_prediction, target_var)\n",
    "test_loss = test_loss.mean()\n",
    "test_acc = T.mean(T.eq(test_prediction > 0.5, target_var),\n",
    "                  dtype=theano.config.floatX)\n",
    "\n",
    "train_fn = theano.function([input_var, input_var2, target_var], loss, updates=updates)\n",
    "val_fn = theano.function([input_var, input_var2, target_var], [test_loss, test_acc])"
   ]
  },
  {
   "cell_type": "code",
   "execution_count": null,
   "metadata": {
    "collapsed": false
   },
   "outputs": [],
   "source": [
    "print(\"Starting training...\")\n",
    "X_train, y_train, X_val, y_val, X_test, y_test = load_dataset(100,100,100)\n",
    "\n",
    "num_epochs = 100\n",
    "for epoch in range(num_epochs):\n",
    "    train_err = 0\n",
    "    train_batches = 0\n",
    "    start_time = time.time()\n",
    "    for batch in iterate_minibatches(X_train, y_train, 3, shuffle=True):\n",
    "        inputs, targets = batch\n",
    "        train_err += train_fn(inputs[:,0], inputs[:,1], targets)\n",
    "        train_batches += 1\n",
    "\n",
    "    if (epoch+1) % 20 == 0:\n",
    "        val_err = 0\n",
    "        val_acc = 0\n",
    "        val_batches = 0\n",
    "        for batch in iterate_minibatches(X_val, y_val, 3, shuffle=False):\n",
    "            inputs, targets = batch\n",
    "            err, acc = val_fn(inputs[:,0], inputs[:,1], targets)\n",
    "            val_err += err\n",
    "            val_acc += acc\n",
    "            val_batches += 1\n",
    "\n",
    "        print(\"Epoch {} of {} took {:.3f}s\".format(\n",
    "            epoch + 1, num_epochs, time.time() - start_time))\n",
    "        print(\"  training loss:\\t\\t{:.6f}\".format(train_err / train_batches))\n",
    "        print(\"  validation loss:\\t\\t{:.6f}\".format(val_err / val_batches))\n",
    "        print(\"  validation accuracy:\\t\\t{:.2f} %\".format(\n",
    "            val_acc / val_batches * 100))\n",
    "\n",
    "test_err = 0\n",
    "test_acc = 0\n",
    "test_batches = 0\n",
    "for batch in iterate_minibatches(X_test, y_test, 3, shuffle=False):\n",
    "    inputs, targets = batch\n",
    "    err, acc = val_fn(inputs[:,0], inputs[:,1], targets)\n",
    "    test_err += err\n",
    "    test_acc += acc\n",
    "    test_batches += 1\n",
    "print(\"Final results:\")\n",
    "print(\"  test loss:\\t\\t\\t{:.6f}\".format(test_err / test_batches))\n",
    "print(\"  test accuracy:\\t\\t{:.2f} %\".format(\n",
    "    test_acc / test_batches * 100))"
   ]
  },
  {
   "cell_type": "code",
   "execution_count": null,
   "metadata": {
    "collapsed": true
   },
   "outputs": [],
   "source": []
  }
 ],
 "metadata": {
  "kernelspec": {
   "display_name": "Python 3",
   "language": "python",
   "name": "python3"
  },
  "language_info": {
   "codemirror_mode": {
    "name": "ipython",
    "version": 3
   },
   "file_extension": ".py",
   "mimetype": "text/x-python",
   "name": "python",
   "nbconvert_exporter": "python",
   "pygments_lexer": "ipython3",
   "version": "3.4.2"
  }
 },
 "nbformat": 4,
 "nbformat_minor": 0
}
