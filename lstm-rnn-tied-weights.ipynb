{
 "cells": [
  {
   "cell_type": "markdown",
   "metadata": {
    "collapsed": true
   },
   "source": [
    "Copyright (C) Egon Kidmose 2015-2017\n",
    "\n",
    "This file is part of lstm-rnn-correlation.\n",
    "\n",
    "lstm-rnn-correlation is free software: you can redistribute it and/or\n",
    "modify it under the terms of the GNU Lesser General Public License as\n",
    "published by the Free Software Foundation, either version 3 of the\n",
    "License, or (at your option) any later version.\n",
    "\n",
    "lstm-rnn-correlation is distributed in the hope that it will be\n",
    "useful, but WITHOUT ANY WARRANTY; without even the implied warranty of\n",
    "MERCHANTABILITY or FITNESS FOR A PARTICULAR PURPOSE.  See the GNU\n",
    "Lesser General Public License for more details.\n",
    "\n",
    "You should have received a copy of the GNU Lesser General Public\n",
    "License along with lstm-rnn-correlation. If not, see\n",
    "<http://www.gnu.org/licenses/>.\n"
   ]
  },
  {
   "cell_type": "markdown",
   "metadata": {},
   "source": [
    "# Alert correlation with a Long Short-Term Memoroy (LSTM) Recurrent Neural Network(RNN) and cosine similarity\n",
    "\n",
    "**Author:** Egon Kidmose, egk@es.aau.dk\n",
    "\n",
    "In network security a common task is to detect network intrusions and for this purpose an Intrusion Detections System (IDS) can be used to raise alerts on suspicious network traffic.\n",
    "Snort, Suricata and Bro are examples of free and open source IDSs (Commercial products also exist).\n",
    "The alerts generally provides low level information such as recognition of strings that are known to be part of security exploits or anomalous connection rates for a host.\n",
    "By grouping alerts that are correlated into higher level events, false positives might be suppressed and attack scenarios becomes easier to recognise.\n",
    "This is a take on how to correlate IDS alerts to determine which belong in the same group.\n",
    "\n",
    "Alerts can be represented as log lines with various information such as time stamp, IP adresses, protocol information and a description of what triggered the alert.\n",
    "It is assumed that such a log lines hold the information needed to determine if two alerts are correlated or not.\n",
    "\n",
    "The input to the neural network will be two alerts and the output will indicate if they are correlated or not.\n",
    "In further detail the inputs is two strings of ASCII characters of variable length.\n",
    "For the output a Cosine Similarity layer is implemented and used to produce an output in the range [-1,1], with -1 meaning opposite, 0 meaning orthogonal and 1 meaning the same.\n",
    "\n",
    "For the hidden layers only a single layers of Long Short-Term Memory (LSTM) cells is used.\n",
    "It is an option to experiment with adding more.\n",
    "Being reccurrent, such a layer handles variable length input well.\n",
    "\n",
    "While it turned out to be to challenging to implement, the initial idea was to let the two inputs pass through LSTM layers with identical weights.\n",
    "The intent was to have them act as transformations into a space where cosine similarity could be used to measure similarity of the alerts.\n",
    "However I have not succeded at tying the weights together.\n",
    "As an alternative this might be achieved by using all training pairs in both original and swapped order.\n",
    "The intuition is that this leads to two identical layers, but intuition also suggest that this is highly ineffective.\n",
    "\n",
    "                      Output\n",
    "                        |\n",
    "    Cosine similarity   #\n",
    "                       / \\\n",
    "        LSTM layers   #   #\n",
    "                      |   |\n",
    "        \"alert number 1\"  |\n",
    "            \"alert number 2\"\n",
    "\n",
    "\n",
    "Reference: Huang, Po-Sen, et al. \"Learning deep structured semantic models for web search using clickthrough data.\" Proceedings of the 22nd ACM international conference on Conference on information & knowledge management. ACM, 2013.\n"
   ]
  },
  {
   "cell_type": "code",
   "execution_count": null,
   "metadata": {
    "collapsed": false
   },
   "outputs": [],
   "source": [
    "from __future__ import print_function\n",
    "from __future__ import division\n",
    "\n",
    "import logging\n",
    "logging.getLogger().handlers = []\n",
    "\n",
    "import sys\n",
    "import os\n",
    "import time\n",
    "import glob\n",
    "import json\n",
    "import subprocess\n",
    "import datetime\n",
    "import socket\n",
    "\n",
    "from operator import itemgetter\n",
    "\n",
    "import numpy as np\n",
    "import scipy as sp\n",
    "import theano\n",
    "import theano.tensor as T\n",
    "import matplotlib\n",
    "\n",
    "import lasagne\n",
    "from lasagne.layers import *\n",
    "from lasagne.nonlinearities import *\n",
    "from lasagne.updates import *\n",
    "from lasagne.objectives import *\n",
    "\n",
    "import lstm_rnn_tied_weights\n",
    "from lstm_rnn_tied_weights import CosineSimilarityLayer\n",
    "from lstm_rnn_tied_weights import load, modify, split, pool, cross_join, limit, break_down_data\n",
    "from lstm_rnn_tied_weights import iterate_minibatches, encode\n",
    "from lstm_rnn_tied_weights import mask_ips, mask_tss, mask_ports, uniquify_victim, extract_prio\n",
    "logger = lstm_rnn_tied_weights.logger\n",
    "\n",
    "runid = datetime.datetime.now().strftime(\"%Y%m%d-%H%M%S-\") + socket.gethostname()\n",
    "out_dir = 'output/' + runid\n",
    "if not os.path.exists(out_dir):\n",
    "    os.makedirs(out_dir)\n",
    "out_prefix = out_dir + '/' + runid + '-'\n",
    "# info log file\n",
    "infofh = logging.FileHandler(out_prefix + 'info.log')\n",
    "infofh.setLevel(logging.INFO)\n",
    "infofh.setFormatter(logging.Formatter(\n",
    "        fmt='%(message)s',\n",
    "))\n",
    "logger.addHandler(infofh)\n",
    "# verbose log file\n",
    "vfh = logging.FileHandler(out_prefix + 'verbose.log')\n",
    "vfh.setLevel(logging.DEBUG)\n",
    "vfh.setFormatter(logging.Formatter(\n",
    "        fmt='%(asctime)s - PID:%(process)d - %(levelname)s - %(message)s',\n",
    "))\n",
    "logger.addHandler(vfh)\n",
    "\n",
    "env = dict()\n",
    "# git\n",
    "env['version'] = subprocess.check_output([\"git\", \"describe\"]).strip()\n",
    "if not isinstance(env['version'], str):\n",
    "    env['version'] = str(env['version'], \"UTF-8\")\n",
    "\n",
    "# OMP\n",
    "env['OMP_NUM_THREADS'] = os.environ.get('OMP_NUM_THREADS', str())\n",
    "\n",
    "# Masking/modifying\n",
    "env['MASKING'] = os.environ.get('MASKING', str())\n",
    "env['MASK_IP'] = 'ip' in env['MASKING'].lower()\n",
    "env['MASK_TS'] = 'ts' in env['MASKING'].lower()\n",
    "env['UNIQUIFY_VICTIM'] = 'true' in os.environ.get('UNIQUIFY_VICTIM', 'true').lower()\n",
    "\n",
    "# cutting\n",
    "env['CUT'] = os.environ.get('CUT', str())\n",
    "if 'none' in env['CUT'].lower():\n",
    "    env['CUT_NONE'] = True\n",
    "elif 'inc' in env['CUT'].lower():\n",
    "    env['CUT_INC'] = True\n",
    "elif 'alert' in env['CUT'].lower():\n",
    "    env['CUT_ALERT'] = True\n",
    "elif 'pair' in env['CUT'].lower():\n",
    "    env['CUT_PAIR'] = True\n",
    "else:\n",
    "    raise NotImplementedError(\"Please set CUT={none|inc|alert|pair} (CUT={})\".format(env['CUT']))\n",
    "\n",
    "# Data control\n",
    "env['MAX_PAIRS'] = int(os.environ.get('MAX_PAIRS', 1000000))\n",
    "env['BATCH_SIZE'] = int(os.environ.get('BATCH_SIZE', 10000))\n",
    "env['EPOCHS'] = int(os.environ.get('EPOCHS', 10))\n",
    "env['SPLIT'] = [int(el) for el in os.environ.get('SPLIT', '60,20,20').split(',')]\n",
    "\n",
    "# Metadata\n",
    "env['VICTIM_IP'] = '147.32.84.165'\n",
    "\n",
    "# Neural network\n",
    "env['NN_UNITS'] = [int(el) for el in os.environ.get('NN_UNITS', '10').split(',')]\n",
    "env['NN_LEARNING_RATE'] = float(os.environ.get('NN_LEARNING_RATE', '0.1'))\n",
    "\n",
    "# Load model weights from file, don't train?\n",
    "env['MODEL'] = os.environ.get('MODEL', None)\n",
    "\n",
    "# Clustering\n",
    "env['CLUSTER_SAMPLES'] = int(os.environ.get('CLUSTER_SAMPLES', 500))\n",
    "\n",
    "# Perform tests, i.e. use test data\n",
    "env['TEST'] = 'true' in os.environ.get('TEST', str()).lower()\n",
    "\n",
    "logger.info(\"Starting.\")\n",
    "logger.info(\"env: \" + str(env))\n",
    "for k in sorted(env.keys()):\n",
    "    logger.info('env[\\'{}\\']: {}'.format(k,env[k]))"
   ]
  },
  {
   "cell_type": "markdown",
   "metadata": {},
   "source": [
    "## Build network"
   ]
  },
  {
   "cell_type": "code",
   "execution_count": null,
   "metadata": {
    "collapsed": false
   },
   "outputs": [],
   "source": [
    "# Data for unit testing\n",
    "X_unit = ['abcdef', 'abcdef', 'qwerty']\n",
    "X_unit = [[ord(c) for c in w] for w in X_unit]\n",
    "X_unit = np.array(X_unit, dtype='int8')\n",
    "logger.debug(X_unit)\n",
    "n_alerts_unit, l_alerts_unit = X_unit.shape\n",
    "mask_unit = np.ones(X_unit.shape, dtype='int8')\n",
    "logger.debug(mask_unit)\n"
   ]
  },
  {
   "cell_type": "code",
   "execution_count": null,
   "metadata": {
    "collapsed": true
   },
   "outputs": [],
   "source": [
    "# Dimensions\n",
    "n_alerts = None\n",
    "l_alerts = None\n",
    "n_alphabet = 2**7 # All ASCII chars\n"
   ]
  },
  {
   "cell_type": "code",
   "execution_count": null,
   "metadata": {
    "collapsed": false
   },
   "outputs": [],
   "source": [
    "# Symbolic variables\n",
    "input_var, input_var2 = T.imatrices('inputs', 'inputs2')\n",
    "mask_var, mask_var2 = T.matrices('masks', 'masks2')\n",
    "target_var = T.dvector('targets')\n"
   ]
  },
  {
   "cell_type": "code",
   "execution_count": null,
   "metadata": {
    "collapsed": false
   },
   "outputs": [],
   "source": [
    "# First line\n",
    "l_in = InputLayer(shape=(n_alerts, l_alerts), input_var=input_var, name='INPUT-LAYER')\n",
    "l_emb = EmbeddingLayer(l_in, n_alphabet, n_alphabet,\n",
    "                         W=np.eye(n_alphabet),\n",
    "                         name='EMBEDDING-LAYER')\n",
    "l_emb.params[l_emb.W].remove('trainable') # Fix weight\n",
    "l_mask = InputLayer(shape=(n_alerts, l_alerts), input_var=mask_var, name='MASK-INPUT-LAYER')\n",
    "l_lstm = l_emb\n",
    "for i, num_units in enumerate(env['NN_UNITS']):\n",
    "    logger.info('Adding {} units for {} layer'.format(num_units, i))\n",
    "    l_lstm = LSTMLayer(l_lstm, num_units=num_units, name='LSTM-LAYER[{}]'.format(i), mask_input=l_mask)\n",
    "l_slice = SliceLayer(l_lstm, indices=-1, axis=1, name=\"SLICE-LAYER\") # Only last timestep\n",
    "net = l_slice\n"
   ]
  },
  {
   "cell_type": "code",
   "execution_count": null,
   "metadata": {
    "collapsed": false
   },
   "outputs": [],
   "source": [
    "# Test first line\n",
    "\n",
    "# Test InputLayer\n",
    "pred_unit = get_output(l_in, inputs={l_in: input_var}).eval(\n",
    "    {input_var: X_unit})\n",
    "assert (pred_unit == X_unit).all(), \"Unexpected output\"\n",
    "# Test EmbeddingLayer\n",
    "pred_unit = get_output(l_emb, inputs={l_in: input_var}).eval(\n",
    "    {input_var: X_unit})\n",
    "assert (np.argmax(pred_unit, axis=2) == X_unit).all()\n",
    "assert np.all(pred_unit.shape == (n_alerts_unit, l_alerts_unit, n_alphabet ))\n",
    "# Test LSTMLayer\n",
    "pred_unit = get_output(\n",
    "    l_lstm,\n",
    "    inputs={l_in: input_var, l_mask: mask_var}\n",
    ").eval({input_var: X_unit, mask_var: mask_unit})\n",
    "assert pred_unit.shape == (n_alerts_unit, l_alerts_unit, num_units), \"Unexpected dimensions\"\n",
    "pred_unit = get_output(\n",
    "    l_lstm,\n",
    "    inputs={l_in: input_var, l_mask: mask_var}\n",
    ").eval({input_var: [[1],[1]], mask_var: [[1],[1]]})\n",
    "assert np.all(pred_unit[0] == pred_unit[1]), \"Repeated alerts must produce the same\"\n",
    "pred_unit = get_output(\n",
    "    l_lstm,\n",
    "    inputs={l_in: input_var, l_mask: mask_var}\n",
    ").eval({input_var: [[1,1],[1,1]], mask_var: [[1,1],[1,1]]})\n",
    "assert np.all(pred_unit[0] == pred_unit[1]), \"Repeated alerts must produce the same\"\n",
    "pred_unit = get_output(\n",
    "    l_lstm,\n",
    "    inputs={l_in: input_var, l_mask: mask_var}\n",
    ").eval({input_var: [[1,1],[0,1]], mask_var: [[1,1],[1,1]]})\n",
    "assert np.all(pred_unit[0] != pred_unit[1]), \"Earlier must affect laters\"\n",
    "pred_unit = get_output(\n",
    "    l_lstm,\n",
    "    inputs={l_in: input_var, l_mask: mask_var}\n",
    ").eval({input_var: [[1,0],[1,1]], mask_var: [[1,1],[1,1]]})\n",
    "assert np.all(pred_unit[0,0] == pred_unit[1,0]), \"Later must not affect earlier\"\n",
    "assert np.all(pred_unit[0,1] != pred_unit[1,1]), \"Current must make a difference\"\n",
    "# Test SliceLayer\n",
    "pred_unit = get_output(\n",
    "    l_slice,\n",
    "    inputs={l_in: input_var, l_mask: mask_var}\n",
    ").eval({input_var: X_unit, mask_var: mask_unit})\n",
    "assert pred_unit.shape == (n_alerts_unit, num_units), \"Unexpected shape\"\n",
    "pred_unit_lstm = get_output(\n",
    "    l_lstm,\n",
    "    inputs={l_in: input_var, l_mask: mask_var}\n",
    ").eval({input_var: X_unit, mask_var: mask_unit})\n",
    "assert np.all(pred_unit_lstm[:, -1, :] == pred_unit), \"Unexpected result of slicing\"\n",
    "\n",
    "logger.debug('OK')\n"
   ]
  },
  {
   "cell_type": "code",
   "execution_count": null,
   "metadata": {
    "collapsed": false
   },
   "outputs": [],
   "source": [
    "# Second line as a copy with shared weights\n",
    "l_in2 = InputLayer(shape=l_in.shape, input_var=input_var2, name=l_in.name+'2')\n",
    "l_mask2 = InputLayer(shape=l_mask.shape, input_var=mask_var2, name=l_mask.name+'2')\n",
    "net2 = lstm_rnn_tied_weights.clone(net, l_in2, l_mask2)\n"
   ]
  },
  {
   "cell_type": "code",
   "execution_count": null,
   "metadata": {
    "collapsed": false
   },
   "outputs": [],
   "source": [
    "# Merge lines\n",
    "l_cos = CosineSimilarityLayer(net, net2, name=\"COSINE-SIMILARITY-LAYER\")\n",
    "l_sig = NonlinearityLayer(l_cos, nonlinearity=sigmoid, name=\"SIGMOID-LAYER\")\n",
    "cos_net = l_sig\n"
   ]
  },
  {
   "cell_type": "code",
   "execution_count": null,
   "metadata": {
    "collapsed": false
   },
   "outputs": [],
   "source": [
    "# Training Procedure\n",
    "t = time.time()\n",
    "prediction = get_output(cos_net)\n",
    "loss = binary_crossentropy(prediction, target_var)\n",
    "loss = loss.mean()\n",
    "params = get_all_params(cos_net, trainable=True)\n",
    "updates = sgd(loss, params, learning_rate=env['NN_LEARNING_RATE'])\n",
    "\n",
    "# Testing Procedure\n",
    "test_prediction = get_output(cos_net, deterministic=True)\n",
    "test_loss = binary_crossentropy(test_prediction, target_var)\n",
    "test_loss = test_loss.mean()\n",
    "test_acc = T.mean(T.eq(test_prediction > 0.5, target_var),\n",
    "                  dtype=theano.config.floatX)\n",
    "\n",
    "train_fn = theano.function([input_var, input_var2, mask_var, mask_var2, target_var], loss, updates=updates)\n",
    "val_fn = theano.function([input_var, input_var2, mask_var, mask_var2, target_var], [test_loss, test_acc])\n",
    "prediction_fn = theano.function([input_var, input_var2, mask_var, mask_var2], prediction)\n",
    "logger.debug(\"Spent {}s compilling.\".format(time.time()-t))"
   ]
  },
  {
   "cell_type": "code",
   "execution_count": null,
   "metadata": {
    "collapsed": false
   },
   "outputs": [],
   "source": [
    "alert_to_vector = theano.function([input_var, mask_var], get_output(l_slice))"
   ]
  },
  {
   "cell_type": "markdown",
   "metadata": {},
   "source": [
    "## Prepare data"
   ]
  },
  {
   "cell_type": "code",
   "execution_count": null,
   "metadata": {
    "collapsed": false
   },
   "outputs": [],
   "source": [
    "# If/what to mask out or modify\n",
    "modifier_fns = []\n",
    "if env['MASK_IP']:\n",
    "    modifier_fns.append(mask_ips)\n",
    "if env['MASK_TS']:\n",
    "    modifier_fns.append(mask_tss)\n",
    "if env['UNIQUIFY_VICTIM']:\n",
    "    modifier_fns.append(lambda incidents: uniquify_victim(incidents, env['VICTIM_IP']))\n",
    "\n",
    "def _get_batch(\n",
    "        alerts,\n",
    "        max_pairs,\n",
    "        offset=0,\n",
    "):\n",
    "    for sample in limit(\n",
    "            cross_join(alerts, offset=offset),\n",
    "            max_pairs,\n",
    "    ):\n",
    "        yield sample\n",
    "\n",
    "incidents = load([\n",
    "#'data/mcfp.felk.cvut.cz/publicDatasets/CTU-Malware-Capture-Botnet-132-1/2015-09-09_win3.pcap.shifted.out', #\t1\n",
    "#'data/mcfp.felk.cvut.cz/publicDatasets/CTU-Malware-Capture-Botnet-114-2/2015-04-22_capture-win2.pcap.shifted.out', #\t1\n",
    "#'data/mcfp.felk.cvut.cz/publicDatasets/CTU-Malware-Capture-Botnet-22/2013-11-06_capture-win8.pcap.shifted.out', #\t1\n",
    "#'data/mcfp.felk.cvut.cz/publicDatasets/CTU-Malware-Capture-Botnet-121-1/2015-04-22_capture-win5.pcap.shifted.out', #\t1\n",
    "#'data/mcfp.felk.cvut.cz/publicDatasets/CTU-Malware-Capture-Botnet-15/2013-09-28_capture-win19.pcap.shifted.out', #\t2\n",
    "#'data/mcfp.felk.cvut.cz/publicDatasets/CTU-Malware-Capture-Botnet-129-1/2015-06-30_capture-win20.pcap.shifted.out', #\t3\n",
    "#'data/mcfp.felk.cvut.cz/publicDatasets/CTU-Malware-Capture-Botnet-45/botnet-capture-20110815-rbot-dos-icmp.pcap.shifted.out', #\t3\n",
    "#'data/mcfp.felk.cvut.cz/publicDatasets/CTU-Malware-Capture-Botnet-143-1/2015-10-23_win6.pcap.shifted.out', #\t3\n",
    "#'data/mcfp.felk.cvut.cz/publicDatasets/CTU-Malware-Capture-Botnet-59/2014-03-12_capture-win15.pcap.shifted.out', #\t4\n",
    "#'data/mcfp.felk.cvut.cz/publicDatasets/CTU-Malware-Capture-Botnet-45/botnet-capture-20110815-rbot-dos-icmp-more-bandwith.pcap.shifted.out', #\t4\n",
    "#'data/mcfp.felk.cvut.cz/publicDatasets/CTU-Malware-Capture-Botnet-123-1/2015-04-22_capture-win8.pcap.shifted.out', #\t4\n",
    "#'data/mcfp.felk.cvut.cz/publicDatasets/CTU-Malware-Capture-Botnet-14/2013-10-18_capture-win15.pcap.shifted.out', #\t5\n",
    "#'data/mcfp.felk.cvut.cz/publicDatasets/CTU-Malware-Capture-Botnet-45/botnet-capture-20110815-rbot-dos.pcap.shifted.out', #\t5\n",
    "#'data/mcfp.felk.cvut.cz/publicDatasets/CTU-Malware-Capture-Botnet-118-1/2015-04-20_capture-win5.pcap.shifted.out', #\t6\n",
    "#'data/mcfp.felk.cvut.cz/publicDatasets/CTU-Malware-Capture-Botnet-92/192.168.3.104-eldorado2-1.pcap.shifted.out', #\t6\n",
    "#'data/mcfp.felk.cvut.cz/publicDatasets/CTU-Malware-Capture-Botnet-48/botnet-capture-20110816-sogou.pcap.shifted.out', #\t10\n",
    "#'data/mcfp.felk.cvut.cz/publicDatasets/CTU-Malware-Capture-Botnet-60/2014-03-12_win20.pcap.shifted.out', #\t12\n",
    "#'data/mcfp.felk.cvut.cz/publicDatasets/CTU-Malware-Capture-Botnet-11/capture-win19.pcap.shifted.out', #\t13\n",
    "#'data/mcfp.felk.cvut.cz/publicDatasets/CTU-Malware-Capture-Botnet-102/capture-win2.pcap.shifted.out', #\t13\n",
    "#'data/mcfp.felk.cvut.cz/publicDatasets/CTU-Malware-Capture-Botnet-90/192.168.3.104-unvirus.pcap.shifted.out', #\t18\n",
    "#'data/mcfp.felk.cvut.cz/publicDatasets/CTU-Malware-Capture-Botnet-134-1/2015-10-11_win3.pcap.shifted.out', #\t20\n",
    "#'data/mcfp.felk.cvut.cz/publicDatasets/CTU-Malware-Capture-Botnet-26/2013-10-30_capture-win10.pcap.shifted.out', #\t21\n",
    "#'data/mcfp.felk.cvut.cz/publicDatasets/CTU-Malware-Capture-Botnet-114-1/2015-04-09_capture-win2.pcap.shifted.out', #\t22\n",
    "#'data/mcfp.felk.cvut.cz/publicDatasets/CTU-Malware-Capture-Botnet-73/2014-05-16_capture-win15.pcap.shifted.out', #\t28\n",
    "#'data/mcfp.felk.cvut.cz/publicDatasets/CTU-Malware-Capture-Botnet-24/2013-11-06_capture-win18.pcap.shifted.out', #\t29\n",
    "#'data/mcfp.felk.cvut.cz/publicDatasets/CTU-Malware-Capture-Botnet-142-1/2015-10-23_win7.pcap.shifted.out', #\t85\n",
    "#'data/mcfp.felk.cvut.cz/publicDatasets/CTU-Malware-Capture-Botnet-47/botnet-capture-20110816-donbot.pcap.shifted.out', #\t88\n",
    "#'data/mcfp.felk.cvut.cz/publicDatasets/CTU-Malware-Capture-Botnet-65/2014-04-07_capture-win11.pcap.shifted.out', #\t90\n",
    "'data/mcfp.felk.cvut.cz/publicDatasets/CTU-Malware-Capture-Botnet-46/botnet-capture-20110815-fast-flux.pcap.shifted.out', #\t100\n",
    "'data/mcfp.felk.cvut.cz/publicDatasets/CTU-Malware-Capture-Botnet-113-1/2015-03-12_capture-win6.pcap.shifted.out', #\t184\n",
    "'data/mcfp.felk.cvut.cz/publicDatasets/CTU-Malware-Capture-Botnet-2/2013-08-20_capture-win2.pcap.shifted.out', #\t317\n",
    "'data/mcfp.felk.cvut.cz/publicDatasets/CTU-Malware-Capture-Botnet-116-1/2012-05-25-capture-1.pcap.shifted.out', #\t328\n",
    "'data/mcfp.felk.cvut.cz/publicDatasets/CTU-Malware-Capture-Botnet-89-1/2014-09-15_capture-win2.pcap.shifted.out', #\t390\n",
    "'data/mcfp.felk.cvut.cz/publicDatasets/CTU-Malware-Capture-Botnet-36/capture-win2.pcap.shifted.out', #\t395\n",
    "'data/mcfp.felk.cvut.cz/publicDatasets/CTU-Malware-Capture-Botnet-49/botnet-capture-20110816-qvod.pcap.shifted.out', #\t444\n",
    "#'data/mcfp.felk.cvut.cz/publicDatasets/CTU-Malware-Capture-Botnet-128-1/2015-06-07_capture-win12.pcap.shifted.out', #\t611\n",
    "#'data/mcfp.felk.cvut.cz/publicDatasets/CTU-Malware-Capture-Botnet-140-1/2015-10-23_win11.pcap.shifted.out', #\t839\n",
    "#'data/mcfp.felk.cvut.cz/publicDatasets/CTU-Malware-Capture-Botnet-42/botnet-capture-20110810-neris.pcap.shifted.out', #\t865\n",
    "#'data/mcfp.felk.cvut.cz/publicDatasets/CTU-Malware-Capture-Botnet-55/capture-win13.pcap.shifted.out', #\t954\n",
    "#'data/mcfp.felk.cvut.cz/publicDatasets/CTU-Malware-Capture-Botnet-140-2/2015-10-27_capture-win11.pcap.shifted.out', #\t1354\n",
    "#'data/mcfp.felk.cvut.cz/publicDatasets/CTU-Malware-Capture-Botnet-141-1/2015-23-10_win10.pcap.shifted.out', #\t1548\n",
    "#'data/mcfp.felk.cvut.cz/publicDatasets/CTU-Malware-Capture-Botnet-69/2014-04-07_capture-win17.pcap.shifted.out', #\t1704\n",
    "#'data/mcfp.felk.cvut.cz/publicDatasets/CTU-Malware-Capture-Botnet-43/botnet-capture-20110811-neris.pcap.shifted.out', #\t1785\n",
    "#'data/mcfp.felk.cvut.cz/publicDatasets/CTU-Malware-Capture-Botnet-54/botnet-capture-20110815-fast-flux-2.pcap.shifted.out', #\t2015\n",
    "#'data/mcfp.felk.cvut.cz/publicDatasets/CTU-Malware-Capture-Botnet-100/2014-12-20_capture-win5.pcap.shifted.out', #\t2685\n",
    "#'data/mcfp.felk.cvut.cz/publicDatasets/CTU-Malware-Capture-Botnet-35-1/2014-01-31_capture-win7.pcap.shifted.out', #\t3199\n",
    "#'data/mcfp.felk.cvut.cz/publicDatasets/CTU-Malware-Capture-Botnet-149-2/2015-12-09_capture-win4.pcap.shifted.out', #\t3817\n",
    "#'data/mcfp.felk.cvut.cz/publicDatasets/CTU-Malware-Capture-Botnet-127-1/2015-06-07_capture-win8.pcap.shifted.out', #\t4900\n",
    "#'data/mcfp.felk.cvut.cz/publicDatasets/CTU-Malware-Capture-Botnet-44/botnet-capture-20110812-rbot.pcap.shifted.out', #\t5338\n",
    "#'data/mcfp.felk.cvut.cz/publicDatasets/CTU-Malware-Capture-Botnet-149-1/2015-12-09_capture-win4.pcap.shifted.out', #\t5896\n",
    "#'data/mcfp.felk.cvut.cz/publicDatasets/CTU-Malware-Capture-Botnet-126-1/2015-06-07_capture-win7.pcap.shifted.out', #\t6992\n",
    "#'data/mcfp.felk.cvut.cz/publicDatasets/CTU-Malware-Capture-Botnet-125-1/2015-06-07_capture-win5.pcap.shifted.out', #\t7461\n",
    "#'data/mcfp.felk.cvut.cz/publicDatasets/CTU-Malware-Capture-Botnet-110-4/2015-04-22_capture-win9.pcap.shifted.out', #\t17501\n",
    "#'data/mcfp.felk.cvut.cz/publicDatasets/CTU-Malware-Capture-Botnet-150-1/2015-12-05_capture-win3.pcap.shifted.out', #\t18854\n",
    "#'data/mcfp.felk.cvut.cz/publicDatasets/CTU-Malware-Capture-Botnet-3/2013-08-20_capture-win15.pcap.shifted.out', #\t38279\n",
    "#'data/mcfp.felk.cvut.cz/publicDatasets/CTU-Malware-Capture-Botnet-78-1/2014-05-30_capture-win8.pcap.shifted.out', #\t84863\n",
    "])\n",
    "incidents = modify(incidents, modifier_fns)\n",
    "alerts = pool(incidents)\n",
    "\n",
    "pair_cnt = min([env['MAX_PAIRS'], len(alerts)**2])\n",
    "logger.info('Maximum possible pairs; pair_cnt={} env[\\'MAX_PAIRS\\']={}, len(alerts)**2={}'.format(\n",
    "        pair_cnt,\n",
    "        env['MAX_PAIRS'],\n",
    "        len(alerts)**2,\n",
    "    ))\n",
    "maxes = (np.array(env['SPLIT'])/sum(env['SPLIT'])*pair_cnt).astype(int)\n",
    "logger.info('train, val and test max pairs: {}'.format(maxes))\n",
    "train_max, val_max, test_max = maxes\n",
    "logger.info('Breakdown of original data:\\n'+break_down_data([i[0] for i in pool(incidents)])+'\\n')\n",
    "\n",
    "if env.get('CUT_NONE', False):\n",
    "    get_train_batch = lambda: _get_batch(alerts, train_max)\n",
    "    get_val_batch = lambda: _get_batch(alerts, val_max)\n",
    "    get_test_batch = lambda: _get_batch(alerts, test_max)\n",
    "\n",
    "elif env.get('CUT_INC', False):\n",
    "    incidents = split(incidents, env['SPLIT'])\n",
    "    alerts_train, alerts_val, alerts_test = tuple(map(pool, incidents))\n",
    "\n",
    "    get_train_batch = lambda: _get_batch(alerts_train, train_max)\n",
    "    get_val_batch = lambda: _get_batch(alerts_val, val_max)\n",
    "    get_test_batch = lambda: _get_batch(alerts_test, test_max)\n",
    "\n",
    "elif env.get('CUT_ALERT', False):\n",
    "    alerts_train, alerts_val, alerts_test = split(alerts, env['SPLIT'])\n",
    "\n",
    "    get_train_batch = lambda: _get_batch(alerts_train, train_max)\n",
    "    get_val_batch = lambda: _get_batch(alerts_val, val_max)\n",
    "    get_test_batch = lambda: _get_batch(alerts_test, test_max)\n",
    "\n",
    "elif env.get('CUT_PAIR', False):\n",
    "    get_train_batch = lambda: _get_batch(alerts, train_max, offset=0)\n",
    "    get_val_batch = lambda: _get_batch(alerts, val_max, offset=train_max)\n",
    "    get_test_batch = lambda: _get_batch(alerts, test_max, offset=train_max+val_max)\n",
    "\n",
    "else:\n",
    "    raise NotImplementedError(\"No cut selected\")"
   ]
  },
  {
   "cell_type": "code",
   "execution_count": null,
   "metadata": {
    "collapsed": false
   },
   "outputs": [],
   "source": [
    "a1, a2, m1, m2, cor, inc1, inc2 = range(7)\n",
    "for cut, batch_fn in [\n",
    "    ('training', get_train_batch),\n",
    "    ('validation', get_val_batch),\n",
    "    ('testing', get_test_batch),\n",
    "]:\n",
    "    logger.info(\n",
    "        'Breakdown of {} data;\\n'.format(cut) +\n",
    "        break_down_data(batch_fn(), [\n",
    "                ('correlation', itemgetter(cor)),\n",
    "                ('incident 1', itemgetter(inc1)),\n",
    "                ('incident 2', itemgetter(inc2)),\n",
    "            ])\n",
    "    )"
   ]
  },
  {
   "cell_type": "markdown",
   "metadata": {},
   "source": [
    "## Load model"
   ]
  },
  {
   "cell_type": "code",
   "execution_count": null,
   "metadata": {
    "collapsed": false
   },
   "outputs": [],
   "source": [
    "if env['MODEL']:\n",
    "    logger.info('Loading model from {}'.format(env['MODEL']))\n",
    "    with open(env['MODEL']) as f:\n",
    "        model = json.loads(f.read())\n",
    "\n",
    "    # Order accoording to current model (JSON might reorder)\n",
    "    params = get_all_params(cos_net)\n",
    "    values = [np.array(model['model'][p.name]) for p in params]\n",
    "\n",
    "    set_all_param_values(cos_net, values)\n"
   ]
  },
  {
   "cell_type": "markdown",
   "metadata": {},
   "source": [
    "## Train"
   ]
  },
  {
   "cell_type": "code",
   "execution_count": null,
   "metadata": {
    "collapsed": false
   },
   "outputs": [],
   "source": [
    "if not env['MODEL']:\n",
    "    logger.info(\"Starting training...\")\n",
    "    for epoch in range(env['EPOCHS']):\n",
    "        train_err = 0\n",
    "        train_batches = 0\n",
    "        start_time = time.time()\n",
    "        for batch in iterate_minibatches(get_train_batch(), env['BATCH_SIZE']):\n",
    "            train_err += train_fn(*batch)\n",
    "            train_batches += 1\n",
    "            logger.debug('Batch complete')\n",
    "\n",
    "        #if (epoch+1) % (env['EPOCHS']/10) == 0:\n",
    "        if True:\n",
    "            val_err = 0\n",
    "            val_acc = 0\n",
    "            val_batches = 0\n",
    "            for batch in iterate_minibatches(get_val_batch(), env['BATCH_SIZE']):\n",
    "                err, acc = val_fn(*batch)\n",
    "                val_err += err\n",
    "                val_acc += acc\n",
    "                val_batches += 1\n",
    "\n",
    "            logger.info(\"Epoch {} of {} took {:.3f}s\".format(\n",
    "                epoch + 1, env['EPOCHS'], time.time() - start_time))\n",
    "            logger.info(\"  training loss:\\t\\t{:.20f}\".format(train_err / train_batches))\n",
    "            logger.info(\"  validation loss:\\t\\t{:.6f}\".format(val_err / val_batches))\n",
    "            logger.info(\"  validation accuracy:\\t\\t{:.2f} %\".format(\n",
    "                val_acc / val_batches * 100))\n",
    "\n",
    "        logger.debug('Epoch complete')\n",
    "    logger.info('Training complete')\n"
   ]
  },
  {
   "cell_type": "markdown",
   "metadata": {},
   "source": [
    "## Test"
   ]
  },
  {
   "cell_type": "code",
   "execution_count": null,
   "metadata": {
    "collapsed": false
   },
   "outputs": [],
   "source": [
    "\"\"\"\n",
    "test_err = 0\n",
    "test_acc = 0\n",
    "test_batches = 0\n",
    "for batch in iterate_minibatches(get_test_batch(), env['BATCH_SIZE']):\n",
    "    err, acc = val_fn(*batch)\n",
    "    test_err += err\n",
    "    test_acc += acc\n",
    "    test_batches += 1\n",
    "\n",
    "logger.info(\"Final results:\")\n",
    "logger.info(\"  test loss:\\t\\t\\t{:.6f}\".format(test_err / test_batches))\n",
    "logger.info(\"  test accuracy:\\t\\t{:.2f} %\".format(\n",
    "    test_acc / test_batches * 100))\n",
    "\"\"\""
   ]
  },
  {
   "cell_type": "markdown",
   "metadata": {},
   "source": [
    "## Dump model"
   ]
  },
  {
   "cell_type": "code",
   "execution_count": null,
   "metadata": {
    "collapsed": false,
    "scrolled": false
   },
   "outputs": [],
   "source": [
    "model_file = out_prefix + 'model.json'\n",
    "model = {'model':{str(p): v.tolist() for p, v in zip(get_all_params(cos_net), get_all_param_values(cos_net))}}\n",
    "logger.info('Saving model to {}'.format(model_file))\n",
    "with open(model_file, 'w') as f:\n",
    "    f.write(json.dumps(model))\n",
    "logger.info('Model saved')"
   ]
  },
  {
   "cell_type": "markdown",
   "metadata": {},
   "source": [
    "## Plot"
   ]
  },
  {
   "cell_type": "code",
   "execution_count": null,
   "metadata": {
    "collapsed": false
   },
   "outputs": [],
   "source": [
    "# might, might not have x available\n",
    "try:\n",
    "    os.environ['DISPLAY']\n",
    "except KeyError:\n",
    "    matplotlib.use('Agg')\n",
    "# might, might not be notebook\n",
    "try:\n",
    "    %matplotlib inline\n",
    "except NameError:\n",
    "    pass\n",
    "\n",
    "error_dict = dict()\n",
    "\n",
    "land = np.logical_and\n",
    "lnot = np.logical_not\n",
    "    \n",
    "for batch in iterate_minibatches(get_val_batch(), len(list(get_val_batch())), keep_incidents=True):\n",
    "    alerts1, alerts2, masks1, masks2, corelations, iz, js = batch\n",
    "    pred_floats = prediction_fn(alerts1, alerts2, masks1, masks2)\n",
    "\n",
    "    logger.debug(\"Calculating error\")\n",
    "    positive = (pred_floats) > 0.5\n",
    "    correct = np.equal(corelations, positive)\n",
    "    true_positive = land(correct, positive)\n",
    "    true_negative = land(correct, lnot(positive))\n",
    "    false_positive = land(lnot(correct), positive)\n",
    "    false_negative = land(lnot(correct), lnot(positive))\n",
    "\n",
    "    logger.debug(\"Summing errors by incidents\")\n",
    "    for tp, tn, fp, fn, i, j in zip(\n",
    "        true_positive, true_negative,\n",
    "        false_positive, false_negative,\n",
    "        iz, js\n",
    "    ):\n",
    "        error_dict[i] = error_dict.get(i, np.zeros(4)) + np.array([tp, tn, fp, fn])\n",
    "        error_dict[j] = error_dict.get(j, np.zeros(4)) + np.array([tp, tn, fp, fn])\n",
    "        \n",
    "(labels, errors) = zip(*sorted(list(error_dict.items())))\n",
    "errors = np.array(errors)\n",
    "errors_norm = errors / errors.sum(axis=1)[:, None]\n",
    "\n"
   ]
  },
  {
   "cell_type": "code",
   "execution_count": null,
   "metadata": {
    "collapsed": false
   },
   "outputs": [],
   "source": [
    "TP, TN, FP, FN = range(4)\n",
    "\n",
    "error_count_latex = str()\n",
    "error_count_latex += \"\\\\hline\\n\" + \" & \".join(['Incident', 'TP', 'TN', 'FP', 'FN']) + '\\\\\\\\\\\\hline \\n \\\\hline \\n'\n",
    "for i, line in enumerate(errors):\n",
    "    fmt = \"{}\" + \" & ${:>8.0f} $\"*4 + '\\\\\\\\\\\\hline \\n'\n",
    "    error_count_latex += fmt.format(i+1, *line)\n",
    "logger.info('Error counts: \\n' + error_count_latex)\n",
    "\n",
    "# error rates\n",
    "tpr = errors[:,TP] / (errors[:,TP] + errors[:,FN])\n",
    "tnr = errors[:,TN] / (errors[:,TN] + errors[:,FP])\n",
    "fpr = errors[:,FP] / (errors[:,TN] + errors[:,FP])\n",
    "fnr = errors[:,FN] / (errors[:,TP] + errors[:,FN])\n",
    "error_rates = np.vstack((tpr, tnr, fpr, fnr)).T\n",
    "\n",
    "error_rates = np.vstack((error_rates, error_rates.mean(axis=0)[None,:])) # Average rates\n",
    "\n",
    "error_rates_latex = str()\n",
    "error_rates_latex += \"\\\\hline\\n\" + \" & \".join(['Incident', 'TPR', 'TNR', 'FPR', 'FNR']) + '\\\\\\\\\\\\hline \\n \\\\hline \\n'\n",
    "for i, line in enumerate(error_rates):\n",
    "    if i == 7:\n",
    "        i = 'Avg.'\n",
    "    else:\n",
    "        i = i + 1\n",
    "    fmt = (\"{}\" + \" & ${:>8.2f} \\%$\"*4 + '\\\\\\\\\\\\hline \\n')\n",
    "    error_rates_latex += fmt.format(i, *line*100)\n",
    "logger.info('Error rates: \\n' + error_rates_latex)"
   ]
  },
  {
   "cell_type": "code",
   "execution_count": null,
   "metadata": {
    "collapsed": false
   },
   "outputs": [],
   "source": [
    "import matplotlib.pyplot as plt\n",
    "\n",
    "index = np.arange(len(labels))\n",
    "\n",
    "fig, ax = plt.subplots()\n",
    "\n",
    "bar_width = 0.2\n",
    "\n",
    "\n",
    "\n",
    "types = ['True Positive', 'True Negative', 'False Positive', 'False Negative']\n",
    "colors = ['g', 'b', 'r', 'y']\n",
    "\n",
    "for i, (typ, color) in enumerate(zip(types, colors)):\n",
    "    rect = plt.bar(\n",
    "        index + bar_width*i,\n",
    "        errors_norm[:,i],\n",
    "        bar_width,\n",
    "        alpha=0.8,\n",
    "        color=color,\n",
    "        error_kw={'ecolor': '0.3'},\n",
    "        label=typ,\n",
    "    )\n",
    "\n",
    "plt.xlabel('Incident')\n",
    "plt.ylabel('Rate')\n",
    "plt.xticks(index + bar_width, labels)\n",
    "plt.legend(bbox_to_anchor=(0., 1.02, 1., .102), loc=3,\n",
    "           ncol=2, mode=\"expand\", borderaxespad=0.)\n",
    "\n",
    "plt.tight_layout()\n",
    "\n",
    "plt.savefig(out_prefix+'detection_norm.pdf', bbox_inches='tight')"
   ]
  },
  {
   "cell_type": "code",
   "execution_count": null,
   "metadata": {
    "collapsed": false
   },
   "outputs": [],
   "source": [
    "for i, (typ, color) in enumerate(zip(types, colors)):\n",
    "    rect = plt.bar(\n",
    "        index + bar_width*i,\n",
    "        errors[:,i],\n",
    "        bar_width,\n",
    "        alpha=0.8,\n",
    "        color=color,\n",
    "        error_kw={'ecolor': '0.3'},\n",
    "        label=typ,\n",
    "    )\n",
    "\n",
    "plt.xlabel('Incident')\n",
    "plt.ylabel('Count (Pairs)')\n",
    "plt.xticks(index + bar_width, labels)\n",
    "plt.legend(bbox_to_anchor=(0., 1.02, 1., .102), loc=3,\n",
    "           ncol=2, mode=\"expand\", borderaxespad=0.)\n",
    "\n",
    "plt.tight_layout()\n",
    "\n",
    "plt.savefig(out_prefix+'detection_notnorm.pdf', bbox_inches='tight')"
   ]
  },
  {
   "cell_type": "markdown",
   "metadata": {},
   "source": [
    "# Clustering"
   ]
  },
  {
   "cell_type": "code",
   "execution_count": null,
   "metadata": {
    "collapsed": false
   },
   "outputs": [],
   "source": [
    "# data, encoded and structured for clustering\n",
    "\n",
    "def _get_alerts(alerts):\n",
    "    \"\"\"\n",
    "    Encode and structures single alerts similarly to pairs\n",
    "\n",
    "    Similar to _get_batch, but ommitting second alerts and correlation.\n",
    "    \"\"\"\n",
    "    alerts, masks, incidents = encode(alerts)\n",
    "    if len(alerts) > env['CLUSTER_SAMPLES']:\n",
    "        alerts = alerts[:env['CLUSTER_SAMPLES'],:]\n",
    "        masks = masks[:env['CLUSTER_SAMPLES'],:]\n",
    "        incidents = incidents[:env['CLUSTER_SAMPLES']]\n",
    "    return alerts, masks, incidents\n",
    "\n",
    "if env.get('CUT_NONE', False):\n",
    "    get_train_alerts = get_val_alerts = get_test_alerts = lambda:_get_alerts(alerts)\n",
    "\n",
    "elif env.get('CUT_INC', False):\n",
    "    get_train_alerts = lambda:_get_alerts(alerts_train)\n",
    "    get_val_alerts = lambda:_get_alerts(alerts_val)\n",
    "    get_test_alerts = lambda:_get_alerts(alerts_test)\n",
    "\n",
    "elif env.get('CUT_ALERT', False):\n",
    "    get_train_alerts = lambda:_get_alerts(alerts_train)\n",
    "    get_val_alerts = lambda:_get_alerts(alerts_val)\n",
    "    get_test_alerts = lambda:_get_alerts(alerts_test)\n",
    "\n",
    "elif env.get('CUT_PAIR', False):\n",
    "    def _get_alerts(batch_it):\n",
    "        \"\"\"Get batch and drop unused vectors - for join and shuffle efffects\"\"\"\n",
    "        alerts, _, masks, _, _, incidents, _ = zip(*batch_it())\n",
    "        alerts = np.array(alerts)\n",
    "        masks = np.array(masks)\n",
    "        incidents = np.array(incidents)\n",
    "        if len(alerts) > env['CLUSTER_SAMPLES']:\n",
    "            alerts = alerts[:env['CLUSTER_SAMPLES'],:]\n",
    "            masks = masks[:env['CLUSTER_SAMPLES'],:]\n",
    "            incidents = incidents[:env['CLUSTER_SAMPLES']]\n",
    "        return alerts, masks, incidents\n",
    "\n",
    "    get_train_alerts = lambda:_get_alerts(get_train_batch)\n",
    "    get_val_alerts = lambda:_get_alerts(get_val_batch)\n",
    "    get_test_alerts = lambda:_get_alerts(get_test_batch)\n",
    "\n",
    "else:\n",
    "    raise NotImplementedError(\"No cut selected\")\n"
   ]
  },
  {
   "cell_type": "markdown",
   "metadata": {
    "collapsed": false
   },
   "source": [
    "## Cluster train data"
   ]
  },
  {
   "cell_type": "code",
   "execution_count": null,
   "metadata": {
    "collapsed": false
   },
   "outputs": [],
   "source": [
    "from sklearn.cluster import DBSCAN\n",
    "from sklearn import metrics\n",
    "\n",
    "logger.info(\"Clustering of alerts\")\n",
    "\n",
    "alerts_matrix, masks_matrix, incidents_vector = get_train_alerts()\n",
    "X = alert_to_vector(alerts_matrix, masks_matrix)\n",
    "y = incidents_vector\n",
    "logger.info(\"Breakdown of labels:\\n\"+ break_down_data(y))\n",
    "\n",
    "logger.info(\"Precomputing distances\")\n",
    "precomp_dist = np.zeros(shape=(len(X), len(X)))\n",
    "for i in range(len(X)):\n",
    "    for j in range(len(X)):\n",
    "        precomp_dist[i, j] = sp.spatial.distance.cosine(X[i], X[j])"
   ]
  },
  {
   "cell_type": "code",
   "execution_count": null,
   "metadata": {
    "collapsed": false
   },
   "outputs": [],
   "source": [
    "logger.info(\"Running clustering algorithm\")\n",
    "epss = np.array([0.0001, 0.0003, 0.001, 0.003, 0.01, 0.03, 0.1, 0.3, 1])\n",
    "min_sampless = np.array([1, 3, 10, 30])\n",
    "homogenity = np.zeros(shape=(len(epss), len(min_sampless)))\n",
    "n_clusters = np.zeros_like(homogenity, dtype=int)\n",
    "f1 = np.zeros_like(homogenity)\n",
    "noise = np.zeros_like(homogenity, dtype=int)\n",
    "cl_model = np.zeros_like(homogenity).tolist()\n",
    "mapper = np.zeros_like(homogenity).tolist()\n",
    "\n",
    "def build_cluster_to_incident_mapper(y, y_pred):\n",
    "    # Assign label to clusters according which incident has the largest part of its alert in the given cluster\n",
    "    # weight to handle class skew\n",
    "    weights = {l: 1/cnt for (l, cnt) in zip(*np.unique(y, return_counts=True))}\n",
    "    allocs = zip(y, y_pred)\n",
    "\n",
    "    from collections import Counter\n",
    "    c = Counter(map(tuple, allocs))\n",
    "\n",
    "    mapper = dict()\n",
    "    for _, (incident, cluster) in sorted([(c[k]*weights[k[0]], k) for k in c.keys()]):\n",
    "        mapper[cluster] = incident\n",
    "\n",
    "    mapper[-1] = -1 # Don't rely on what DBSCAN deems as noise\n",
    "    return mapper\n",
    "\n",
    "for i, eps in enumerate(epss):\n",
    "    for j, min_samples in enumerate(min_sampless):\n",
    "        cl_model[i][j] = DBSCAN(eps=eps, min_samples=min_samples).fit(X)\n",
    "        y_pred = cl_model[i][j].labels_\n",
    "        # Number of clusters in labels, ignoring noise if present.\n",
    "        n_clusters[i,j] = len(set(y_pred)) - (1 if -1 in y_pred else 0)\n",
    "        noise[i,j] = sum(y_pred == -1)\n",
    "        homogenity[i,j] = metrics.homogeneity_score(y, y_pred)\n",
    "        \n",
    "        mapper[i][j] = build_cluster_to_incident_mapper(y, y_pred)\n",
    "        y_pred_inc = np.array([mapper[i][j][el] for el in y_pred])\n",
    "        f1[i,j] = metrics.f1_score(y, y_pred_inc, average='weighted')\n",
    "\n",
    "        logger.info(\n",
    "            \"DBSCAN with (eps, min_samples)=({:1.0e},{:>2d}), n_clusters={:>3d}, homogenity={:1.3f}, f1={:1.3f}, noise={:>3d}\".format(\n",
    "                eps, min_samples, n_clusters[i,j], homogenity[i,j], f1[i,j], noise[i,j],\n",
    "            ))\n"
   ]
  },
  {
   "cell_type": "code",
   "execution_count": null,
   "metadata": {
    "collapsed": false
   },
   "outputs": [],
   "source": [
    "def param_plot_prepare(\n",
    "    title,\n",
    "):\n",
    "    fig, ax = plt.subplots()\n",
    "    ax.set_title(title)\n",
    "\n",
    "    ax.set_yscale('log')\n",
    "    ax.set_ylabel('min_samples')\n",
    "    ax.set_yticklabels(min_sampless)\n",
    "    ax.set_yticks(min_sampless)\n",
    "    ax.set_ylim(min_sampless[0]/3, min_sampless[-1]*3)\n",
    "\n",
    "    ax.set_xscale('log')\n",
    "    ax.set_xlabel('eps')\n",
    "    ax.set_xticklabels(epss)\n",
    "    ax.set_xticks(epss)\n",
    "    ax.set_xlim(epss[0]/3,epss[-1]*3)\n",
    "    ax.xaxis.set_major_formatter(matplotlib.ticker.FormatStrFormatter('%.0e'))\n",
    "\n",
    "\n",
    "def param_plot_scatter(\n",
    "    data,\n",
    "    xcoords,\n",
    "    ycoords,\n",
    "\n",
    "):\n",
    "    # scaling\n",
    "    data = np.copy(data)\n",
    "    data = data-data.min() # Range to start at zero\n",
    "    data = data/data.max() # Range to end at one\n",
    "\n",
    "    coords = np.array([\n",
    "            (i, j)\n",
    "            for i in range(data.shape[0])\n",
    "            for j in range(data.shape[1])\n",
    "    ])\n",
    "\n",
    "    plt.scatter(\n",
    "        xcoords[coords[:,0]],\n",
    "        ycoords[coords[:,1]],\n",
    "        data[coords[:,0], coords[:,1]]*1000,\n",
    "        c='white',\n",
    "        alpha=0.5\n",
    "    )\n",
    "\n",
    "\n",
    "def param_plot_annotate(\n",
    "    data,\n",
    "    xcoords,\n",
    "    ycoords,\n",
    "    fmt='{}',\n",
    "):\n",
    "    coords = np.array([\n",
    "            (i, j)\n",
    "            for i in range(data.shape[0])\n",
    "            for j in range(data.shape[1])\n",
    "    ])\n",
    "        \n",
    "    for x, y, label in zip(\n",
    "        xcoords[coords[:,0]],\n",
    "        ycoords[coords[:,1]],\n",
    "        data[coords[:,0], coords[:,1]],\n",
    "    ):\n",
    "        plt.annotate(\n",
    "            fmt.format(label),\n",
    "            xy = (x, y), xytext = (0, 0),\n",
    "            textcoords = 'offset points', ha = 'center', va = 'center',\n",
    "        )\n",
    "\n",
    "\n",
    "def param_plot_save(filename):\n",
    "    plt.tight_layout()\n",
    "    plt.savefig(filename, bbox_inches='tight')\n"
   ]
  },
  {
   "cell_type": "code",
   "execution_count": null,
   "metadata": {
    "collapsed": false
   },
   "outputs": [],
   "source": [
    "param_plot_prepare('Cluster homogenity by DBSCAN parameters')\n",
    "param_plot_scatter(homogenity, epss, min_sampless)\n",
    "param_plot_annotate(homogenity, epss, min_sampless, fmt='{:.2f}')\n",
    "param_plot_save(out_prefix+'cluster_homogenity.pdf')\n",
    "\n",
    "param_plot_prepare('Cluster count by DBSCAN parameters')\n",
    "param_plot_scatter(n_clusters, epss, min_sampless)\n",
    "param_plot_annotate(n_clusters, epss, min_sampless)\n",
    "param_plot_save(out_prefix+'cluster_count.pdf')\n",
    "\n",
    "param_plot_prepare('Detection performance (F1) by DBSCAN parameters')\n",
    "param_plot_scatter(f1, epss, min_sampless)\n",
    "param_plot_annotate(f1, epss, min_sampless, fmt='{:.2f}')\n",
    "param_plot_save(out_prefix+'cluster_detection.pdf')\n",
    "\n"
   ]
  },
  {
   "cell_type": "markdown",
   "metadata": {},
   "source": [
    "## Cluster validation data"
   ]
  },
  {
   "cell_type": "code",
   "execution_count": null,
   "metadata": {
    "collapsed": true
   },
   "outputs": [],
   "source": [
    "def dbscan_predict(dbscan_model, X_new, metric=sp.spatial.distance.cosine):\n",
    "    # Result is noise by default\n",
    "    y_new = np.ones(shape=len(X_new), dtype=int)*-1 \n",
    "    \n",
    "    # Iterate all input samples for a label\n",
    "    for j, x_new in enumerate(X_new):\n",
    "        for i, x_core in enumerate(dbscan_model.components_): \n",
    "            if  metric(x_new, x_core) < dbscan_model.eps:\n",
    "                # Assign label of x_core to x_new\n",
    "                y_new[j] = dbscan_model.labels_[dbscan_model.core_sample_indices_[i]]\n",
    "                break\n",
    "    return y_new"
   ]
  },
  {
   "cell_type": "code",
   "execution_count": null,
   "metadata": {
    "collapsed": false
   },
   "outputs": [],
   "source": [
    "logger.info(\"Applying clusters to validation data\")\n",
    "\n",
    "alerts_matrix, masks_matrix, incidents_vector = get_val_alerts()\n",
    "X = alert_to_vector(alerts_matrix, masks_matrix)\n",
    "y = incidents_vector\n",
    "\n",
    "logger.info(\"Breakdown of labels:\\n\"+ break_down_data(y))\n",
    "\n",
    "for i, eps in enumerate(epss):\n",
    "    for j, min_samples in enumerate(min_sampless):\n",
    "        y_pred = dbscan_predict(cl_model[i][j], X)\n",
    "        # Number of clusters in labels, ignoring noise if present.\n",
    "        n_clusters[i,j] = len(set(y_pred)) - (1 if -1 in y_pred else 0)\n",
    "        noise[i,j] = sum(y_pred == -1)\n",
    "        homogenity[i,j] = metrics.homogeneity_score(y, y_pred)\n",
    "        \n",
    "        y_pred_inc = np.array([mapper[i][j][el] for el in y_pred])\n",
    "        f1[i,j] = metrics.f1_score(y, y_pred_inc, average='weighted')\n",
    "\n",
    "        logger.info(\n",
    "            \"Validation of DBSCAN with (eps, min_samples)=({:1.0e},{:>2d}), n_clusters={:>3d}, homogenity={:1.3f}, f1={:1.3f}, noise={:>3d}\".format(\n",
    "                eps, min_samples, n_clusters[i,j], homogenity[i,j], f1[i,j], noise[i,j],\n",
    "            ))"
   ]
  },
  {
   "cell_type": "code",
   "execution_count": null,
   "metadata": {
    "collapsed": false
   },
   "outputs": [],
   "source": [
    "param_plot_prepare('Validation of cluster homogenity by DBSCAN parameters')\n",
    "param_plot_scatter(homogenity, epss, min_sampless)\n",
    "param_plot_annotate(homogenity, epss, min_sampless, fmt='{:.2f}')\n",
    "param_plot_save(out_prefix+'cluster_homogenity_val.pdf')\n",
    "\n",
    "param_plot_prepare('Validation of cluster count by DBSCAN parameters')\n",
    "param_plot_scatter(n_clusters, epss, min_sampless)\n",
    "param_plot_annotate(n_clusters, epss, min_sampless)\n",
    "param_plot_save(out_prefix+'cluster_count_val.pdf')\n",
    "\n",
    "param_plot_prepare('Validation of detection performance (F1) by DBSCAN parameters')\n",
    "param_plot_scatter(f1, epss, min_sampless)\n",
    "param_plot_annotate(f1, epss, min_sampless, fmt='{:.2f}')\n",
    "param_plot_save(out_prefix+'cluster_detection_val.pdf')\n",
    "\n"
   ]
  },
  {
   "cell_type": "markdown",
   "metadata": {},
   "source": [
    "## Clustering - test data"
   ]
  },
  {
   "cell_type": "code",
   "execution_count": null,
   "metadata": {
    "collapsed": true
   },
   "outputs": [],
   "source": [
    "if env['TEST']:\n",
    "    logger.info('Continuing to use test data')\n",
    "else:\n",
    "    logger.info('Validation results completed, exiting')\n",
    "    sys.exit(0)"
   ]
  },
  {
   "cell_type": "code",
   "execution_count": null,
   "metadata": {
    "collapsed": false
   },
   "outputs": [],
   "source": [
    "eps = 0.01\n",
    "min_samples =10\n",
    "i = epss.tolist().index(eps)\n",
    "j = min_sampless.tolist().index(min_samples)\n",
    "\n",
    "logger.info(\"Applying clusters to test data\")\n",
    "\n",
    "alerts_matrix, masks_matrix, incidents_vector = get_test_alerts()\n",
    "X = alert_to_vector(alerts_matrix, masks_matrix)\n",
    "y = incidents_vector\n",
    "\n",
    "y_pred = dbscan_predict(cl_model[i][j], X)\n",
    "y_pred_inc = np.array([mapper[i][j][el] for el in y_pred])"
   ]
  },
  {
   "cell_type": "code",
   "execution_count": null,
   "metadata": {
    "collapsed": false
   },
   "outputs": [],
   "source": [
    "logger.info(\n",
    "    \"Incident(i) to cluster(j) \\\"confusion matrix\\\":\\n\"+\n",
    "    str(metrics.confusion_matrix(y, y_pred))\n",
    ")\n",
    "\n",
    "labels = ['noise'] + range(n_clusters[i][j])\n",
    "desired_rows = range(1,8)\n",
    "\n",
    "res = \"\\\\hline\\n & \" + \" & \".join([str(c) for c in labels]) + '\\\\\\\\\\\\hline\\n\\\\hline\\n'\n",
    "for l, row in zip(labels, metrics.confusion_matrix(y, y_pred)):\n",
    "    if l not in desired_rows:\n",
    "        continue # No incident zero or noise as row\n",
    "    fmt = ('{}' + \" & {} \"*len(row))\n",
    "    res += fmt.format(l, *row) + '\\\\\\\\\\\\hline\\n'\n",
    "logger.info(res)\n",
    "\n"
   ]
  },
  {
   "cell_type": "code",
   "execution_count": null,
   "metadata": {
    "collapsed": false
   },
   "outputs": [],
   "source": [
    "logger.info(\n",
    "    \"Incident(i) to incident(j) confusion matrix:\\n\"+\n",
    "    str(metrics.confusion_matrix(y, y_pred_inc))\n",
    ")\n",
    "\n",
    "labels = ['noise'] + range(1,len(set(y))+1)\n",
    "desired_rows = range(1,len(set(y))+1)\n",
    "\n",
    "res = \"\\\\hline\\n & \" + \" & \".join([str(c) for c in labels]) + '\\\\\\\\\\\\hline\\n\\\\hline\\n'\n",
    "for l, row in zip(labels, metrics.confusion_matrix(y, y_pred_inc)):\n",
    "    if l not in desired_rows:\n",
    "        continue \n",
    "    fmt = ('{}' + \" & {} \"*len(row))\n",
    "    res += fmt.format(l, *row) + '\\\\\\\\\\\\hline\\n'\n",
    "logger.info(res)\n"
   ]
  },
  {
   "cell_type": "code",
   "execution_count": null,
   "metadata": {
    "collapsed": false
   },
   "outputs": [],
   "source": [
    "cm = metrics.confusion_matrix(y, y_pred_inc)\n",
    "logger.info(\"Correctly classified, disregarding noise: {:.2f}%\".format(cm[1:,1:].diagonal().sum()/cm[1:,1:].sum()*100))\n",
    "logger.info(\"Correctly classified, including noise: {:.2f}%\".format(cm[1:,1:].diagonal().sum()/cm.sum()*100))\n",
    "logger.info(\"Noise sample count: {}\".format(sum(y_pred_inc == -1)))"
   ]
  },
  {
   "cell_type": "code",
   "execution_count": null,
   "metadata": {
    "collapsed": false
   },
   "outputs": [],
   "source": [
    "logger.info(\n",
    "    \"Classification report:\\n\"+\n",
    "    metrics.classification_report(y, y_pred_inc)\n",
    ")"
   ]
  },
  {
   "cell_type": "markdown",
   "metadata": {},
   "source": [
    "## Analysing results"
   ]
  },
  {
   "cell_type": "code",
   "execution_count": null,
   "metadata": {
    "collapsed": false
   },
   "outputs": [],
   "source": [
    "def uniq_counts(l, sort_key=itemgetter(1), sort_reverse=True):\n",
    "    try:\n",
    "        l = [json.dumps(el) for el in l]\n",
    "        logger.debug('dumped to json')\n",
    "    except:\n",
    "        l = [str(el) for el in l]\n",
    "        logger.warn('failed to dump to json, casting to str')\n",
    "    unique, unique_counts = np.unique(l, return_counts=True)\n",
    "    res = sorted(\n",
    "        zip(unique, unique_counts),\n",
    "        key=sort_key,\n",
    "        reverse=sort_reverse,\n",
    "    )\n",
    "    unique, count = map(list, zip(*res))\n",
    "    try:\n",
    "        unique = list(map(json.loads, unique))\n",
    "        logger.debug('read from json')\n",
    "    except:\n",
    "        logger.warn('failed to read as json, returning as str')\n",
    "    return unique, count\n",
    "\n",
    "# a bogus incident to hold all the unclassifiable test alerts\n",
    "noise_alerts = alerts_matrix[y_pred_inc == -1]\n",
    "noise_masks = masks_matrix[y_pred_inc == -1]\n",
    "\n",
    "def decode(alert, mask):\n",
    "    alert = alert[mask.astype(bool)] # apply mask\n",
    "    alert = [chr(c) for c in alert]\n",
    "    return ''.join(alert)\n",
    "\n",
    "noise_incident = (None, [decode(a, m) for a, m in zip(noise_alerts, noise_masks)])"
   ]
  },
  {
   "cell_type": "code",
   "execution_count": null,
   "metadata": {
    "collapsed": false
   },
   "outputs": [],
   "source": [
    "logger.info('Counts of different noise alerts')\n",
    "uniq, counts = uniq_counts(\n",
    "    pool(modify(\n",
    "            [noise_incident],\n",
    "            [mask_ips, mask_tss, mask_ports],\n",
    ")))\n",
    "for i, (u, c) in enumerate(zip(uniq, counts)):\n",
    "    logger.info(\"{:2d}. n={:2d}: {}\".format(i+1, c, u[1]))"
   ]
  },
  {
   "cell_type": "code",
   "execution_count": null,
   "metadata": {
    "collapsed": false
   },
   "outputs": [],
   "source": [
    "logger.info('Priority among noise alerts:')\n",
    "uniq, counts = uniq_counts(pool(modify(\n",
    "            [noise_incident],\n",
    "            [extract_prio],\n",
    ")), sort_key=itemgetter(0), sort_reverse=False)\n",
    "for u, c in zip(uniq, counts):\n",
    "    logger.info(\"Priority {}, n={:3d}, {:5.2f}%\".format(u[1], c, c/sum(counts)*100))"
   ]
  },
  {
   "cell_type": "code",
   "execution_count": null,
   "metadata": {
    "collapsed": false
   },
   "outputs": [],
   "source": [
    "logger.info('Priority of all alerts:')\n",
    "all_alerts = pool(modify(\n",
    "        incidents,\n",
    "        [extract_prio],\n",
    "))\n",
    "all_alerts = [a[1] for a in all_alerts] # discard incident id\n",
    "uniq, counts = uniq_counts(\n",
    "    all_alerts, \n",
    "    sort_key=itemgetter(0), sort_reverse=False,\n",
    ")\n",
    "for u, c in zip(uniq, counts):\n",
    "    logger.info(\"Priority {}, n={:4d}, {:5.2f}%\".format(u, c, c/sum(counts)*100))"
   ]
  },
  {
   "cell_type": "code",
   "execution_count": null,
   "metadata": {
    "collapsed": false
   },
   "outputs": [],
   "source": [
    "logger.info('Priority of all alerts by incident:')\n",
    "uniq, counts = uniq_counts(pool(modify(\n",
    "        incidents,\n",
    "        [extract_prio],\n",
    "    )),\n",
    "    sort_key=itemgetter(0), sort_reverse=False,\n",
    ")\n",
    "uniq = np.array(uniq)-1 # asume 1-based indexing, so shift\n",
    "counts = np.array(counts)\n",
    "cnt_array = np.zeros([len(set(uniq[:,0])), len(set(uniq[:,1]))], dtype=int) # asume consecutive integers\n",
    "for (i, p), c in zip(uniq, counts):\n",
    "    cnt_array[i,p] = c\n",
    "\n",
    "s = \"Counts:\\n\"\n",
    "fmt = '{:<10}' + '{:>8}'*cnt_array.shape[1] + '\\n'\n",
    "s += fmt.format('', 'Prio 1', 'Prio 2', 'Prio 3')\n",
    "for i in np.arange(cnt_array.shape[0]):\n",
    "    s += fmt.format(*['Incident '+str(i+1)]+list(cnt_array[i,:]))\n",
    "logger.info(s)\n",
    "\n",
    "s = \"Normalised pr. incident:\\n\"\n",
    "fmt = '{:<10}' + '{:>8}'*cnt_array.shape[1] + '\\n'\n",
    "s += fmt.format('', 'Prio 1', 'Prio 2', 'Prio 3')\n",
    "fmt = '{:<10}' + '{:7.2f}%'*cnt_array.shape[1] + '\\n'\n",
    "for i in np.arange(cnt_array.shape[0]):\n",
    "    s += fmt.format(*['Incident '+str(i+1)]+list((100*cnt_array[i,:]/cnt_array.sum(axis=1)[i])))\n",
    "logger.info(s)\n",
    "\n",
    "s = \"Normalised across incident:\\n\"\n",
    "fmt = '{:<10}' + '{:>8}'*cnt_array.shape[1] + '\\n'\n",
    "s += fmt.format('', 'Prio 1', 'Prio 2', 'Prio 3')\n",
    "fmt = '{:<10}' + '{:7.2f}%'*cnt_array.shape[1] + '\\n'\n",
    "for i in np.arange(cnt_array.shape[0]):\n",
    "    s += fmt.format(*['Incident '+str(i+1)]+list(100*cnt_array[i,:]/cnt_array.sum()))\n",
    "logger.info(s)\n"
   ]
  },
  {
   "cell_type": "code",
   "execution_count": null,
   "metadata": {
    "collapsed": true
   },
   "outputs": [],
   "source": []
  }
 ],
 "metadata": {
  "kernelspec": {
   "display_name": "Python 2",
   "language": "python",
   "name": "python2"
  },
  "language_info": {
   "codemirror_mode": {
    "name": "ipython",
    "version": 2
   },
   "file_extension": ".py",
   "mimetype": "text/x-python",
   "name": "python",
   "nbconvert_exporter": "python",
   "pygments_lexer": "ipython2",
   "version": "2.7.6"
  }
 },
 "nbformat": 4,
 "nbformat_minor": 0
}
