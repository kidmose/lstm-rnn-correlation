{
 "cells": [
  {
   "cell_type": "markdown",
   "metadata": {
    "collapsed": true
   },
   "source": [
    "Copyright (C) Egon Kidmose 2015-2017\n",
    "\n",
    "This file is part of lstm-rnn-correlation.\n",
    "\n",
    "lstm-rnn-correlation is free software: you can redistribute it and/or\n",
    "modify it under the terms of the GNU Lesser General Public License as\n",
    "published by the Free Software Foundation, either version 3 of the\n",
    "License, or (at your option) any later version.\n",
    "\n",
    "lstm-rnn-correlation is distributed in the hope that it will be\n",
    "useful, but WITHOUT ANY WARRANTY; without even the implied warranty of\n",
    "MERCHANTABILITY or FITNESS FOR A PARTICULAR PURPOSE.  See the GNU\n",
    "Lesser General Public License for more details.\n",
    "\n",
    "You should have received a copy of the GNU Lesser General Public\n",
    "License along with lstm-rnn-correlation. If not, see\n",
    "<http://www.gnu.org/licenses/>.\n"
   ]
  },
  {
   "cell_type": "markdown",
   "metadata": {},
   "source": [
    "# Alert correlation with a Long Short-Term Memoroy (LSTM) Recurrent Neural Network(RNN) and cosine similarity\n",
    "\n",
    "**Author:** Egon Kidmose, egk@es.aau.dk\n",
    "\n",
    "In network security a common task is to detect network intrusions and for this purpose an Intrusion Detections System (IDS) can be used to raise alerts on suspicious network traffic.\n",
    "Snort, Suricata and Bro are examples of free and open source IDSs (Commercial products also exist).\n",
    "The alerts generally provides low level information such as recognition of strings that are known to be part of security exploits or anomalous connection rates for a host.\n",
    "By grouping alerts that are correlated into higher level events, false positives might be suppressed and attack scenarios becomes easier to recognise.\n",
    "This is a take on how to correlate IDS alerts to determine which belong in the same group.\n",
    "\n",
    "Alerts can be represented as log lines with various information such as time stamp, IP adresses, protocol information and a description of what triggered the alert.\n",
    "It is assumed that such a log lines hold the information needed to determine if two alerts are correlated or not.\n",
    "\n",
    "The input to the neural network will be two alerts and the output will indicate if they are correlated or not.\n",
    "In further detail the inputs is two strings of ASCII characters of variable length.\n",
    "For the output a Cosine Similarity layer is implemented and used to produce an output in the range [-1,1], with -1 meaning opposite, 0 meaning orthogonal and 1 meaning the same.\n",
    "\n",
    "For the hidden layers only a single layers of Long Short-Term Memory (LSTM) cells is used.\n",
    "It is an option to experiment with adding more.\n",
    "Being reccurrent, such a layer handles variable length input well.\n",
    "\n",
    "While it turned out to be to challenging to implement, the initial idea was to let the two inputs pass through LSTM layers with identical weights.\n",
    "The intent was to have them act as transformations into a space where cosine similarity could be used to measure similarity of the alerts.\n",
    "However I have not succeded at tying the weights together.\n",
    "As an alternative this might be achieved by using all training pairs in both original and swapped order.\n",
    "The intuition is that this leads to two identical layers, but intuition also suggest that this is highly ineffective.\n",
    "\n",
    "                      Output\n",
    "                        |\n",
    "    Cosine similarity   #\n",
    "                       / \\\n",
    "        LSTM layers   #   #\n",
    "                      |   |\n",
    "        \"alert number 1\"  |\n",
    "            \"alert number 2\"\n",
    "\n",
    "\n",
    "Reference: Huang, Po-Sen, et al. \"Learning deep structured semantic models for web search using clickthrough data.\" Proceedings of the 22nd ACM international conference on Conference on information & knowledge management. ACM, 2013.\n"
   ]
  },
  {
   "cell_type": "code",
   "execution_count": null,
   "metadata": {
    "collapsed": false
   },
   "outputs": [],
   "source": [
    "from __future__ import print_function\n",
    "from __future__ import division\n",
    "\n",
    "import logging\n",
    "logging.getLogger().handlers = []\n",
    "\n",
    "import sys\n",
    "import os\n",
    "import time\n",
    "import glob\n",
    "import json\n",
    "import subprocess\n",
    "import datetime\n",
    "import socket\n",
    "\n",
    "from operator import itemgetter\n",
    "\n",
    "import numpy as np\n",
    "import scipy as sp\n",
    "import theano\n",
    "import theano.tensor as T\n",
    "import matplotlib\n",
    "import pandas as pd\n",
    "\n",
    "import lasagne\n",
    "from lasagne.layers import *\n",
    "from lasagne.nonlinearities import *\n",
    "from lasagne.updates import *\n",
    "from lasagne.objectives import *\n",
    "\n",
    "import lstm_rnn_tied_weights\n",
    "from lstm_rnn_tied_weights import CosineSimilarityLayer\n",
    "from lstm_rnn_tied_weights import load, modify, split, pool, cross_join, limit, break_down_data\n",
    "from lstm_rnn_tied_weights import iterate_minibatches, encode\n",
    "from lstm_rnn_tied_weights import mask_ips, mask_tss, mask_ports\n",
    "from lstm_rnn_tied_weights import uniquify_victim, extract_prio, get_discard_by_prio\n",
    "logger = lstm_rnn_tied_weights.logger\n",
    "\n",
    "runid = datetime.datetime.now().strftime(\"%Y%m%d-%H%M%S-\") + socket.gethostname()\n",
    "out_dir = 'output/' + runid\n",
    "if not os.path.exists(out_dir):\n",
    "    os.makedirs(out_dir)\n",
    "out_prefix = out_dir + '/' + runid + '-'\n",
    "# info log file\n",
    "infofh = logging.FileHandler(out_prefix + 'info.log')\n",
    "infofh.setLevel(logging.INFO)\n",
    "infofh.setFormatter(logging.Formatter(\n",
    "        fmt='%(message)s',\n",
    "))\n",
    "logger.addHandler(infofh)\n",
    "# verbose log file\n",
    "vfh = logging.FileHandler(out_prefix + 'verbose.log')\n",
    "vfh.setLevel(logging.DEBUG)\n",
    "vfh.setFormatter(logging.Formatter(\n",
    "        fmt='%(asctime)s - PID:%(process)d - %(levelname)s - %(message)s',\n",
    "))\n",
    "logger.addHandler(vfh)\n",
    "\n",
    "env = dict()\n",
    "# git\n",
    "env['version'] = subprocess.check_output([\"git\", \"describe\"]).strip()\n",
    "if not isinstance(env['version'], str):\n",
    "    env['version'] = str(env['version'], \"UTF-8\")\n",
    "\n",
    "# OMP\n",
    "env['OMP_NUM_THREADS'] = os.environ.get('OMP_NUM_THREADS', str())\n",
    "\n",
    "# Data control\n",
    "env['MAX_PAIRS'] = int(os.environ.get('MAX_PAIRS', 0))\n",
    "env['BATCH_SIZE'] = int(os.environ.get('BATCH_SIZE', 10000))\n",
    "env['EPOCHS'] = int(os.environ.get('EPOCHS', 10))\n",
    "\n",
    "# Neural network\n",
    "env['NN_UNITS'] = [int(el) for el in os.environ.get('NN_UNITS', '10').split(',')]\n",
    "env['NN_LEARNING_RATE'] = float(os.environ.get('NN_LEARNING_RATE', '0.1'))\n",
    "\n",
    "# Load model weights from file, don't train?\n",
    "env['MODEL'] = os.environ.get('MODEL', None)\n",
    "\n",
    "# Clustering\n",
    "env['CLUSTER_SAMPLES'] = int(os.environ.get('CLUSTER_SAMPLES', 500))\n",
    "\n",
    "# Perform tests if EPS and min_samples are set\n",
    "try:\n",
    "    env['TEST_EPS'] = float(os.environ['TEST_EPS'])\n",
    "except:\n",
    "    env['TEST_EPS'] = None\n",
    "try:\n",
    "    env['TEST_MS'] = int(os.environ['TEST_MS'])\n",
    "except:\n",
    "    env['TEST_MS'] = None\n",
    "\n",
    "logger.info(\"Starting.\")\n",
    "logger.info(\"env: \" + str(env))\n",
    "for k in sorted(env.keys()):\n",
    "    logger.info('env[\\'{}\\']: {}'.format(k,env[k]))"
   ]
  },
  {
   "cell_type": "code",
   "execution_count": null,
   "metadata": {
    "collapsed": true
   },
   "outputs": [],
   "source": [
    "seed = 1470300368 # Unix time at time of writing\n",
    "def rndseed():\n",
    "    global seed\n",
    "    seed += 1\n",
    "    return seed"
   ]
  },
  {
   "cell_type": "code",
   "execution_count": null,
   "metadata": {
    "collapsed": false
   },
   "outputs": [],
   "source": [
    "class Timer(object):\n",
    "    def __init__(self, name=''):\n",
    "        self.name = name\n",
    "        \n",
    "    def __enter__(self):\n",
    "        logger.debug('Timer(%s) started' % (self.name, ))\n",
    "        self.start = time.time()\n",
    "        return self\n",
    "\n",
    "    def __exit__(self, *args):\n",
    "        self.end = time.time()\n",
    "        self.dur = datetime.timedelta(seconds=self.end - self.start)\n",
    "        logger.debug('Timer(%s):\\t%s' % (self.name, self.dur))"
   ]
  },
  {
   "cell_type": "markdown",
   "metadata": {},
   "source": [
    "## Build network"
   ]
  },
  {
   "cell_type": "code",
   "execution_count": null,
   "metadata": {
    "collapsed": false
   },
   "outputs": [],
   "source": [
    "# Data for unit testing\n",
    "X_unit = ['abcdef', 'abcdef', 'qwerty']\n",
    "X_unit = [[ord(c) for c in w] for w in X_unit]\n",
    "X_unit = np.array(X_unit, dtype='int8')\n",
    "logger.debug(X_unit)\n",
    "n_alerts_unit, l_alerts_unit = X_unit.shape\n",
    "mask_unit = np.ones(X_unit.shape, dtype='int8')\n",
    "logger.debug(mask_unit)\n"
   ]
  },
  {
   "cell_type": "code",
   "execution_count": null,
   "metadata": {
    "collapsed": true
   },
   "outputs": [],
   "source": [
    "# Dimensions\n",
    "n_alerts = None\n",
    "l_alerts = None\n",
    "n_alphabet = 2**7 # All ASCII chars\n"
   ]
  },
  {
   "cell_type": "code",
   "execution_count": null,
   "metadata": {
    "collapsed": false
   },
   "outputs": [],
   "source": [
    "# Symbolic variables\n",
    "input_var, input_var2 = T.imatrices('inputs', 'inputs2')\n",
    "mask_var, mask_var2 = T.matrices('masks', 'masks2')\n",
    "target_var = T.dvector('targets')\n"
   ]
  },
  {
   "cell_type": "code",
   "execution_count": null,
   "metadata": {
    "collapsed": false
   },
   "outputs": [],
   "source": [
    "# First line\n",
    "l_in = InputLayer(shape=(n_alerts, l_alerts), input_var=input_var, name='INPUT-LAYER')\n",
    "l_emb = EmbeddingLayer(l_in, n_alphabet, n_alphabet,\n",
    "                         W=np.eye(n_alphabet),\n",
    "                         name='EMBEDDING-LAYER')\n",
    "l_emb.params[l_emb.W].remove('trainable') # Fix weight\n",
    "l_mask = InputLayer(shape=(n_alerts, l_alerts), input_var=mask_var, name='MASK-INPUT-LAYER')\n",
    "l_lstm = l_emb\n",
    "for i, num_units in enumerate(env['NN_UNITS']):\n",
    "    logger.info('Adding {} units for {} layer'.format(num_units, i))\n",
    "    l_lstm = LSTMLayer(l_lstm, num_units=num_units, name='LSTM-LAYER[{}]'.format(i), mask_input=l_mask)\n",
    "l_slice = SliceLayer(l_lstm, indices=-1, axis=1, name=\"SLICE-LAYER\") # Only last timestep\n",
    "net = l_slice\n"
   ]
  },
  {
   "cell_type": "code",
   "execution_count": null,
   "metadata": {
    "collapsed": false
   },
   "outputs": [],
   "source": [
    "# Test first line\n",
    "\n",
    "# Test InputLayer\n",
    "pred_unit = get_output(l_in, inputs={l_in: input_var}).eval(\n",
    "    {input_var: X_unit})\n",
    "assert (pred_unit == X_unit).all(), \"Unexpected output\"\n",
    "# Test EmbeddingLayer\n",
    "pred_unit = get_output(l_emb, inputs={l_in: input_var}).eval(\n",
    "    {input_var: X_unit})\n",
    "assert (np.argmax(pred_unit, axis=2) == X_unit).all()\n",
    "assert np.all(pred_unit.shape == (n_alerts_unit, l_alerts_unit, n_alphabet ))\n",
    "# Test LSTMLayer\n",
    "pred_unit = get_output(\n",
    "    l_lstm,\n",
    "    inputs={l_in: input_var, l_mask: mask_var}\n",
    ").eval({input_var: X_unit, mask_var: mask_unit})\n",
    "assert pred_unit.shape == (n_alerts_unit, l_alerts_unit, num_units), \"Unexpected dimensions\"\n",
    "pred_unit = get_output(\n",
    "    l_lstm,\n",
    "    inputs={l_in: input_var, l_mask: mask_var}\n",
    ").eval({input_var: [[1],[1]], mask_var: [[1],[1]]})\n",
    "assert np.all(pred_unit[0] == pred_unit[1]), \"Repeated alerts must produce the same\"\n",
    "pred_unit = get_output(\n",
    "    l_lstm,\n",
    "    inputs={l_in: input_var, l_mask: mask_var}\n",
    ").eval({input_var: [[1,1],[1,1]], mask_var: [[1,1],[1,1]]})\n",
    "assert np.all(pred_unit[0] == pred_unit[1]), \"Repeated alerts must produce the same\"\n",
    "pred_unit = get_output(\n",
    "    l_lstm,\n",
    "    inputs={l_in: input_var, l_mask: mask_var}\n",
    ").eval({input_var: [[1,1],[0,1]], mask_var: [[1,1],[1,1]]})\n",
    "assert np.all(pred_unit[0] != pred_unit[1]), \"Earlier must affect laters\"\n",
    "pred_unit = get_output(\n",
    "    l_lstm,\n",
    "    inputs={l_in: input_var, l_mask: mask_var}\n",
    ").eval({input_var: [[1,0],[1,1]], mask_var: [[1,1],[1,1]]})\n",
    "assert np.all(pred_unit[0,0] == pred_unit[1,0]), \"Later must not affect earlier\"\n",
    "assert np.all(pred_unit[0,1] != pred_unit[1,1]), \"Current must make a difference\"\n",
    "# Test SliceLayer\n",
    "pred_unit = get_output(\n",
    "    l_slice,\n",
    "    inputs={l_in: input_var, l_mask: mask_var}\n",
    ").eval({input_var: X_unit, mask_var: mask_unit})\n",
    "assert pred_unit.shape == (n_alerts_unit, num_units), \"Unexpected shape\"\n",
    "pred_unit_lstm = get_output(\n",
    "    l_lstm,\n",
    "    inputs={l_in: input_var, l_mask: mask_var}\n",
    ").eval({input_var: X_unit, mask_var: mask_unit})\n",
    "assert np.all(pred_unit_lstm[:, -1, :] == pred_unit), \"Unexpected result of slicing\"\n",
    "\n",
    "logger.debug('OK')\n"
   ]
  },
  {
   "cell_type": "code",
   "execution_count": null,
   "metadata": {
    "collapsed": false
   },
   "outputs": [],
   "source": [
    "# Second line as a copy with shared weights\n",
    "l_in2 = InputLayer(shape=l_in.shape, input_var=input_var2, name=l_in.name+'2')\n",
    "l_mask2 = InputLayer(shape=l_mask.shape, input_var=mask_var2, name=l_mask.name+'2')\n",
    "net2 = lstm_rnn_tied_weights.clone(net, l_in2, l_mask2)\n"
   ]
  },
  {
   "cell_type": "code",
   "execution_count": null,
   "metadata": {
    "collapsed": false
   },
   "outputs": [],
   "source": [
    "# Merge lines\n",
    "l_cos = CosineSimilarityLayer(net, net2, name=\"COSINE-SIMILARITY-LAYER\")\n",
    "l_sig = NonlinearityLayer(l_cos, nonlinearity=sigmoid, name=\"SIGMOID-LAYER\")\n",
    "cos_net = l_sig\n"
   ]
  },
  {
   "cell_type": "code",
   "execution_count": null,
   "metadata": {
    "collapsed": false
   },
   "outputs": [],
   "source": [
    "with Timer('Compiling theano'):\n",
    "    # Training Procedure\n",
    "    prediction = get_output(cos_net)\n",
    "    loss = binary_crossentropy(prediction, target_var)\n",
    "    loss = loss.mean()\n",
    "    params = get_all_params(cos_net, trainable=True)\n",
    "    updates = sgd(loss, params, learning_rate=env['NN_LEARNING_RATE'])\n",
    "\n",
    "    # Testing Procedure\n",
    "    test_prediction = get_output(cos_net, deterministic=True)\n",
    "    test_loss = binary_crossentropy(test_prediction, target_var)\n",
    "    test_loss = test_loss.mean()\n",
    "    test_acc = T.mean(T.eq(test_prediction > 0.5, target_var),\n",
    "                      dtype=theano.config.floatX)\n",
    "\n",
    "    train_fn = theano.function([input_var, input_var2, mask_var, mask_var2, target_var], loss, updates=updates)\n",
    "    val_fn = theano.function([input_var, input_var2, mask_var, mask_var2, target_var], [test_loss, test_acc])\n",
    "    prediction_fn = theano.function([input_var, input_var2, mask_var, mask_var2], prediction)\n",
    "\n",
    "    alert_to_vector = theano.function([input_var, mask_var], get_output(l_slice))\n"
   ]
  },
  {
   "cell_type": "markdown",
   "metadata": {},
   "source": [
    "## Load data"
   ]
  },
  {
   "cell_type": "code",
   "execution_count": null,
   "metadata": {
    "collapsed": false
   },
   "outputs": [],
   "source": [
    "with Timer('Load data'):\n",
    "    data = pd.read_csv('data/own-recordings/alerts-merged-cleaned.log.1465471791')\n",
    "\n",
    "# Test data\n",
    "test_incidents = np.array(['1', '2', 'benign']*2)\n",
    "test_alerts = np.array(\n",
    "    [\n",
    "        'alert %s of incident %s' % (a, i)\n",
    "         for i, a in zip(test_incidents, np.arange(len(test_incidents)))\n",
    "    ]\n",
    ")\n",
    "test_data1 = pd.DataFrame(\n",
    "    np.concatenate([test_incidents.reshape(6, 1), test_alerts.reshape(6, 1)], axis=1),\n",
    "    columns=['incident', 'alert']\n",
    ")\n",
    "test_data1['cut'] = 0\n",
    "test_data2 = test_data1.copy()[:2]\n",
    "test_data2['cut'] = 1\n",
    "test_data = pd.concat([test_data1, test_data2]).reset_index(drop=True)"
   ]
  },
  {
   "cell_type": "markdown",
   "metadata": {},
   "source": [
    "## Encode"
   ]
  },
  {
   "cell_type": "code",
   "execution_count": null,
   "metadata": {
    "collapsed": false
   },
   "outputs": [],
   "source": [
    "max_len = data['alert'].apply(len).max()\n",
    "\n",
    "def encode_alert(alert):\n",
    "    encoded_alert = np.zeros(max_len, dtype='int8')\n",
    "    encoded_alert[:len(alert)] = map(ord, alert)\n",
    "    return encoded_alert\n",
    "\n",
    "def build_mask(encoded_alert):\n",
    "    mask = (encoded_alert > 0).astype('int8')\n",
    "    return mask\n",
    "\n",
    "# Test\n",
    "test_alert = data['alert'].iloc[0]\n",
    "test_encoded_alert = encode_alert(test_alert)\n",
    "test_mask = build_mask(test_encoded_alert)\n",
    "assert ''.join(map(chr,test_encoded_alert[test_mask.astype(bool)])) == test_alert,\\\n",
    "    \"First alert cannot be encoded and decoded: %s\" % test_alert\n",
    "\n",
    "with Timer('Encode alerts'):\n",
    "    data['encoded_alert'] = data['alert'].apply(encode_alert)\n",
    "    data['mask'] = data['encoded_alert'].apply(build_mask)\n",
    "\n",
    "    # incident as int, -1 represent benign\n",
    "    data['incident'] = pd.to_numeric(data['incident'], errors='coerce').fillna(-1).astype(int)"
   ]
  },
  {
   "cell_type": "markdown",
   "metadata": {},
   "source": [
    "## Cut data, pairing"
   ]
  },
  {
   "cell_type": "code",
   "execution_count": null,
   "metadata": {
    "collapsed": false
   },
   "outputs": [],
   "source": [
    "def get_pairs(data):\n",
    "    KEY = 'DUMMY_MERGE_KEY'\n",
    "    assert KEY not in data.columns\n",
    "    data = data.copy(deep=False)\n",
    "    data[KEY] = 0\n",
    "    pairs = pd.merge(data, data, on=KEY)\n",
    "    pairs.drop(KEY , axis=1, inplace=True)\n",
    "    return pairs\n",
    "\n",
    "# Test get_pairs\n",
    "test_pairs = get_pairs(test_data)\n",
    "assert len(test_pairs) == len(test_data) ** 2\n",
    "\n",
    "def is_correlated(row):\n",
    "    \"\"\"\n",
    "    row[0], row[1] : ints for incidents, with benign encoded as -1\n",
    "    \"\"\"\n",
    "    return (row[0]!=-1) & (row[1]!=-1) & (row[0]==row[1])\n",
    "\n",
    "assert is_correlated([0, 0]), \"Same incident must result in true\"\n",
    "assert not is_correlated([0, 1]), \"Different incident must result in false\"\n",
    "assert not is_correlated([0, -1]), \"Benign must result in false\"\n",
    "assert not is_correlated([-1, -1]), \"Benign must result in false\"\n",
    "\n",
    "def add_cor_col(pairs):\n",
    "    pairs = pairs.copy(deep=False)\n",
    "    pairs['cor'] = pairs[['incident_x', 'incident_y']].apply(is_correlated, raw=True, axis=1)\n",
    "    return pairs\n",
    "    \n",
    "def shuffle(pairs):\n",
    "    np.random.seed(rndseed())\n",
    "    return pairs.reindex(np.random.permutation(pairs.index))\n",
    "\n",
    "def downsample_benign(data):\n",
    "    \"\"\"\n",
    "    Downsample benign to make up 50 percent of all\n",
    "    \"\"\"\n",
    "    malicious = data[(data['incident']!=-1)]\n",
    "    benign = data[(data['incident']==-1)]\n",
    "    benign = benign.sample(n=len(malicious), random_state=rndseed())\n",
    "    return pd.concat([benign, malicious])\n",
    "\n",
    "def take_and_modify_cut(data, cut):\n",
    "    data = downsample_benign(data[(data['cut']==cut)])\n",
    "    pairs = get_pairs(data)\n",
    "    pairs = shuffle(pairs)\n",
    "    pairs = add_cor_col(pairs)\n",
    "    return pairs\n",
    "\n",
    "with Timer('Build pairs'):\n",
    "    pairs_train = take_and_modify_cut(data, 0)\n",
    "    pairs_val = take_and_modify_cut(data, 1)\n",
    "    pairs_test = take_and_modify_cut(data, 2)"
   ]
  },
  {
   "cell_type": "code",
   "execution_count": null,
   "metadata": {
    "collapsed": false
   },
   "outputs": [],
   "source": [
    "def iterate_minibatches(pairs, batch_size, max_pairs=0):\n",
    "    ii = 0 # minibatch counter\n",
    "    if max_pairs != 0:\n",
    "        logger.debug('Limiting to {}'.format(max_pairs))\n",
    "        pairs = pairs.head(max_pairs)\n",
    "    assert len(pairs) >= batch_size, \\\n",
    "        \"{} samples is not enough to produce a minibatch of {} samples\"\\\n",
    "        .format(len(pairs), batch_size)\n",
    "    logger.info('Expect %d minibatches' % (len(pairs)//batch_size))\n",
    "    while len(pairs) - ii * batch_size >= batch_size:\n",
    "        with Timer('Minibatch{}'.format(ii)):\n",
    "            begin = ii * batch_size\n",
    "            ii += 1\n",
    "            end = ii * batch_size\n",
    "            logger.debug(\"Producing minibatch no. %d\" % ii)\n",
    "            batch = pairs.iloc[begin:end]\n",
    "            inputs1 = np.array(batch['encoded_alert_x'].values.tolist())\n",
    "            inputs2 = np.array(batch['encoded_alert_y'].values.tolist())\n",
    "            masks1 = np.array(batch['mask_x'].values.tolist())\n",
    "            masks2 = np.array(batch['mask_y'].values.tolist())\n",
    "            targets = np.array(batch['cor'].values.tolist())\n",
    "        yield inputs1, inputs2, masks1, masks2, targets"
   ]
  },
  {
   "cell_type": "markdown",
   "metadata": {},
   "source": [
    "## Load model"
   ]
  },
  {
   "cell_type": "code",
   "execution_count": null,
   "metadata": {
    "collapsed": false
   },
   "outputs": [],
   "source": [
    "if env['MODEL']:\n",
    "    logger.info('Loading model from {}'.format(env['MODEL']))\n",
    "    with open(env['MODEL']) as f:\n",
    "        model = json.loads(f.read())\n",
    "\n",
    "    # Order accoording to current model (JSON might reorder)\n",
    "    params = get_all_params(cos_net)\n",
    "    values = [np.array(model['model'][p.name]) for p in params]\n",
    "\n",
    "    set_all_param_values(cos_net, values)\n",
    "\n",
    "def dump_model(net, filename):\n",
    "    model = {'model':{str(p): v.tolist() for p, v in zip(get_all_params(net), get_all_param_values(net))}}\n",
    "    logger.info('Saving model to {}'.format(filename))\n",
    "    with open(filename, 'w') as f:\n",
    "        f.write(json.dumps(model))\n",
    "    logger.info('Model saved')"
   ]
  },
  {
   "cell_type": "markdown",
   "metadata": {},
   "source": [
    "## Train"
   ]
  },
  {
   "cell_type": "code",
   "execution_count": null,
   "metadata": {
    "collapsed": false
   },
   "outputs": [],
   "source": [
    "if not env['MODEL']:\n",
    "    logger.info(\"Starting training...\")\n",
    "    for epoch in range(env['EPOCHS']):\n",
    "        train_mbatches = 0\n",
    "        start_epoch = time.time()\n",
    "        with Timer('Shuffle, epoch {}'.format(epoch)):\n",
    "            pairs_train = shuffle(pairs_train)\n",
    "        for mbatch in iterate_minibatches(pairs_train, env['BATCH_SIZE'], env['MAX_PAIRS']):\n",
    "            start_mbatch = time.time()\n",
    "            train_fn(*mbatch)\n",
    "            train_mbatches += 1\n",
    "            n_pairs_mbatch = mbatch[0].shape[0]\n",
    "            speed = n_pairs_mbatch/(time.time()-start_mbatch)\n",
    "            logger.debug('Minibatch completed. speed=%d [pairs/sec]' % speed)\n",
    "        \n",
    "        train_err = 0\n",
    "        train_acc = 0\n",
    "        train_mbatches = 0\n",
    "        for mbatch in iterate_minibatches(pairs_train, env['BATCH_SIZE'], env['MAX_PAIRS']):\n",
    "            err, acc = val_fn(*mbatch)\n",
    "            train_err += err\n",
    "            train_acc += acc\n",
    "            train_mbatches += 1\n",
    "            \n",
    "        val_err = 0\n",
    "        val_acc = 0\n",
    "        val_mbatches = 0\n",
    "        for mbatch in iterate_minibatches(pairs_val, env['BATCH_SIZE'], env['MAX_PAIRS']):\n",
    "            with Timer('Validation epoch {}'.format(epoch)):\n",
    "                err, acc = val_fn(*mbatch)\n",
    "            val_err += err\n",
    "            val_acc += acc\n",
    "            val_mbatches += 1\n",
    "\n",
    "        logger.info(\"  training loss:\\t\\t{:.20f}\".format(train_err / train_mbatches))\n",
    "        logger.info(\"  training accuracy:\\t\\t{:.2f} %\".format(val_err / train_mbatches * 100))\n",
    "        logger.info(\"  validation loss:\\t\\t{:.20f}\".format(val_err / val_mbatches))\n",
    "        logger.info(\"  validation accuracy:\\t\\t{:.2f} %\".format(val_acc / val_mbatches * 100))\n",
    "        \n",
    "        dump_model(cos_net, out_prefix + 'model' + str(epoch).zfill(len(str(env['EPOCHS'])))+ '.json')\n",
    "\n",
    "        end_epoch = time.time()\n",
    "        dur_epoch = end_epoch-start_epoch\n",
    "        logger.info(\"Completed epoch %s of %d, time=%.3f[sec]\" \\\n",
    "                    % (epoch + 1, env['EPOCHS'], dur_epoch))\n",
    "        logger.info('Timer(Epoch)\\t\\t%s' % datetime.timedelta(seconds=dur_epoch))\n",
    "        \n",
    "    logger.info('Training complete')"
   ]
  },
  {
   "cell_type": "markdown",
   "metadata": {},
   "source": [
    "## Test"
   ]
  },
  {
   "cell_type": "code",
   "execution_count": null,
   "metadata": {
    "collapsed": false
   },
   "outputs": [],
   "source": [
    "\"\"\"\n",
    "test_err = 0\n",
    "test_acc = 0\n",
    "test_batches = 0\n",
    "for batch in iterate_minibatches(get_test_batch(), env['BATCH_SIZE']):\n",
    "    err, acc = val_fn(*batch)\n",
    "    test_err += err\n",
    "    test_acc += acc\n",
    "    test_batches += 1\n",
    "\n",
    "logger.info(\"Final results:\")\n",
    "logger.info(\"  test loss:\\t\\t\\t{:.6f}\".format(test_err / test_batches))\n",
    "logger.info(\"  test accuracy:\\t\\t{:.2f} %\".format(\n",
    "    test_acc / test_batches * 100))\n",
    "\"\"\""
   ]
  },
  {
   "cell_type": "markdown",
   "metadata": {},
   "source": [
    "## Dump model"
   ]
  },
  {
   "cell_type": "code",
   "execution_count": null,
   "metadata": {
    "collapsed": false,
    "scrolled": false
   },
   "outputs": [],
   "source": [
    "dump_model(cos_net, out_prefix + 'model.json')\n"
   ]
  },
  {
   "cell_type": "markdown",
   "metadata": {},
   "source": [
    "## Plot"
   ]
  },
  {
   "cell_type": "code",
   "execution_count": null,
   "metadata": {
    "collapsed": false
   },
   "outputs": [],
   "source": [
    "# might, might not have x available\n",
    "try:\n",
    "    os.environ['DISPLAY']\n",
    "except KeyError:\n",
    "    matplotlib.use('Agg')\n",
    "# might, might not be notebook\n",
    "try:\n",
    "    %matplotlib inline\n",
    "except NameError:\n",
    "    pass\n",
    "\n",
    "error_dict = dict()\n",
    "\n",
    "land = np.logical_and\n",
    "lnot = np.logical_not\n",
    "    \n",
    "for batch in iterate_minibatches(get_val_batch(), len(list(get_val_batch())), keep_incidents=True):\n",
    "    alerts1, alerts2, masks1, masks2, corelations, iz, js = batch\n",
    "    pred_floats = prediction_fn(alerts1, alerts2, masks1, masks2)\n",
    "\n",
    "    logger.debug(\"Calculating error\")\n",
    "    positive = (pred_floats) > 0.5\n",
    "    correct = np.equal(corelations, positive)\n",
    "    true_positive = land(correct, positive)\n",
    "    true_negative = land(correct, lnot(positive))\n",
    "    false_positive = land(lnot(correct), positive)\n",
    "    false_negative = land(lnot(correct), lnot(positive))\n",
    "\n",
    "    logger.debug(\"Summing errors by incidents\")\n",
    "    for tp, tn, fp, fn, i, j in zip(\n",
    "        true_positive, true_negative,\n",
    "        false_positive, false_negative,\n",
    "        iz, js\n",
    "    ):\n",
    "        error_dict[i] = error_dict.get(i, np.zeros(4)) + np.array([tp, tn, fp, fn])\n",
    "        error_dict[j] = error_dict.get(j, np.zeros(4)) + np.array([tp, tn, fp, fn])\n",
    "        \n",
    "(labels, errors) = zip(*sorted(list(error_dict.items())))\n",
    "errors = np.array(errors)\n",
    "errors_norm = errors / errors.sum(axis=1)[:, None]\n",
    "\n"
   ]
  },
  {
   "cell_type": "code",
   "execution_count": null,
   "metadata": {
    "collapsed": false
   },
   "outputs": [],
   "source": [
    "TP, TN, FP, FN = range(4)\n",
    "\n",
    "error_count_latex = str()\n",
    "error_count_latex += \"\\\\hline\\n\" + \" & \".join(['Incident', 'TP', 'TN', 'FP', 'FN']) + '\\\\\\\\\\\\hline \\n \\\\hline \\n'\n",
    "for i, line in enumerate(errors):\n",
    "    fmt = \"{}\" + \" & ${:>8.0f} $\"*4 + '\\\\\\\\\\\\hline \\n'\n",
    "    error_count_latex += fmt.format(i+1, *line)\n",
    "logger.info('Error counts: \\n' + error_count_latex)\n",
    "\n",
    "# error rates\n",
    "tpr = errors[:,TP] / (errors[:,TP] + errors[:,FN])\n",
    "tnr = errors[:,TN] / (errors[:,TN] + errors[:,FP])\n",
    "fpr = errors[:,FP] / (errors[:,TN] + errors[:,FP])\n",
    "fnr = errors[:,FN] / (errors[:,TP] + errors[:,FN])\n",
    "error_rates = np.vstack((tpr, tnr, fpr, fnr)).T\n",
    "\n",
    "error_rates = np.vstack((error_rates, error_rates.mean(axis=0)[None,:])) # Average rates\n",
    "\n",
    "error_rates_latex = str()\n",
    "error_rates_latex += \"\\\\hline\\n\" + \" & \".join(['Incident', 'TPR', 'TNR', 'FPR', 'FNR']) + '\\\\\\\\\\\\hline \\n \\\\hline \\n'\n",
    "for i, line in enumerate(error_rates):\n",
    "    if i == 7:\n",
    "        i = 'Avg.'\n",
    "    else:\n",
    "        i = i + 1\n",
    "    fmt = (\"{}\" + \" & ${:>8.2f} \\%$\"*4 + '\\\\\\\\\\\\hline \\n')\n",
    "    error_rates_latex += fmt.format(i, *line*100)\n",
    "logger.info('Error rates: \\n' + error_rates_latex)"
   ]
  },
  {
   "cell_type": "code",
   "execution_count": null,
   "metadata": {
    "collapsed": false
   },
   "outputs": [],
   "source": [
    "import matplotlib.pyplot as plt\n",
    "\n",
    "index = np.arange(len(labels))\n",
    "\n",
    "fig, ax = plt.subplots()\n",
    "\n",
    "bar_width = 0.2\n",
    "\n",
    "\n",
    "\n",
    "types = ['True Positive', 'True Negative', 'False Positive', 'False Negative']\n",
    "colors = ['g', 'b', 'r', 'y']\n",
    "\n",
    "for i, (typ, color) in enumerate(zip(types, colors)):\n",
    "    rect = plt.bar(\n",
    "        index + bar_width*i,\n",
    "        errors_norm[:,i],\n",
    "        bar_width,\n",
    "        alpha=0.8,\n",
    "        color=color,\n",
    "        error_kw={'ecolor': '0.3'},\n",
    "        label=typ,\n",
    "    )\n",
    "\n",
    "plt.xlabel('Incident')\n",
    "plt.ylabel('Rate')\n",
    "plt.xticks(index + bar_width, labels)\n",
    "plt.legend(bbox_to_anchor=(0., 1.02, 1., .102), loc=3,\n",
    "           ncol=2, mode=\"expand\", borderaxespad=0.)\n",
    "\n",
    "plt.tight_layout()\n",
    "\n",
    "plt.savefig(out_prefix+'detection_norm.pdf', bbox_inches='tight')"
   ]
  },
  {
   "cell_type": "code",
   "execution_count": null,
   "metadata": {
    "collapsed": false
   },
   "outputs": [],
   "source": [
    "for i, (typ, color) in enumerate(zip(types, colors)):\n",
    "    rect = plt.bar(\n",
    "        index + bar_width*i,\n",
    "        errors[:,i],\n",
    "        bar_width,\n",
    "        alpha=0.8,\n",
    "        color=color,\n",
    "        error_kw={'ecolor': '0.3'},\n",
    "        label=typ,\n",
    "    )\n",
    "\n",
    "plt.xlabel('Incident')\n",
    "plt.ylabel('Count (Pairs)')\n",
    "plt.xticks(index + bar_width, labels)\n",
    "plt.legend(bbox_to_anchor=(0., 1.02, 1., .102), loc=3,\n",
    "           ncol=2, mode=\"expand\", borderaxespad=0.)\n",
    "\n",
    "plt.tight_layout()\n",
    "\n",
    "plt.savefig(out_prefix+'detection_notnorm.pdf', bbox_inches='tight')"
   ]
  },
  {
   "cell_type": "markdown",
   "metadata": {},
   "source": [
    "# Clustering"
   ]
  },
  {
   "cell_type": "code",
   "execution_count": null,
   "metadata": {
    "collapsed": false
   },
   "outputs": [],
   "source": [
    "# data, encoded and structured for clustering\n",
    "\n",
    "def _get_alerts(alerts):\n",
    "    \"\"\"\n",
    "    Encode and structures single alerts similarly to pairs\n",
    "\n",
    "    Similar to _get_batch, but ommitting second alerts and correlation.\n",
    "    \"\"\"\n",
    "    alerts, masks, incidents = encode(alerts)\n",
    "    if len(alerts) > env['CLUSTER_SAMPLES']:\n",
    "        alerts = alerts[:env['CLUSTER_SAMPLES'],:]\n",
    "        masks = masks[:env['CLUSTER_SAMPLES'],:]\n",
    "        incidents = incidents[:env['CLUSTER_SAMPLES']]\n",
    "    return alerts, masks, incidents\n",
    "\n",
    "if env.get('CUT_NONE', False):\n",
    "    get_train_alerts = get_val_alerts = get_test_alerts = lambda:_get_alerts(alerts)\n",
    "\n",
    "elif env.get('CUT_INC', False):\n",
    "    get_train_alerts = lambda:_get_alerts(alerts_train)\n",
    "    get_val_alerts = lambda:_get_alerts(alerts_val)\n",
    "    get_test_alerts = lambda:_get_alerts(alerts_test)\n",
    "\n",
    "elif env.get('CUT_ALERT', False):\n",
    "    get_train_alerts = lambda:_get_alerts(alerts_train)\n",
    "    get_val_alerts = lambda:_get_alerts(alerts_val)\n",
    "    get_test_alerts = lambda:_get_alerts(alerts_test)\n",
    "\n",
    "elif env.get('CUT_PAIR', False):\n",
    "    def _get_alerts(batch_it):\n",
    "        \"\"\"Get batch and drop unused vectors - for join and shuffle efffects\"\"\"\n",
    "        alerts, _, masks, _, _, incidents, _ = zip(*batch_it())\n",
    "        alerts = np.array(alerts)\n",
    "        masks = np.array(masks)\n",
    "        incidents = np.array(incidents)\n",
    "        if len(alerts) > env['CLUSTER_SAMPLES']:\n",
    "            alerts = alerts[:env['CLUSTER_SAMPLES'],:]\n",
    "            masks = masks[:env['CLUSTER_SAMPLES'],:]\n",
    "            incidents = incidents[:env['CLUSTER_SAMPLES']]\n",
    "        return alerts, masks, incidents\n",
    "\n",
    "    get_train_alerts = lambda:_get_alerts(get_train_batch)\n",
    "    get_val_alerts = lambda:_get_alerts(get_val_batch)\n",
    "    get_test_alerts = lambda:_get_alerts(get_test_batch)\n",
    "\n",
    "else:\n",
    "    raise NotImplementedError(\"No cut selected\")\n"
   ]
  },
  {
   "cell_type": "markdown",
   "metadata": {
    "collapsed": false
   },
   "source": [
    "## Cluster train data"
   ]
  },
  {
   "cell_type": "code",
   "execution_count": null,
   "metadata": {
    "collapsed": false
   },
   "outputs": [],
   "source": [
    "from sklearn.cluster import DBSCAN\n",
    "from sklearn import metrics\n",
    "\n",
    "logger.info(\"Clustering of alerts\")\n",
    "\n",
    "alerts_matrix, masks_matrix, incidents_vector = get_train_alerts()\n",
    "X = alert_to_vector(alerts_matrix, masks_matrix)\n",
    "y = incidents_vector\n",
    "logger.info(\"Breakdown of labels:\\n\"+ break_down_data(y))\n",
    "\n",
    "logger.info(\"Precomputing distances\")\n",
    "precomp_dist = np.zeros(shape=(len(X), len(X)))\n",
    "for i in range(len(X)):\n",
    "    for j in range(len(X)):\n",
    "        precomp_dist[i, j] = sp.spatial.distance.cosine(X[i], X[j])"
   ]
  },
  {
   "cell_type": "code",
   "execution_count": null,
   "metadata": {
    "collapsed": false
   },
   "outputs": [],
   "source": [
    "logger.info(\"Running clustering algorithm\")\n",
    "epss = np.array([0.0001, 0.0003, 0.001, 0.003, 0.01, 0.03, 0.1, 0.3, 1])\n",
    "min_sampless = np.array([1, 3, 10, 30])\n",
    "homogenity = np.zeros(shape=(len(epss), len(min_sampless)))\n",
    "n_clusters = np.zeros_like(homogenity, dtype=int)\n",
    "f1 = np.zeros_like(homogenity)\n",
    "noise = np.zeros_like(homogenity, dtype=int)\n",
    "cl_model = np.zeros_like(homogenity).tolist()\n",
    "mapper = np.zeros_like(homogenity).tolist()\n",
    "\n",
    "def build_cluster_to_incident_mapper(y, y_pred):\n",
    "    # Assign label to clusters according which incident has the largest part of its alert in the given cluster\n",
    "    # weight to handle class skew\n",
    "    weights = {l: 1/cnt for (l, cnt) in zip(*np.unique(y, return_counts=True))}\n",
    "    allocs = zip(y, y_pred)\n",
    "\n",
    "    from collections import Counter\n",
    "    c = Counter(map(tuple, allocs))\n",
    "\n",
    "    mapper = dict()\n",
    "    for _, (incident, cluster) in sorted([(c[k]*weights[k[0]], k) for k in c.keys()]):\n",
    "        mapper[cluster] = incident\n",
    "\n",
    "    mapper[-1] = -1 # Don't rely on what DBSCAN deems as noise\n",
    "    return mapper\n",
    "\n",
    "for i, eps in enumerate(epss):\n",
    "    for j, min_samples in enumerate(min_sampless):\n",
    "        cl_model[i][j] = DBSCAN(eps=eps, min_samples=min_samples).fit(X)\n",
    "        y_pred = cl_model[i][j].labels_\n",
    "        # Number of clusters in labels, ignoring noise if present.\n",
    "        n_clusters[i,j] = len(set(y_pred)) - (1 if -1 in y_pred else 0)\n",
    "        noise[i,j] = sum(y_pred == -1)\n",
    "        homogenity[i,j] = metrics.homogeneity_score(y, y_pred)\n",
    "        \n",
    "        mapper[i][j] = build_cluster_to_incident_mapper(y, y_pred)\n",
    "        y_pred_inc = np.array([mapper[i][j][el] for el in y_pred])\n",
    "        f1[i,j] = metrics.f1_score(y, y_pred_inc, average='weighted')\n",
    "\n",
    "        logger.info(\n",
    "            \"DBSCAN with (eps, min_samples)=({:1.0e},{:>2d}), n_clusters={:>3d}, homogenity={:1.3f}, f1={:1.3f}, noise={:>3d}\".format(\n",
    "                eps, min_samples, n_clusters[i,j], homogenity[i,j], f1[i,j], noise[i,j],\n",
    "            ))\n"
   ]
  },
  {
   "cell_type": "code",
   "execution_count": null,
   "metadata": {
    "collapsed": false
   },
   "outputs": [],
   "source": [
    "def param_plot_prepare(\n",
    "    title,\n",
    "):\n",
    "    fig, ax = plt.subplots()\n",
    "    ax.set_title(title)\n",
    "\n",
    "    ax.set_yscale('log')\n",
    "    ax.set_ylabel('min_samples')\n",
    "    ax.set_yticklabels(min_sampless)\n",
    "    ax.set_yticks(min_sampless)\n",
    "    ax.set_ylim(min_sampless[0]/3, min_sampless[-1]*3)\n",
    "\n",
    "    ax.set_xscale('log')\n",
    "    ax.set_xlabel('eps')\n",
    "    ax.set_xticklabels(epss)\n",
    "    ax.set_xticks(epss)\n",
    "    ax.set_xlim(epss[0]/3,epss[-1]*3)\n",
    "    ax.xaxis.set_major_formatter(matplotlib.ticker.FormatStrFormatter('%.0e'))\n",
    "\n",
    "\n",
    "def param_plot_scatter(\n",
    "    data,\n",
    "    xcoords,\n",
    "    ycoords,\n",
    "\n",
    "):\n",
    "    # scaling\n",
    "    data = np.copy(data)\n",
    "    data = data-data.min() # Range to start at zero\n",
    "    data = data/data.max() # Range to end at one\n",
    "\n",
    "    coords = np.array([\n",
    "            (i, j)\n",
    "            for i in range(data.shape[0])\n",
    "            for j in range(data.shape[1])\n",
    "    ])\n",
    "\n",
    "    plt.scatter(\n",
    "        xcoords[coords[:,0]],\n",
    "        ycoords[coords[:,1]],\n",
    "        data[coords[:,0], coords[:,1]]*1000,\n",
    "        c='white',\n",
    "        alpha=0.5\n",
    "    )\n",
    "\n",
    "\n",
    "def param_plot_annotate(\n",
    "    data,\n",
    "    xcoords,\n",
    "    ycoords,\n",
    "    fmt='{}',\n",
    "):\n",
    "    coords = np.array([\n",
    "            (i, j)\n",
    "            for i in range(data.shape[0])\n",
    "            for j in range(data.shape[1])\n",
    "    ])\n",
    "        \n",
    "    for x, y, label in zip(\n",
    "        xcoords[coords[:,0]],\n",
    "        ycoords[coords[:,1]],\n",
    "        data[coords[:,0], coords[:,1]],\n",
    "    ):\n",
    "        plt.annotate(\n",
    "            fmt.format(label),\n",
    "            xy = (x, y), xytext = (0, 0),\n",
    "            textcoords = 'offset points', ha = 'center', va = 'center',\n",
    "        )\n",
    "\n",
    "\n",
    "def param_plot_save(filename):\n",
    "    plt.tight_layout()\n",
    "    plt.savefig(filename, bbox_inches='tight')\n"
   ]
  },
  {
   "cell_type": "code",
   "execution_count": null,
   "metadata": {
    "collapsed": false
   },
   "outputs": [],
   "source": [
    "param_plot_prepare('Cluster homogenity by DBSCAN parameters')\n",
    "param_plot_scatter(homogenity, epss, min_sampless)\n",
    "param_plot_annotate(homogenity, epss, min_sampless, fmt='{:.2f}')\n",
    "param_plot_save(out_prefix+'cluster_homogenity.pdf')\n",
    "\n",
    "param_plot_prepare('Cluster count by DBSCAN parameters')\n",
    "param_plot_scatter(n_clusters, epss, min_sampless)\n",
    "param_plot_annotate(n_clusters, epss, min_sampless)\n",
    "param_plot_save(out_prefix+'cluster_count.pdf')\n",
    "\n",
    "param_plot_prepare('Detection performance (F1) by DBSCAN parameters')\n",
    "param_plot_scatter(f1, epss, min_sampless)\n",
    "param_plot_annotate(f1, epss, min_sampless, fmt='{:.2f}')\n",
    "param_plot_save(out_prefix+'cluster_detection.pdf')\n",
    "\n"
   ]
  },
  {
   "cell_type": "markdown",
   "metadata": {},
   "source": [
    "## Cluster validation data"
   ]
  },
  {
   "cell_type": "code",
   "execution_count": null,
   "metadata": {
    "collapsed": true
   },
   "outputs": [],
   "source": [
    "def dbscan_predict(dbscan_model, X_new, metric=sp.spatial.distance.cosine):\n",
    "    # Result is noise by default\n",
    "    y_new = np.ones(shape=len(X_new), dtype=int)*-1 \n",
    "    \n",
    "    # Iterate all input samples for a label\n",
    "    for j, x_new in enumerate(X_new):\n",
    "        for i, x_core in enumerate(dbscan_model.components_): \n",
    "            if  metric(x_new, x_core) < dbscan_model.eps:\n",
    "                # Assign label of x_core to x_new\n",
    "                y_new[j] = dbscan_model.labels_[dbscan_model.core_sample_indices_[i]]\n",
    "                break\n",
    "    return y_new"
   ]
  },
  {
   "cell_type": "code",
   "execution_count": null,
   "metadata": {
    "collapsed": false
   },
   "outputs": [],
   "source": [
    "logger.info(\"Applying clusters to validation data\")\n",
    "\n",
    "alerts_matrix, masks_matrix, incidents_vector = get_val_alerts()\n",
    "X = alert_to_vector(alerts_matrix, masks_matrix)\n",
    "y = incidents_vector\n",
    "\n",
    "logger.info(\"Breakdown of labels:\\n\"+ break_down_data(y))\n",
    "\n",
    "for i, eps in enumerate(epss):\n",
    "    for j, min_samples in enumerate(min_sampless):\n",
    "        y_pred = dbscan_predict(cl_model[i][j], X)\n",
    "        # Number of clusters in labels, ignoring noise if present.\n",
    "        n_clusters[i,j] = len(set(y_pred)) - (1 if -1 in y_pred else 0)\n",
    "        noise[i,j] = sum(y_pred == -1)\n",
    "        homogenity[i,j] = metrics.homogeneity_score(y, y_pred)\n",
    "        \n",
    "        y_pred_inc = np.array([mapper[i][j][el] for el in y_pred])\n",
    "        f1[i,j] = metrics.f1_score(y, y_pred_inc, average='weighted')\n",
    "\n",
    "        logger.info(\n",
    "            \"Validation of DBSCAN with (eps, min_samples)=({:1.0e},{:>2d}), n_clusters={:>3d}, homogenity={:1.3f}, f1={:1.3f}, noise={:>3d}\".format(\n",
    "                eps, min_samples, n_clusters[i,j], homogenity[i,j], f1[i,j], noise[i,j],\n",
    "            ))"
   ]
  },
  {
   "cell_type": "code",
   "execution_count": null,
   "metadata": {
    "collapsed": false
   },
   "outputs": [],
   "source": [
    "param_plot_prepare('Validation of cluster homogenity by DBSCAN parameters')\n",
    "param_plot_scatter(homogenity, epss, min_sampless)\n",
    "param_plot_annotate(homogenity, epss, min_sampless, fmt='{:.2f}')\n",
    "param_plot_save(out_prefix+'cluster_homogenity_val.pdf')\n",
    "\n",
    "param_plot_prepare('Validation of cluster count by DBSCAN parameters')\n",
    "param_plot_scatter(n_clusters, epss, min_sampless)\n",
    "param_plot_annotate(n_clusters, epss, min_sampless)\n",
    "param_plot_save(out_prefix+'cluster_count_val.pdf')\n",
    "\n",
    "param_plot_prepare('Validation of detection performance (F1) by DBSCAN parameters')\n",
    "param_plot_scatter(f1, epss, min_sampless)\n",
    "param_plot_annotate(f1, epss, min_sampless, fmt='{:.2f}')\n",
    "param_plot_save(out_prefix+'cluster_detection_val.pdf')\n",
    "\n"
   ]
  },
  {
   "cell_type": "markdown",
   "metadata": {},
   "source": [
    "## Clustering - test data"
   ]
  },
  {
   "cell_type": "code",
   "execution_count": null,
   "metadata": {
    "collapsed": true
   },
   "outputs": [],
   "source": [
    "if env['TEST_MS'] and env['TEST_EPS']:\n",
    "    logger.info('Continuing to use test data (eps={}, min_samples={})'.format(\n",
    "            env['TEST_MS'], env['TEST_EPS'],\n",
    "    ))\n",
    "else:\n",
    "    logger.info('Validation results completed, exiting')\n",
    "    sys.exit(0)"
   ]
  },
  {
   "cell_type": "code",
   "execution_count": null,
   "metadata": {
    "collapsed": false
   },
   "outputs": [],
   "source": [
    "eps = env['TEST_EPS']\n",
    "min_samples = env['TEST_MS']\n",
    "i = epss.tolist().index(eps)\n",
    "j = min_sampless.tolist().index(min_samples)\n",
    "\n",
    "logger.info(\"Applying clusters to test data\")\n",
    "\n",
    "alerts_matrix, masks_matrix, incidents_vector = get_test_alerts()\n",
    "X = alert_to_vector(alerts_matrix, masks_matrix)\n",
    "y = incidents_vector\n",
    "\n",
    "y_pred = dbscan_predict(cl_model[i][j], X)\n",
    "y_pred_inc = np.array([mapper[i][j][el] for el in y_pred])"
   ]
  },
  {
   "cell_type": "code",
   "execution_count": null,
   "metadata": {
    "collapsed": false
   },
   "outputs": [],
   "source": [
    "logger.info(\n",
    "    \"Incident(i) to cluster(j) \\\"confusion matrix\\\":\\n\"+\n",
    "    str(metrics.confusion_matrix(y, y_pred))\n",
    ")\n",
    "\n",
    "labels = ['noise'] + range(n_clusters[i][j])\n",
    "desired_rows = range(1,8)\n",
    "\n",
    "res = \"\\\\hline\\n & \" + \" & \".join([str(c) for c in labels]) + '\\\\\\\\\\\\hline\\n\\\\hline\\n'\n",
    "for l, row in zip(labels, metrics.confusion_matrix(y, y_pred)):\n",
    "    if l not in desired_rows:\n",
    "        continue # No incident zero or noise as row\n",
    "    fmt = ('{}' + \" & {} \"*len(row))\n",
    "    res += fmt.format(l, *row) + '\\\\\\\\\\\\hline\\n'\n",
    "logger.info(res)\n",
    "\n"
   ]
  },
  {
   "cell_type": "code",
   "execution_count": null,
   "metadata": {
    "collapsed": false
   },
   "outputs": [],
   "source": [
    "logger.info(\n",
    "    \"Incident(i) to incident(j) confusion matrix:\\n\"+\n",
    "    str(metrics.confusion_matrix(y, y_pred_inc))\n",
    ")\n",
    "\n",
    "labels = ['noise'] + range(1,len(set(y))+1)\n",
    "desired_rows = range(1,len(set(y))+1)\n",
    "\n",
    "res = \"\\\\hline\\n & \" + \" & \".join([str(c) for c in labels]) + '\\\\\\\\\\\\hline\\n\\\\hline\\n'\n",
    "for l, row in zip(labels, metrics.confusion_matrix(y, y_pred_inc)):\n",
    "    if l not in desired_rows:\n",
    "        continue \n",
    "    fmt = ('{}' + \" & {} \"*len(row))\n",
    "    res += fmt.format(l, *row) + '\\\\\\\\\\\\hline\\n'\n",
    "logger.info(res)\n"
   ]
  },
  {
   "cell_type": "code",
   "execution_count": null,
   "metadata": {
    "collapsed": false
   },
   "outputs": [],
   "source": [
    "cm = metrics.confusion_matrix(y, y_pred_inc)\n",
    "logger.info(\"Correctly classified, disregarding noise: {:.2f}%\".format(cm[1:,1:].diagonal().sum()/cm[1:,1:].sum()*100))\n",
    "logger.info(\"Correctly classified, including noise: {:.2f}%\".format(cm[1:,1:].diagonal().sum()/cm.sum()*100))\n",
    "logger.info(\"Noise sample count: {}\".format(sum(y_pred_inc == -1)))"
   ]
  },
  {
   "cell_type": "code",
   "execution_count": null,
   "metadata": {
    "collapsed": false
   },
   "outputs": [],
   "source": [
    "logger.info(\n",
    "    \"Classification report:\\n\"+\n",
    "    metrics.classification_report(y, y_pred_inc)\n",
    ")"
   ]
  },
  {
   "cell_type": "markdown",
   "metadata": {},
   "source": [
    "## Analysing results"
   ]
  },
  {
   "cell_type": "code",
   "execution_count": null,
   "metadata": {
    "collapsed": false
   },
   "outputs": [],
   "source": [
    "def uniq_counts(l, sort_key=itemgetter(1), sort_reverse=True):\n",
    "    try:\n",
    "        l = [json.dumps(el) for el in l]\n",
    "        logger.debug('dumped to json')\n",
    "    except:\n",
    "        l = [str(el) for el in l]\n",
    "        logger.warn('failed to dump to json, casting to str')\n",
    "    unique, unique_counts = np.unique(l, return_counts=True)\n",
    "    res = sorted(\n",
    "        zip(unique, unique_counts),\n",
    "        key=sort_key,\n",
    "        reverse=sort_reverse,\n",
    "    )\n",
    "    unique, count = map(list, zip(*res))\n",
    "    try:\n",
    "        unique = list(map(json.loads, unique))\n",
    "        logger.debug('read from json')\n",
    "    except:\n",
    "        logger.warn('failed to read as json, returning as str')\n",
    "    return unique, count\n",
    "\n",
    "# a bogus incident to hold all the unclassifiable test alerts\n",
    "noise_alerts = alerts_matrix[y_pred_inc == -1]\n",
    "noise_masks = masks_matrix[y_pred_inc == -1]\n",
    "\n",
    "def decode(alert, mask):\n",
    "    alert = alert[mask.astype(bool)] # apply mask\n",
    "    alert = [chr(c) for c in alert]\n",
    "    return ''.join(alert)\n",
    "\n",
    "noise_incident = (None, [decode(a, m) for a, m in zip(noise_alerts, noise_masks)])"
   ]
  },
  {
   "cell_type": "code",
   "execution_count": null,
   "metadata": {
    "collapsed": false
   },
   "outputs": [],
   "source": [
    "logger.info('Counts of different noise alerts')\n",
    "uniq, counts = uniq_counts(\n",
    "    pool(modify(\n",
    "            [noise_incident],\n",
    "            [mask_ips, mask_tss, mask_ports],\n",
    ")))\n",
    "for i, (u, c) in enumerate(zip(uniq, counts)):\n",
    "    logger.info(\"{:2d}. n={:2d}: {}\".format(i+1, c, u[1]))"
   ]
  },
  {
   "cell_type": "code",
   "execution_count": null,
   "metadata": {
    "collapsed": false
   },
   "outputs": [],
   "source": [
    "logger.info('Priority among noise alerts:')\n",
    "uniq, counts = uniq_counts(pool(modify(\n",
    "            [noise_incident],\n",
    "            [extract_prio],\n",
    ")), sort_key=itemgetter(0), sort_reverse=False)\n",
    "for u, c in zip(uniq, counts):\n",
    "    logger.info(\"Priority {}, n={:3d}, {:5.2f}%\".format(u[1], c, c/sum(counts)*100))"
   ]
  },
  {
   "cell_type": "code",
   "execution_count": null,
   "metadata": {
    "collapsed": false
   },
   "outputs": [],
   "source": [
    "logger.info('Priority of all alerts:')\n",
    "all_alerts = pool(modify(\n",
    "        incidents,\n",
    "        [extract_prio],\n",
    "))\n",
    "all_alerts = [a[1] for a in all_alerts] # discard incident id\n",
    "uniq, counts = uniq_counts(\n",
    "    all_alerts, \n",
    "    sort_key=itemgetter(0), sort_reverse=False,\n",
    ")\n",
    "for u, c in zip(uniq, counts):\n",
    "    logger.info(\"Priority {}, n={:4d}, {:5.2f}%\".format(u, c, c/sum(counts)*100))"
   ]
  },
  {
   "cell_type": "code",
   "execution_count": null,
   "metadata": {
    "collapsed": false
   },
   "outputs": [],
   "source": [
    "logger.info('Priority of all alerts by incident:')\n",
    "uniq, counts = uniq_counts(pool(modify(\n",
    "        incidents,\n",
    "        [extract_prio],\n",
    "    )),\n",
    "    sort_key=itemgetter(0), sort_reverse=False,\n",
    ")\n",
    "uniq = np.array(uniq)\n",
    "counts = np.array(counts)\n",
    "cnt_array = np.zeros([uniq[:,0].max(), uniq[:,1].max()], dtype=int)\n",
    "uniq = uniq-1 # incident and prio: 1-indexed, arrays: 0-indexed\n",
    "for (i, p), c in zip(uniq, counts):\n",
    "    cnt_array[i,p] = c\n",
    "\n",
    "s = \"Counts:\\n\"\n",
    "fmt = '{:<11}' + '{:>8}'*cnt_array.shape[1] + '\\n'\n",
    "s += fmt.format('', 'Prio 1', 'Prio 2', 'Prio 3')\n",
    "for i in np.arange(cnt_array.shape[0]):\n",
    "    s += fmt.format(*['Incident '+str(i+1)]+list(cnt_array[i,:]))\n",
    "logger.info(s)\n",
    "\n",
    "s = \"Normalised pr. incident:\\n\"\n",
    "fmt = '{:<11}' + '{:>8}'*cnt_array.shape[1] + '\\n'\n",
    "s += fmt.format('', 'Prio 1', 'Prio 2', 'Prio 3')\n",
    "fmt = '{:<11}' + '{:7.2f}%'*cnt_array.shape[1] + '\\n'\n",
    "for i in np.arange(cnt_array.shape[0]):\n",
    "    s += fmt.format(*['Incident '+str(i+1)]+list((100*cnt_array[i,:]/cnt_array.sum(axis=1)[i])))\n",
    "logger.info(s)\n",
    "\n",
    "s = \"Normalised across incident:\\n\"\n",
    "fmt = '{:<11}' + '{:>8}'*cnt_array.shape[1] + '\\n'\n",
    "s += fmt.format('', 'Prio 1', 'Prio 2', 'Prio 3')\n",
    "fmt = '{:<11}' + '{:7.2f}%'*cnt_array.shape[1] + '\\n'\n",
    "for i in np.arange(cnt_array.shape[0]):\n",
    "    s += fmt.format(*['Incident '+str(i+1)]+list(100*cnt_array[i,:]/cnt_array.sum()))\n",
    "logger.info(s)"
   ]
  },
  {
   "cell_type": "code",
   "execution_count": null,
   "metadata": {
    "collapsed": true
   },
   "outputs": [],
   "source": []
  }
 ],
 "metadata": {
  "kernelspec": {
   "display_name": "Python 2",
   "language": "python",
   "name": "python2"
  },
  "language_info": {
   "codemirror_mode": {
    "name": "ipython",
    "version": 2
   },
   "file_extension": ".py",
   "mimetype": "text/x-python",
   "name": "python",
   "nbconvert_exporter": "python",
   "pygments_lexer": "ipython2",
   "version": "2.7.6"
  }
 },
 "nbformat": 4,
 "nbformat_minor": 0
}
