{
 "cells": [
  {
   "cell_type": "markdown",
   "metadata": {
    "collapsed": true
   },
   "source": [
    "Copyright (C) Egon Kidmose 2015-2017\n",
    "\n",
    "This file is part of lstm-rnn-correlation.\n",
    "\n",
    "lstm-rnn-correlation is free software: you can redistribute it and/or\n",
    "modify it under the terms of the GNU Lesser General Public License as\n",
    "published by the Free Software Foundation, either version 3 of the\n",
    "License, or (at your option) any later version.\n",
    "\n",
    "lstm-rnn-correlation is distributed in the hope that it will be\n",
    "useful, but WITHOUT ANY WARRANTY; without even the implied warranty of\n",
    "MERCHANTABILITY or FITNESS FOR A PARTICULAR PURPOSE.  See the GNU\n",
    "Lesser General Public License for more details.\n",
    "\n",
    "You should have received a copy of the GNU Lesser General Public\n",
    "License along with lstm-rnn-correlation. If not, see\n",
    "<http://www.gnu.org/licenses/>.\n"
   ]
  },
  {
   "cell_type": "code",
   "execution_count": 1,
   "metadata": {
    "collapsed": false
   },
   "outputs": [],
   "source": [
    "import pickle\n",
    "import pandas as pd\n",
    "import numpy as np\n",
    "import sklearn"
   ]
  },
  {
   "cell_type": "code",
   "execution_count": 2,
   "metadata": {
    "collapsed": false
   },
   "outputs": [],
   "source": [
    "m_files = [\n",
    "    'output/20161228-160556-js3/20161228-160556-js3-metrics.pickle',\n",
    "    'output/20161228-165058-js3/20161228-165058-js3-metrics.pickle',\n",
    "    'output/20161228-173816-js3/20161228-173816-js3-metrics.pickle',\n",
    "    'output/20161228-182419-js3/20161228-182419-js3-metrics.pickle',\n",
    "    'output/20161228-190939-js3/20161228-190939-js3-metrics.pickle',\n",
    "    'output/20161228-195657-js3/20161228-195657-js3-metrics.pickle',\n",
    "    'output/20161228-204147-js3/20161228-204147-js3-metrics.pickle',\n",
    "    'output/20161228-212834-js3/20161228-212834-js3-metrics.pickle',\n",
    "    'output/20161228-221359-js3/20161228-221359-js3-metrics.pickle',\n",
    "    'output/20161228-225859-js3/20161228-225859-js3-metrics.pickle',\n",
    "]\n",
    "\n",
    "def load_pickle(filename):\n",
    "    with open(filename, 'r') as f:\n",
    "        return pickle.load(f)\n",
    "\n",
    "ms = map(load_pickle, m_files)"
   ]
  },
  {
   "cell_type": "code",
   "execution_count": 3,
   "metadata": {
    "collapsed": true
   },
   "outputs": [],
   "source": [
    "ps = (5,2) # parameters for clustering, eps=0.03, minPts=10"
   ]
  },
  {
   "cell_type": "code",
   "execution_count": 4,
   "metadata": {
    "collapsed": true
   },
   "outputs": [],
   "source": [
    "def aggregate(df):\n",
    "    return pd.concat(\n",
    "        [\n",
    "            df.mean().rename('Mean'),\n",
    "            df.min().rename('Min.'),\n",
    "            df.max().rename('Max.'),\n",
    "        ],\n",
    "        axis=1,\n",
    "    )"
   ]
  },
  {
   "cell_type": "code",
   "execution_count": 5,
   "metadata": {
    "collapsed": false
   },
   "outputs": [
    {
     "data": {
      "text/html": [
       "<div>\n",
       "<table border=\"1\" class=\"dataframe\">\n",
       "  <thead>\n",
       "    <tr style=\"text-align: right;\">\n",
       "      <th></th>\n",
       "      <th>Mean</th>\n",
       "      <th>Min.</th>\n",
       "      <th>Max.</th>\n",
       "    </tr>\n",
       "  </thead>\n",
       "  <tbody>\n",
       "    <tr>\n",
       "      <th>imr</th>\n",
       "      <td>0.006183</td>\n",
       "      <td>0.000000</td>\n",
       "      <td>0.017857</td>\n",
       "    </tr>\n",
       "    <tr>\n",
       "      <th>arf</th>\n",
       "      <td>9.247887</td>\n",
       "      <td>8.307692</td>\n",
       "      <td>9.818182</td>\n",
       "    </tr>\n",
       "    <tr>\n",
       "      <th>narf</th>\n",
       "      <td>0.019154</td>\n",
       "      <td>0.016955</td>\n",
       "      <td>0.020460</td>\n",
       "    </tr>\n",
       "  </tbody>\n",
       "</table>\n",
       "</div>"
      ],
      "text/plain": [
       "          Mean      Min.      Max.\n",
       "imr   0.006183  0.000000  0.017857\n",
       "arf   9.247887  8.307692  9.818182\n",
       "narf  0.019154  0.016955  0.020460"
      ]
     },
     "execution_count": 5,
     "metadata": {},
     "output_type": "execute_result"
    }
   ],
   "source": [
    "# Domain specific metrics\n",
    "df_domain = pd.concat([\n",
    "        pd.Series([m['imr']['validation'][ps] for m in ms], name='imr'),\n",
    "        pd.Series([m['arf']['validation'][ps] for m in ms], name='arf'),\n",
    "        pd.Series([m['narf']['validation'][ps] for m in ms], name='narf'),\n",
    "    ], axis=1,\n",
    ")\n",
    "df_domain_agg = aggregate(df_domain)\n",
    "df_domain_agg"
   ]
  },
  {
   "cell_type": "code",
   "execution_count": 6,
   "metadata": {
    "collapsed": false
   },
   "outputs": [
    {
     "data": {
      "text/html": [
       "<div>\n",
       "<table border=\"1\" class=\"dataframe\">\n",
       "  <thead>\n",
       "    <tr style=\"text-align: right;\">\n",
       "      <th></th>\n",
       "      <th>Mean</th>\n",
       "      <th>Min.</th>\n",
       "      <th>Max.</th>\n",
       "    </tr>\n",
       "  </thead>\n",
       "  <tbody>\n",
       "    <tr>\n",
       "      <th>Accuracy</th>\n",
       "      <td>0.737024</td>\n",
       "      <td>0.716937</td>\n",
       "      <td>0.759259</td>\n",
       "    </tr>\n",
       "    <tr>\n",
       "      <th>Precision</th>\n",
       "      <td>0.731029</td>\n",
       "      <td>0.709876</td>\n",
       "      <td>0.752146</td>\n",
       "    </tr>\n",
       "    <tr>\n",
       "      <th>Recall</th>\n",
       "      <td>0.737024</td>\n",
       "      <td>0.716937</td>\n",
       "      <td>0.759259</td>\n",
       "    </tr>\n",
       "    <tr>\n",
       "      <th>F1-score</th>\n",
       "      <td>0.720023</td>\n",
       "      <td>0.702132</td>\n",
       "      <td>0.740864</td>\n",
       "    </tr>\n",
       "  </tbody>\n",
       "</table>\n",
       "</div>"
      ],
      "text/plain": [
       "               Mean      Min.      Max.\n",
       "Accuracy   0.737024  0.716937  0.759259\n",
       "Precision  0.731029  0.709876  0.752146\n",
       "Recall     0.737024  0.716937  0.759259\n",
       "F1-score   0.720023  0.702132  0.740864"
      ]
     },
     "execution_count": 6,
     "metadata": {},
     "output_type": "execute_result"
    }
   ],
   "source": [
    "# Classification metrics\n",
    "df_classify = pd.concat([\n",
    "        pd.Series([m['accuracy']['validation'][ps] for m in ms], name='Accuracy'),\n",
    "        pd.Series([m['precision']['validation'][ps] for m in ms], name='Precision'),\n",
    "        pd.Series([m['recall']['validation'][ps] for m in ms], name='Recall'),\n",
    "        pd.Series([m['f1']['validation'][ps] for m in ms], name='F1-score'),\n",
    "    ], axis=1,\n",
    ")\n",
    "df_classify_agg = aggregate(df_classify)\n",
    "df_classify_agg"
   ]
  },
  {
   "cell_type": "code",
   "execution_count": 7,
   "metadata": {
    "collapsed": false
   },
   "outputs": [
    {
     "data": {
      "text/html": [
       "<div>\n",
       "<table border=\"1\" class=\"dataframe\">\n",
       "  <thead>\n",
       "    <tr>\n",
       "      <th></th>\n",
       "      <th colspan=\"3\" halign=\"left\">f1</th>\n",
       "      <th colspan=\"3\" halign=\"left\">precission</th>\n",
       "      <th colspan=\"3\" halign=\"left\">recall</th>\n",
       "      <th colspan=\"3\" halign=\"left\">support</th>\n",
       "    </tr>\n",
       "    <tr>\n",
       "      <th></th>\n",
       "      <th>mean</th>\n",
       "      <th>min</th>\n",
       "      <th>max</th>\n",
       "      <th>mean</th>\n",
       "      <th>min</th>\n",
       "      <th>max</th>\n",
       "      <th>mean</th>\n",
       "      <th>min</th>\n",
       "      <th>max</th>\n",
       "      <th>mean</th>\n",
       "      <th>min</th>\n",
       "      <th>max</th>\n",
       "    </tr>\n",
       "    <tr>\n",
       "      <th>labels</th>\n",
       "      <th></th>\n",
       "      <th></th>\n",
       "      <th></th>\n",
       "      <th></th>\n",
       "      <th></th>\n",
       "      <th></th>\n",
       "      <th></th>\n",
       "      <th></th>\n",
       "      <th></th>\n",
       "      <th></th>\n",
       "      <th></th>\n",
       "      <th></th>\n",
       "    </tr>\n",
       "  </thead>\n",
       "  <tbody>\n",
       "    <tr>\n",
       "      <th>1</th>\n",
       "      <td>0.445343</td>\n",
       "      <td>0.153846</td>\n",
       "      <td>0.700000</td>\n",
       "      <td>0.612500</td>\n",
       "      <td>0.333333</td>\n",
       "      <td>0.800000</td>\n",
       "      <td>0.370000</td>\n",
       "      <td>0.100000</td>\n",
       "      <td>0.700000</td>\n",
       "      <td>10.00</td>\n",
       "      <td>10</td>\n",
       "      <td>10</td>\n",
       "    </tr>\n",
       "    <tr>\n",
       "      <th>2</th>\n",
       "      <td>0.758291</td>\n",
       "      <td>0.551724</td>\n",
       "      <td>0.857143</td>\n",
       "      <td>0.836327</td>\n",
       "      <td>0.727273</td>\n",
       "      <td>1.000000</td>\n",
       "      <td>0.700877</td>\n",
       "      <td>0.444444</td>\n",
       "      <td>0.833333</td>\n",
       "      <td>18.40</td>\n",
       "      <td>18</td>\n",
       "      <td>19</td>\n",
       "    </tr>\n",
       "    <tr>\n",
       "      <th>3</th>\n",
       "      <td>0.985266</td>\n",
       "      <td>0.965517</td>\n",
       "      <td>1.000000</td>\n",
       "      <td>0.983826</td>\n",
       "      <td>0.935484</td>\n",
       "      <td>1.000000</td>\n",
       "      <td>0.987171</td>\n",
       "      <td>0.965517</td>\n",
       "      <td>1.000000</td>\n",
       "      <td>31.70</td>\n",
       "      <td>29</td>\n",
       "      <td>34</td>\n",
       "    </tr>\n",
       "    <tr>\n",
       "      <th>4</th>\n",
       "      <td>0.886559</td>\n",
       "      <td>0.800000</td>\n",
       "      <td>0.968750</td>\n",
       "      <td>0.888908</td>\n",
       "      <td>0.756757</td>\n",
       "      <td>1.000000</td>\n",
       "      <td>0.893466</td>\n",
       "      <td>0.757576</td>\n",
       "      <td>1.000000</td>\n",
       "      <td>32.80</td>\n",
       "      <td>32</td>\n",
       "      <td>33</td>\n",
       "    </tr>\n",
       "    <tr>\n",
       "      <th>5</th>\n",
       "      <td>0.650706</td>\n",
       "      <td>0.589474</td>\n",
       "      <td>0.727273</td>\n",
       "      <td>0.554026</td>\n",
       "      <td>0.500000</td>\n",
       "      <td>0.645833</td>\n",
       "      <td>0.792308</td>\n",
       "      <td>0.717949</td>\n",
       "      <td>0.923077</td>\n",
       "      <td>39.00</td>\n",
       "      <td>39</td>\n",
       "      <td>39</td>\n",
       "    </tr>\n",
       "    <tr>\n",
       "      <th>6</th>\n",
       "      <td>0.285798</td>\n",
       "      <td>0.218182</td>\n",
       "      <td>0.400000</td>\n",
       "      <td>0.557998</td>\n",
       "      <td>0.333333</td>\n",
       "      <td>0.875000</td>\n",
       "      <td>0.197372</td>\n",
       "      <td>0.150000</td>\n",
       "      <td>0.275000</td>\n",
       "      <td>39.50</td>\n",
       "      <td>39</td>\n",
       "      <td>40</td>\n",
       "    </tr>\n",
       "    <tr>\n",
       "      <th>7</th>\n",
       "      <td>0.451951</td>\n",
       "      <td>0.357143</td>\n",
       "      <td>0.541176</td>\n",
       "      <td>0.495430</td>\n",
       "      <td>0.357143</td>\n",
       "      <td>0.575758</td>\n",
       "      <td>0.421774</td>\n",
       "      <td>0.319149</td>\n",
       "      <td>0.534884</td>\n",
       "      <td>44.40</td>\n",
       "      <td>42</td>\n",
       "      <td>47</td>\n",
       "    </tr>\n",
       "    <tr>\n",
       "      <th>Benign</th>\n",
       "      <td>0.812333</td>\n",
       "      <td>0.786667</td>\n",
       "      <td>0.835886</td>\n",
       "      <td>0.778319</td>\n",
       "      <td>0.751037</td>\n",
       "      <td>0.803653</td>\n",
       "      <td>0.850362</td>\n",
       "      <td>0.814815</td>\n",
       "      <td>0.906977</td>\n",
       "      <td>215.80</td>\n",
       "      <td>215</td>\n",
       "      <td>216</td>\n",
       "    </tr>\n",
       "    <tr>\n",
       "      <th>Overall</th>\n",
       "      <td>0.659531</td>\n",
       "      <td>0.153846</td>\n",
       "      <td>1.000000</td>\n",
       "      <td>0.713417</td>\n",
       "      <td>0.333333</td>\n",
       "      <td>1.000000</td>\n",
       "      <td>0.651666</td>\n",
       "      <td>0.100000</td>\n",
       "      <td>1.000000</td>\n",
       "      <td>53.95</td>\n",
       "      <td>10</td>\n",
       "      <td>216</td>\n",
       "    </tr>\n",
       "  </tbody>\n",
       "</table>\n",
       "</div>"
      ],
      "text/plain": [
       "               f1                     precission                      \\\n",
       "             mean       min       max       mean       min       max   \n",
       "labels                                                                 \n",
       "1        0.445343  0.153846  0.700000   0.612500  0.333333  0.800000   \n",
       "2        0.758291  0.551724  0.857143   0.836327  0.727273  1.000000   \n",
       "3        0.985266  0.965517  1.000000   0.983826  0.935484  1.000000   \n",
       "4        0.886559  0.800000  0.968750   0.888908  0.756757  1.000000   \n",
       "5        0.650706  0.589474  0.727273   0.554026  0.500000  0.645833   \n",
       "6        0.285798  0.218182  0.400000   0.557998  0.333333  0.875000   \n",
       "7        0.451951  0.357143  0.541176   0.495430  0.357143  0.575758   \n",
       "Benign   0.812333  0.786667  0.835886   0.778319  0.751037  0.803653   \n",
       "Overall  0.659531  0.153846  1.000000   0.713417  0.333333  1.000000   \n",
       "\n",
       "           recall                     support            \n",
       "             mean       min       max    mean  min  max  \n",
       "labels                                                   \n",
       "1        0.370000  0.100000  0.700000   10.00   10   10  \n",
       "2        0.700877  0.444444  0.833333   18.40   18   19  \n",
       "3        0.987171  0.965517  1.000000   31.70   29   34  \n",
       "4        0.893466  0.757576  1.000000   32.80   32   33  \n",
       "5        0.792308  0.717949  0.923077   39.00   39   39  \n",
       "6        0.197372  0.150000  0.275000   39.50   39   40  \n",
       "7        0.421774  0.319149  0.534884   44.40   42   47  \n",
       "Benign   0.850362  0.814815  0.906977  215.80  215  216  \n",
       "Overall  0.651666  0.100000  1.000000   53.95   10  216  "
      ]
     },
     "execution_count": 7,
     "metadata": {},
     "output_type": "execute_result"
    }
   ],
   "source": [
    "# Classification metrics, breakdown pr. class\n",
    "dfs_class_classify = [\n",
    "    (pd.DataFrame(dict(m['per_class']['validation'][ps].items())), rep) \n",
    "    for rep, m in enumerate(ms)\n",
    "]\n",
    "df_class_classify = pd.concat(map(\n",
    "    lambda (df, rep) : pd.concat([\n",
    "            df,\n",
    "            pd.Series([rep for x in range(len(df.index))], index=df.index, name='repetition')\n",
    "        ], axis=1),\n",
    "    dfs_class_classify\n",
    ")).reset_index(drop=True)\n",
    "df_class_classify.loc[df_class_classify['labels']==-1, 'labels'] = 'Benign'\n",
    "\n",
    "# df_class_classify_agg = aggregate(df_class_classify[['precission', 'recall', 'f1', 'support']])\n",
    "# df_class_classify_agg\n",
    "\n",
    "df_class_classify_agg = df_class_classify[\n",
    "    ['f1', 'precission', 'recall', 'support', 'labels']\n",
    "].groupby(\n",
    "    'labels'\n",
    ").aggregate(\n",
    "    ['mean', 'min', 'max']\n",
    ")\n",
    "df_class_classify_agg = pd.concat([\n",
    "        df_class_classify_agg.reset_index(),\n",
    "        df_class_classify[\n",
    "            ['f1', 'precission', 'recall', 'support']\n",
    "        ].groupby(\n",
    "            lambda _ : 'Overall'\n",
    "        ).agg(\n",
    "            ['mean', 'min', 'max']\n",
    "        ).reset_index().rename(columns={'index':'labels'})\n",
    "]).set_index('labels')\n",
    "df_class_classify_agg"
   ]
  },
  {
   "cell_type": "code",
   "execution_count": 8,
   "metadata": {
    "collapsed": false
   },
   "outputs": [
    {
     "name": "stdout",
     "output_type": "stream",
     "text": [
      "\\begin{tabular}{lrrrrrrrr}\n",
      "\\toprule\n",
      "{} &  benign &   1 &    2 &    3 &    4 &    5 &   6 &    7 \\\\\n",
      "\\midrule\n",
      "benign &    1835 &  10 &    9 &    4 &   31 &  107 &  36 &  126 \\\\\n",
      "1      &      51 &  37 &    1 &    0 &    1 &    2 &   5 &    3 \\\\\n",
      "2      &      27 &   0 &  129 &    1 &    0 &   26 &   1 &    0 \\\\\n",
      "3      &       4 &   0 &    0 &  313 &    0 &    0 &   0 &    0 \\\\\n",
      "4      &      11 &   1 &    0 &    0 &  293 &   15 &   7 &    1 \\\\\n",
      "5      &      29 &   1 &    0 &    0 &    0 &  309 &   5 &   46 \\\\\n",
      "6      &     183 &   9 &    8 &    0 &    4 &   93 &  78 &   20 \\\\\n",
      "7      &     219 &   0 &    8 &    0 &    4 &    8 &  18 &  187 \\\\\n",
      "\\bottomrule\n",
      "\\end{tabular}\n",
      "\n"
     ]
    }
   ],
   "source": [
    "# confusion matrix\n",
    "print(sum([m['cm_inc_inc']['validation'][ps] for m in ms]).to_latex())"
   ]
  },
  {
   "cell_type": "code",
   "execution_count": 9,
   "metadata": {
    "collapsed": false
   },
   "outputs": [
    {
     "data": {
      "text/html": [
       "<div>\n",
       "<table border=\"1\" class=\"dataframe\">\n",
       "  <thead>\n",
       "    <tr style=\"text-align: right;\">\n",
       "      <th></th>\n",
       "      <th>Mean</th>\n",
       "      <th>Min.</th>\n",
       "      <th>Max.</th>\n",
       "    </tr>\n",
       "  </thead>\n",
       "  <tbody>\n",
       "    <tr>\n",
       "      <th>Clusters</th>\n",
       "      <td>45.800000</td>\n",
       "      <td>43.000000</td>\n",
       "      <td>51.000000</td>\n",
       "    </tr>\n",
       "    <tr>\n",
       "      <th>Homogenity</th>\n",
       "      <td>0.641933</td>\n",
       "      <td>0.623578</td>\n",
       "      <td>0.674763</td>\n",
       "    </tr>\n",
       "    <tr>\n",
       "      <th>Outliers</th>\n",
       "      <td>88.100000</td>\n",
       "      <td>70.000000</td>\n",
       "      <td>101.000000</td>\n",
       "    </tr>\n",
       "    <tr>\n",
       "      <th>FAR in outliers</th>\n",
       "      <td>0.440202</td>\n",
       "      <td>0.340909</td>\n",
       "      <td>0.495050</td>\n",
       "    </tr>\n",
       "    <tr>\n",
       "      <th>FAR in clusters</th>\n",
       "      <td>0.514964</td>\n",
       "      <td>0.501511</td>\n",
       "      <td>0.542274</td>\n",
       "    </tr>\n",
       "  </tbody>\n",
       "</table>\n",
       "</div>"
      ],
      "text/plain": [
       "                      Mean       Min.        Max.\n",
       "Clusters         45.800000  43.000000   51.000000\n",
       "Homogenity        0.641933   0.623578    0.674763\n",
       "Outliers         88.100000  70.000000  101.000000\n",
       "FAR in outliers   0.440202   0.340909    0.495050\n",
       "FAR in clusters   0.514964   0.501511    0.542274"
      ]
     },
     "execution_count": 9,
     "metadata": {},
     "output_type": "execute_result"
    }
   ],
   "source": [
    "# Classification metrics\n",
    "df_classify = pd.concat([\n",
    "        pd.Series([m['n_clusters']['validation'][ps] for m in ms], name='Clusters'),\n",
    "        pd.Series([m['homogenity']['validation'][ps] for m in ms], name='Homogenity'),\n",
    "        pd.Series([m['outliers']['validation'][ps] for m in ms], name='Outliers'),\n",
    "        pd.Series([m['faro']['validation'][ps] for m in ms], name='FAR in outliers'),\n",
    "        pd.Series([m['farc']['validation'][ps] for m in ms], name='FAR in clusters'),\n",
    "    ], axis=1,\n",
    ")\n",
    "df_classify_agg = aggregate(df_classify)\n",
    "df_classify_agg"
   ]
  },
  {
   "cell_type": "code",
   "execution_count": 13,
   "metadata": {
    "collapsed": false
   },
   "outputs": [
    {
     "data": {
      "text/plain": [
       "{431, 432}"
      ]
     },
     "execution_count": 13,
     "metadata": {},
     "output_type": "execute_result"
    }
   ],
   "source": [
    "set(np.array([m['cm_inc_inc']['validation'][ps].as_matrix() for m in ms]).sum(axis=1).sum(axis=1))"
   ]
  }
 ],
 "metadata": {
  "kernelspec": {
   "display_name": "Python 2",
   "language": "python",
   "name": "python2"
  },
  "language_info": {
   "codemirror_mode": {
    "name": "ipython",
    "version": 2
   },
   "file_extension": ".py",
   "mimetype": "text/x-python",
   "name": "python",
   "nbconvert_exporter": "python",
   "pygments_lexer": "ipython2",
   "version": "2.7.3"
  }
 },
 "nbformat": 4,
 "nbformat_minor": 0
}
