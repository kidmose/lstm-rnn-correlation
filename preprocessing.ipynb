{
 "cells": [
  {
   "cell_type": "markdown",
   "metadata": {
    "collapsed": true
   },
   "source": [
    "Copyright (C) Egon Kidmose 2015-2017\n",
    "\n",
    "This file is part of lstm-rnn-correlation.\n",
    "\n",
    "lstm-rnn-correlation is free software: you can redistribute it and/or\n",
    "modify it under the terms of the GNU Lesser General Public License as\n",
    "published by the Free Software Foundation, either version 3 of the\n",
    "License, or (at your option) any later version.\n",
    "\n",
    "lstm-rnn-correlation is distributed in the hope that it will be\n",
    "useful, but WITHOUT ANY WARRANTY; without even the implied warranty of\n",
    "MERCHANTABILITY or FITNESS FOR A PARTICULAR PURPOSE.  See the GNU\n",
    "Lesser General Public License for more details.\n",
    "\n",
    "You should have received a copy of the GNU Lesser General Public\n",
    "License along with lstm-rnn-correlation. If not, see\n",
    "<http://www.gnu.org/licenses/>.\n"
   ]
  },
  {
   "cell_type": "code",
   "execution_count": 1,
   "metadata": {
    "collapsed": false
   },
   "outputs": [
    {
     "name": "stderr",
     "output_type": "stream",
     "text": [
      "Output prefix: output/alert-merging/20161219-124607-js4/20161219-124607-js4-\n"
     ]
    }
   ],
   "source": [
    "from __future__ import division\n",
    "\n",
    "import pandas as pd\n",
    "from pandas import DataFrame\n",
    "import numpy as np\n",
    "import re\n",
    "import datetime\n",
    "import ipaddress\n",
    "import socket\n",
    "import os\n",
    "\n",
    "import lstm_rnn_tied_weights\n",
    "\n",
    "import logging\n",
    "logging.getLogger().handlers = []\n",
    "logger = lstm_rnn_tied_weights.logger\n",
    "runid = datetime.datetime.now().strftime(\"%Y%m%d-%H%M%S-\") + socket.gethostname()\n",
    "out_dir = 'output/alert-merging/' + runid\n",
    "if not os.path.exists(out_dir):\n",
    "    os.makedirs(out_dir)\n",
    "out_prefix = out_dir + '/' + runid + '-'\n",
    "# info log file\n",
    "infofh = logging.FileHandler(out_prefix + 'info.log')\n",
    "infofh.setLevel(logging.INFO)\n",
    "infofh.setFormatter(logging.Formatter(\n",
    "        fmt='%(message)s',\n",
    "))\n",
    "logger.addHandler(infofh)\n",
    "# verbose log file\n",
    "vfh = logging.FileHandler(out_prefix + 'verbose.log')\n",
    "vfh.setLevel(logging.DEBUG)\n",
    "vfh.setFormatter(logging.Formatter(\n",
    "        fmt='%(asctime)s - PID:%(process)d - %(levelname)s - %(message)s',\n",
    "))\n",
    "logger.addHandler(vfh)\n",
    "logger.info('Output prefix: '+ out_prefix)\n",
    "\n",
    "# matplotlib\n",
    "try: # might, might not have x available\n",
    "    import os\n",
    "    os.environ['DISPLAY']\n",
    "except KeyError:\n",
    "    import matplotlib\n",
    "    matplotlib.use('Agg')\n",
    "try: # might, might not be notebook\n",
    "    %matplotlib inline\n",
    "except NameError:\n",
    "    pass\n",
    "import matplotlib.pyplot as plt\n",
    "\n",
    "seed = 1468586473 # Unix time at time of writing\n",
    "def rndseed():\n",
    "    global seed\n",
    "    seed += 1\n",
    "    return seed"
   ]
  },
  {
   "cell_type": "code",
   "execution_count": 2,
   "metadata": {
    "collapsed": false
   },
   "outputs": [],
   "source": [
    "IPV4 = '(?:[0-9]{1,3}(?:\\.[0-9]{1,3}){3})'\n",
    "IPV6 = '(?:[0-9a-f]|:){1,4}(?::(?:[0-9a-f]{0,4})*){1,7}'\n",
    "IP = '(?:{}|{})'.format(IPV4, IPV6)\n",
    "IP_PORT = '('+IP+')(?::([^ ]+))?'\n",
    "\n",
    "SNORT_REGEX = re.compile('^(.*)  \\[\\*\\*] \\[([^]]*)] (.*) \\[Priority: ([0-9])] {([^}]*)} ('+IP+')(?::([^ ]+))? -> ('+IP+')(?::([^ ]+))?\\n')\n",
    "SNORT_TS_FMT = '%m/%d/%y-%H:%M:%S.%f'\n",
    "SNORT_TS_FMT_NO_YR = '%m/%d-%H:%M:%S.%f'\n",
    "\n",
    "def strptime(string):\n",
    "    ts = None\n",
    "    try:\n",
    "        ts = datetime.datetime.strptime(string, SNORT_TS_FMT)\n",
    "    except:\n",
    "        pass\n",
    "    try:\n",
    "        ts = datetime.datetime.strptime(string, SNORT_TS_FMT_NO_YR)\n",
    "    except:\n",
    "        pass\n",
    "    if ts is None:\n",
    "        raise Exception('Failed to parse {}: {}'.format(type(string), string))\n",
    "    return ts\n",
    "\n",
    "def strftime(ts):\n",
    "    return ts.strftime(SNORT_TS_FMT)\n",
    "\n",
    "def parse_line(line):\n",
    "    tupl = re.match(SNORT_REGEX, line).groups()\n",
    "    tupl = tuple([strptime(tupl[0])]) + tupl[1:]\n",
    "    return tupl\n",
    "\n",
    "\n",
    "def build_line(tupl):\n",
    "    tupl = tuple(tupl) # pandas.core.series.Series doesn't add like tuple \n",
    "    tupl = tuple([strftime(tupl[0])]) + tupl[1:]\n",
    "    return \"{}  [**] [{}] {} [Priority: {}] {{{}}} {}:{} -> {}:{}\\n\".format(*tupl)\n",
    "\n",
    "test_code =\\\n",
    "\"\"\"\n",
    "for fn in data['filename']:\n",
    "    for l in open(fn).readlines():\n",
    "        p = parse_line(l)\n",
    "        b = build_line(p)\n",
    "        assert l == b or l == (b[:5]+b[8:]), \"Mismatch in result\"\n",
    "\"\"\"\n",
    "\n",
    "test_row = pd.Series((\n",
    "        pd.tslib.Timestamp('2016-05-04 09:38:44.365433'),\n",
    "        '129:12:1',\n",
    "        'Consecutive TCP small segments exceeding threshold [**] [Classification: Potentially Bad Traffic]',\n",
    "        '2',\n",
    "        'TCP',\n",
    "        '10.149.34.24',\n",
    "        '445',\n",
    "        '10.130.8.48',\n",
    "        '60741',\n",
    "))\n",
    "desired_output = '05/04/16-09:38:44.365433  [**] [129:12:1] '+\\\n",
    "    'Consecutive TCP small segments exceeding threshold [**] [Classification: Potentially Bad Traffic] '+\\\n",
    "    '[Priority: 2] {TCP} 10.149.34.24:445 -> 10.130.8.48:60741\\n'\n",
    "\n",
    "assert build_line(test_row) == desired_output"
   ]
  },
  {
   "cell_type": "code",
   "execution_count": 3,
   "metadata": {
    "collapsed": false
   },
   "outputs": [
    {
     "name": "stderr",
     "output_type": "stream",
     "text": [
      "Loading data\n"
     ]
    },
    {
     "name": "stdout",
     "output_type": "stream",
     "text": [
      "Opening: data/mcfp.felk.cvut.cz/publicDatasets/CTU-Malware-Capture-Botnet-46/botnet-capture-20110815-fast-flux.pcap.out\n",
      "Loaded: data/mcfp.felk.cvut.cz/publicDatasets/CTU-Malware-Capture-Botnet-46/botnet-capture-20110815-fast-flux.pcap.out\n",
      "Opening: data/mcfp.felk.cvut.cz/publicDatasets/CTU-Malware-Capture-Botnet-113-1/2015-03-12_capture-win6.pcap.out\n",
      "Loaded: data/mcfp.felk.cvut.cz/publicDatasets/CTU-Malware-Capture-Botnet-113-1/2015-03-12_capture-win6.pcap.out\n",
      "Opening: data/mcfp.felk.cvut.cz/publicDatasets/CTU-Malware-Capture-Botnet-2/2013-08-20_capture-win2.pcap.out\n",
      "Loaded: data/mcfp.felk.cvut.cz/publicDatasets/CTU-Malware-Capture-Botnet-2/2013-08-20_capture-win2.pcap.out\n",
      "Opening: data/mcfp.felk.cvut.cz/publicDatasets/CTU-Malware-Capture-Botnet-116-1/2012-05-25-capture-1.pcap.out\n",
      "Loaded: data/mcfp.felk.cvut.cz/publicDatasets/CTU-Malware-Capture-Botnet-116-1/2012-05-25-capture-1.pcap.out\n",
      "Opening: data/mcfp.felk.cvut.cz/publicDatasets/CTU-Malware-Capture-Botnet-89-1/2014-09-15_capture-win2.pcap.out\n",
      "Loaded: data/mcfp.felk.cvut.cz/publicDatasets/CTU-Malware-Capture-Botnet-89-1/2014-09-15_capture-win2.pcap.out\n",
      "Opening: data/mcfp.felk.cvut.cz/publicDatasets/CTU-Malware-Capture-Botnet-36/capture-win2.pcap.out\n",
      "Loaded: data/mcfp.felk.cvut.cz/publicDatasets/CTU-Malware-Capture-Botnet-36/capture-win2.pcap.out\n",
      "Opening: data/mcfp.felk.cvut.cz/publicDatasets/CTU-Malware-Capture-Botnet-49/botnet-capture-20110816-qvod.pcap.out\n",
      "Loaded: data/mcfp.felk.cvut.cz/publicDatasets/CTU-Malware-Capture-Botnet-49/botnet-capture-20110816-qvod.pcap.out\n",
      "Opening: data/own-recordings/alerts.log.1465471791\n",
      "Loaded: data/own-recordings/alerts.log.1465471791\n"
     ]
    }
   ],
   "source": [
    "logger.info('Loading data')\n",
    "from data_cfg import data\n",
    "# load files\n",
    "data_tmp = DataFrame()\n",
    "for index, row in data.iterrows():\n",
    "    print(\"Opening: {}\".format(row['filename']))\n",
    "    with open(row['filename']) as f:\n",
    "        alerts = DataFrame(\n",
    "            map(parse_line, f.readlines()),\n",
    "            columns=['ts', 'rid', 'msg', 'prio', 'proto', 'srcip', 'srcport', 'dstip', 'dstport']\n",
    "        )\n",
    "        alerts['incident'] = row['incident']   \n",
    "        data_tmp = data_tmp.append(pd.merge(data, alerts))\n",
    "        print(\"Loaded: {}\".format(row['filename']))\n",
    "data = data_tmp"
   ]
  },
  {
   "cell_type": "code",
   "execution_count": 4,
   "metadata": {
    "collapsed": false
   },
   "outputs": [],
   "source": [
    "difficult_ips = [\n",
    "    '94.63.149.152',\n",
    "    '147.32.84.165',\n",
    "]\n",
    "for ip in difficult_ips:\n",
    "    assert re.match('('+IP+')', ip).group()\n",
    "\n",
    "difficult_ips_port = [\n",
    "    '94.63.149.152:80',\n",
    "    '147.32.84.165:1040',\n",
    "]\n",
    "for ip in difficult_ips_port:\n",
    "    res = re.match(IP_PORT, ip).groups()\n",
    "    assert res is not None\n",
    "    assert len(res) == 2\n",
    "\n",
    "difficult_lines = [\n",
    "    '08/15-15:53:48.900440  [**] [120:3:1] (http_inspect) NO CONTENT-LENGTH OR TRANSFER-ENCODING IN HTTP RESPONSE [**] [Classification: Unknown Traffic] [Priority: 3] {TCP} 94.63.149.152:80 -> 147.32.84.165:1040\\n',\n",
    "]\n",
    "for l in difficult_lines:\n",
    "    res = parse_line(l)\n",
    "    assert len(res) == 9"
   ]
  },
  {
   "cell_type": "markdown",
   "metadata": {},
   "source": [
    "# Data preprocessing\n",
    "\n",
    "## data overview by incident"
   ]
  },
  {
   "cell_type": "code",
   "execution_count": 5,
   "metadata": {
    "collapsed": false
   },
   "outputs": [
    {
     "name": "stderr",
     "output_type": "stream",
     "text": [
      "Overview of unprocessed data\n"
     ]
    },
    {
     "data": {
      "text/html": [
       "<div>\n",
       "<table border=\"1\" class=\"dataframe\">\n",
       "  <thead>\n",
       "    <tr style=\"text-align: right;\">\n",
       "      <th></th>\n",
       "      <th></th>\n",
       "      <th></th>\n",
       "      <th></th>\n",
       "      <th>inc_prio_cnt</th>\n",
       "      <th>inc_prio_cnt_pct</th>\n",
       "    </tr>\n",
       "    <tr>\n",
       "      <th>incident</th>\n",
       "      <th>inc_cnt</th>\n",
       "      <th>inc_cnt_pct</th>\n",
       "      <th>prio</th>\n",
       "      <th></th>\n",
       "      <th></th>\n",
       "    </tr>\n",
       "  </thead>\n",
       "  <tbody>\n",
       "    <tr>\n",
       "      <th rowspan=\"3\" valign=\"top\">1</th>\n",
       "      <th rowspan=\"3\" valign=\"top\">100</th>\n",
       "      <th rowspan=\"3\" valign=\"top\">0.001802</th>\n",
       "      <th>1</th>\n",
       "      <td>1</td>\n",
       "      <td>1.000000</td>\n",
       "    </tr>\n",
       "    <tr>\n",
       "      <th>2</th>\n",
       "      <td>79</td>\n",
       "      <td>79.000000</td>\n",
       "    </tr>\n",
       "    <tr>\n",
       "      <th>3</th>\n",
       "      <td>20</td>\n",
       "      <td>20.000000</td>\n",
       "    </tr>\n",
       "    <tr>\n",
       "      <th rowspan=\"3\" valign=\"top\">2</th>\n",
       "      <th rowspan=\"3\" valign=\"top\">184</th>\n",
       "      <th rowspan=\"3\" valign=\"top\">0.003315</th>\n",
       "      <th>1</th>\n",
       "      <td>3</td>\n",
       "      <td>1.630435</td>\n",
       "    </tr>\n",
       "    <tr>\n",
       "      <th>2</th>\n",
       "      <td>35</td>\n",
       "      <td>19.021739</td>\n",
       "    </tr>\n",
       "    <tr>\n",
       "      <th>3</th>\n",
       "      <td>146</td>\n",
       "      <td>79.347826</td>\n",
       "    </tr>\n",
       "    <tr>\n",
       "      <th rowspan=\"2\" valign=\"top\">3</th>\n",
       "      <th rowspan=\"2\" valign=\"top\">317</th>\n",
       "      <th rowspan=\"2\" valign=\"top\">0.005711</th>\n",
       "      <th>1</th>\n",
       "      <td>313</td>\n",
       "      <td>98.738170</td>\n",
       "    </tr>\n",
       "    <tr>\n",
       "      <th>3</th>\n",
       "      <td>4</td>\n",
       "      <td>1.261830</td>\n",
       "    </tr>\n",
       "    <tr>\n",
       "      <th rowspan=\"2\" valign=\"top\">4</th>\n",
       "      <th rowspan=\"2\" valign=\"top\">328</th>\n",
       "      <th rowspan=\"2\" valign=\"top\">0.005909</th>\n",
       "      <th>2</th>\n",
       "      <td>305</td>\n",
       "      <td>92.987805</td>\n",
       "    </tr>\n",
       "    <tr>\n",
       "      <th>3</th>\n",
       "      <td>23</td>\n",
       "      <td>7.012195</td>\n",
       "    </tr>\n",
       "    <tr>\n",
       "      <th rowspan=\"2\" valign=\"top\">5</th>\n",
       "      <th rowspan=\"2\" valign=\"top\">390</th>\n",
       "      <th rowspan=\"2\" valign=\"top\">0.007026</th>\n",
       "      <th>2</th>\n",
       "      <td>385</td>\n",
       "      <td>98.717949</td>\n",
       "    </tr>\n",
       "    <tr>\n",
       "      <th>3</th>\n",
       "      <td>5</td>\n",
       "      <td>1.282051</td>\n",
       "    </tr>\n",
       "    <tr>\n",
       "      <th rowspan=\"3\" valign=\"top\">6</th>\n",
       "      <th rowspan=\"3\" valign=\"top\">395</th>\n",
       "      <th rowspan=\"3\" valign=\"top\">0.007116</th>\n",
       "      <th>1</th>\n",
       "      <td>15</td>\n",
       "      <td>3.797468</td>\n",
       "    </tr>\n",
       "    <tr>\n",
       "      <th>2</th>\n",
       "      <td>306</td>\n",
       "      <td>77.468354</td>\n",
       "    </tr>\n",
       "    <tr>\n",
       "      <th>3</th>\n",
       "      <td>74</td>\n",
       "      <td>18.734177</td>\n",
       "    </tr>\n",
       "    <tr>\n",
       "      <th rowspan=\"3\" valign=\"top\">7</th>\n",
       "      <th rowspan=\"3\" valign=\"top\">444</th>\n",
       "      <th rowspan=\"3\" valign=\"top\">0.007999</th>\n",
       "      <th>1</th>\n",
       "      <td>35</td>\n",
       "      <td>7.882883</td>\n",
       "    </tr>\n",
       "    <tr>\n",
       "      <th>2</th>\n",
       "      <td>404</td>\n",
       "      <td>90.990991</td>\n",
       "    </tr>\n",
       "    <tr>\n",
       "      <th>3</th>\n",
       "      <td>5</td>\n",
       "      <td>1.126126</td>\n",
       "    </tr>\n",
       "    <tr>\n",
       "      <th rowspan=\"3\" valign=\"top\">benign</th>\n",
       "      <th rowspan=\"3\" valign=\"top\">5548539</th>\n",
       "      <th rowspan=\"3\" valign=\"top\">99.961122</th>\n",
       "      <th>1</th>\n",
       "      <td>104</td>\n",
       "      <td>0.001874</td>\n",
       "    </tr>\n",
       "    <tr>\n",
       "      <th>2</th>\n",
       "      <td>4028411</td>\n",
       "      <td>72.603094</td>\n",
       "    </tr>\n",
       "    <tr>\n",
       "      <th>3</th>\n",
       "      <td>1520024</td>\n",
       "      <td>27.395031</td>\n",
       "    </tr>\n",
       "    <tr>\n",
       "      <th rowspan=\"3\" valign=\"top\">total</th>\n",
       "      <th rowspan=\"3\" valign=\"top\">5550697</th>\n",
       "      <th rowspan=\"3\" valign=\"top\">100.000000</th>\n",
       "      <th>1</th>\n",
       "      <td>471</td>\n",
       "      <td>0.008485</td>\n",
       "    </tr>\n",
       "    <tr>\n",
       "      <th>2</th>\n",
       "      <td>4029925</td>\n",
       "      <td>72.602143</td>\n",
       "    </tr>\n",
       "    <tr>\n",
       "      <th>3</th>\n",
       "      <td>1520301</td>\n",
       "      <td>27.389371</td>\n",
       "    </tr>\n",
       "  </tbody>\n",
       "</table>\n",
       "</div>"
      ],
      "text/plain": [
       "                                   inc_prio_cnt  inc_prio_cnt_pct\n",
       "incident inc_cnt inc_cnt_pct prio                                \n",
       "1        100     0.001802    1                1          1.000000\n",
       "                             2               79         79.000000\n",
       "                             3               20         20.000000\n",
       "2        184     0.003315    1                3          1.630435\n",
       "                             2               35         19.021739\n",
       "                             3              146         79.347826\n",
       "3        317     0.005711    1              313         98.738170\n",
       "                             3                4          1.261830\n",
       "4        328     0.005909    2              305         92.987805\n",
       "                             3               23          7.012195\n",
       "5        390     0.007026    2              385         98.717949\n",
       "                             3                5          1.282051\n",
       "6        395     0.007116    1               15          3.797468\n",
       "                             2              306         77.468354\n",
       "                             3               74         18.734177\n",
       "7        444     0.007999    1               35          7.882883\n",
       "                             2              404         90.990991\n",
       "                             3                5          1.126126\n",
       "benign   5548539 99.961122   1              104          0.001874\n",
       "                             2          4028411         72.603094\n",
       "                             3          1520024         27.395031\n",
       "total    5550697 100.000000  1              471          0.008485\n",
       "                             2          4029925         72.602143\n",
       "                             3          1520301         27.389371"
      ]
     },
     "execution_count": 5,
     "metadata": {},
     "output_type": "execute_result"
    }
   ],
   "source": [
    "def get_data_overview(data):\n",
    "    df_inc_cnt = DataFrame(data.groupby(['incident']).size().rename('inc_cnt').reset_index())\n",
    "    df_inc_cnt['inc_cnt_pct'] = df_inc_cnt['inc_cnt']/data.count()[0]*100\n",
    "\n",
    "    df_inc_prio_cnt = DataFrame(\n",
    "        pd.merge(data, df_inc_cnt, on='incident').groupby(['incident', 'prio', 'inc_cnt']\n",
    "    ).size().rename('inc_prio_cnt').reset_index())\n",
    "    df_inc_prio_cnt['inc_prio_cnt_pct'] = df_inc_prio_cnt['inc_prio_cnt']/df_inc_prio_cnt['inc_cnt']*100\n",
    "\n",
    "    df_overview = pd.merge(df_inc_cnt, df_inc_prio_cnt).groupby(['incident', 'prio']).first().reset_index()\n",
    "\n",
    "    tot_prio = data.groupby(['prio']).size().rename('inc_prio_cnt')\n",
    "    df_tot = DataFrame(tot_prio)\n",
    "    df_tot['inc_prio_cnt_pct'] = df_tot['inc_prio_cnt']/data.count()[0]*100\n",
    "    df_tot['inc_cnt'] = data.count()[0]\n",
    "    df_tot['inc_cnt_pct'] = 100\n",
    "    df_tot['incident'] = 'total'\n",
    "\n",
    "    df_overview = pd.concat([df_overview.reset_index(), df_tot.reset_index()])\\\n",
    "        .groupby(['incident', 'inc_cnt', 'inc_cnt_pct', 'prio', ])\\\n",
    "        .first().drop('index', 1)\n",
    "\n",
    "    return df_overview\n",
    "\n",
    "logger.info('Overview of unprocessed data')\n",
    "df_overview = get_data_overview(data)\n",
    "logger.debug(df_overview.to_latex())\n",
    "logger.debug(df_overview.to_string())\n",
    "df_overview"
   ]
  },
  {
   "cell_type": "markdown",
   "metadata": {},
   "source": [
    "## Discard true alerts found in the false alert set\n",
    "The set of false alerts also contains true alerts, i.e. wrong label.   \n",
    "We strive to discard those.  \n",
    "Discarding is done according to lists of bad IP addresses. If either source or destination of an alert match it is discarded.\n",
    "\n",
    "### Comercial solution\n",
    "A commercial detection solution provides a list of IPs that was found to have been infected with malicious software.\n",
    "\n",
    "Discarding might introduce a bias - this effect needs to be investigated.  \n",
    "To do this we look at distribution of priority and distribution of rule IDs after discarding.  \n",
    "This is compared to the same prior to discarding. "
   ]
  },
  {
   "cell_type": "code",
   "execution_count": 6,
   "metadata": {
    "collapsed": false
   },
   "outputs": [
    {
     "name": "stderr",
     "output_type": "stream",
     "text": [
      "Discard by commercial\n"
     ]
    }
   ],
   "source": [
    "logger.info('Discard by commercial')\n",
    "\n",
    "def srcip_or_dstip_in_row(row, ip_list):\n",
    "    return row['srcip'] in ip_list or \\\n",
    "        row['dstip'] in ip_list\n",
    "\n",
    "test_srcip = '94.63.149.152'\n",
    "test_dstip ='147.32.84.165'\n",
    "test_row = pd.Series({'srcip':test_srcip, 'dstip':test_dstip})\n",
    "assert srcip_or_dstip_in_row(test_row, [test_srcip])\n",
    "assert srcip_or_dstip_in_row(test_row, [test_dstip])\n",
    "assert srcip_or_dstip_in_row(test_row, [test_srcip, test_srcip])\n",
    "assert not srcip_or_dstip_in_row(test_row, list())\n"
   ]
  },
  {
   "cell_type": "code",
   "execution_count": 7,
   "metadata": {
    "collapsed": false
   },
   "outputs": [],
   "source": [
    "with open('data/own-recordings/commercial-discard-ips.csv') as f:\n",
    "    ips_discard_commercial = f.readlines()\n",
    "    ips_discard_commercial = map(str.strip, ips_discard_commercial)\n",
    "\n",
    "idx_disc_com = data.apply(\n",
    "    lambda row : srcip_or_dstip_in_row(row, ips_discard_commercial),\n",
    "    axis=1,\n",
    ")\n",
    "\n",
    "assert data[((data['incident']!='benign') & (idx_disc_com))].size == 0, \"non-benign should not be discarded\""
   ]
  },
  {
   "cell_type": "code",
   "execution_count": 8,
   "metadata": {
    "collapsed": false
   },
   "outputs": [],
   "source": [
    "# on the benign group before discarding\n",
    "idx_benign = data['incident'] == 'benign'\n",
    "benign_prio_size = data[idx_benign].groupby('prio').size()"
   ]
  },
  {
   "cell_type": "code",
   "execution_count": 9,
   "metadata": {
    "collapsed": false
   },
   "outputs": [
    {
     "name": "stderr",
     "output_type": "stream",
     "text": [
      "Priority distribution before and after discard by commercial:\n"
     ]
    },
    {
     "data": {
      "text/html": [
       "<div>\n",
       "<table border=\"1\" class=\"dataframe\">\n",
       "  <thead>\n",
       "    <tr style=\"text-align: right;\">\n",
       "      <th></th>\n",
       "      <th>Count, all benign</th>\n",
       "      <th>Percentage, all benign</th>\n",
       "      <th>Count, after discard by commercial</th>\n",
       "      <th>Percentage, after discard by commercial</th>\n",
       "    </tr>\n",
       "    <tr>\n",
       "      <th>prio</th>\n",
       "      <th></th>\n",
       "      <th></th>\n",
       "      <th></th>\n",
       "      <th></th>\n",
       "    </tr>\n",
       "  </thead>\n",
       "  <tbody>\n",
       "    <tr>\n",
       "      <th>1</th>\n",
       "      <td>104</td>\n",
       "      <td>0.001874</td>\n",
       "      <td>104</td>\n",
       "      <td>0.001964</td>\n",
       "    </tr>\n",
       "    <tr>\n",
       "      <th>2</th>\n",
       "      <td>4028411</td>\n",
       "      <td>72.603094</td>\n",
       "      <td>3776531</td>\n",
       "      <td>71.300571</td>\n",
       "    </tr>\n",
       "    <tr>\n",
       "      <th>3</th>\n",
       "      <td>1520024</td>\n",
       "      <td>27.395031</td>\n",
       "      <td>1520000</td>\n",
       "      <td>28.697465</td>\n",
       "    </tr>\n",
       "  </tbody>\n",
       "</table>\n",
       "</div>"
      ],
      "text/plain": [
       "      Count, all benign  Percentage, all benign  \\\n",
       "prio                                              \n",
       "1                   104                0.001874   \n",
       "2               4028411               72.603094   \n",
       "3               1520024               27.395031   \n",
       "\n",
       "      Count, after discard by commercial  \\\n",
       "prio                                       \n",
       "1                                    104   \n",
       "2                                3776531   \n",
       "3                                1520000   \n",
       "\n",
       "      Percentage, after discard by commercial  \n",
       "prio                                           \n",
       "1                                    0.001964  \n",
       "2                                   71.300571  \n",
       "3                                   28.697465  "
      ]
     },
     "execution_count": 9,
     "metadata": {},
     "output_type": "execute_result"
    }
   ],
   "source": [
    "logger.info('Priority distribution before and after discard by commercial:')\n",
    "disc_com_prio_size = data[idx_benign & (idx_disc_com == False)].groupby('prio').size()\n",
    "df_prio_before_after_comm = pd.concat(\n",
    "    [\n",
    "        benign_prio_size.rename('Count, all benign'), \n",
    "        (benign_prio_size/benign_prio_size.sum()*100).rename('Percentage, all benign'),\n",
    "        disc_com_prio_size.rename('Count, after discard by commercial'),\n",
    "        (disc_com_prio_size/disc_com_prio_size.sum()*100).rename('Percentage, after discard by commercial'),\n",
    "    ],\n",
    "    axis=1,\n",
    ")\n",
    "\n",
    "logger.debug(df_prio_before_after_comm.to_latex())\n",
    "logger.debug(df_prio_before_after_comm.to_string())\n",
    "df_prio_before_after_comm"
   ]
  },
  {
   "cell_type": "code",
   "execution_count": 10,
   "metadata": {
    "collapsed": false
   },
   "outputs": [
    {
     "name": "stderr",
     "output_type": "stream",
     "text": [
      "Unique rule IDs in orignal benign: 49\n",
      "Unique rule IDs in alerts discarded by comercial: 5\n",
      "Unique rule IDs after discarding: 49\n"
     ]
    }
   ],
   "source": [
    "logger.info(\n",
    "    \"Unique rule IDs in orignal benign: %d\" % \n",
    "    data[idx_benign].groupby('rid').size().size\n",
    ")\n",
    "logger.info(\n",
    "    \"Unique rule IDs in alerts discarded by comercial: %d\" % \n",
    "    data[idx_benign & idx_disc_com].groupby('rid').size().size\n",
    ")\n",
    "logger.info(\n",
    "    \"Unique rule IDs after discarding: %d\" % \n",
    "    data[idx_benign & (idx_disc_com == False)].groupby('rid').size().size\n",
    ")"
   ]
  },
  {
   "cell_type": "markdown",
   "metadata": {},
   "source": [
    "### Manual inspection\n",
    "Heuristics are applied, aiming to find the most likely true alerts, and they are manually investigated.  \n",
    "A list is produced, consisting of all IPs in alerts that was matched by heuristics, that could no be confirmed to be false.\n",
    "\n",
    "The same analysis of bias as above is performed."
   ]
  },
  {
   "cell_type": "code",
   "execution_count": 11,
   "metadata": {
    "collapsed": false
   },
   "outputs": [
    {
     "name": "stderr",
     "output_type": "stream",
     "text": [
      "Discard by manual\n"
     ]
    }
   ],
   "source": [
    "logger.info('Discard by manual')\n",
    "with open('data/own-recordings/manual-discard-ips.csv') as f:\n",
    "    ips_discard_manual = f.readlines()\n",
    "    ips_discard_manual = map(str.strip, ips_discard_manual)\n",
    "\n",
    "idx_disc_man = data.apply(\n",
    "    lambda row : srcip_or_dstip_in_row(row, ips_discard_manual),\n",
    "    axis=1,\n",
    ")\n",
    "assert data[((data['incident']!='benign') & (idx_disc_man))].size == 0, \"non-benign should not be discarded\""
   ]
  },
  {
   "cell_type": "code",
   "execution_count": 12,
   "metadata": {
    "collapsed": false
   },
   "outputs": [
    {
     "name": "stdout",
     "output_type": "stream",
     "text": [
      "Priority distribution before and after discard by manual:\n"
     ]
    },
    {
     "data": {
      "text/html": [
       "<div>\n",
       "<table border=\"1\" class=\"dataframe\">\n",
       "  <thead>\n",
       "    <tr style=\"text-align: right;\">\n",
       "      <th></th>\n",
       "      <th>Count, all benign</th>\n",
       "      <th>Percentage, all benign</th>\n",
       "      <th>Count, after discard by manual</th>\n",
       "      <th>Percentage, after discard by manual</th>\n",
       "    </tr>\n",
       "    <tr>\n",
       "      <th>prio</th>\n",
       "      <th></th>\n",
       "      <th></th>\n",
       "      <th></th>\n",
       "      <th></th>\n",
       "    </tr>\n",
       "  </thead>\n",
       "  <tbody>\n",
       "    <tr>\n",
       "      <th>1</th>\n",
       "      <td>104</td>\n",
       "      <td>0.001874</td>\n",
       "      <td>67</td>\n",
       "      <td>0.001386</td>\n",
       "    </tr>\n",
       "    <tr>\n",
       "      <th>2</th>\n",
       "      <td>4028411</td>\n",
       "      <td>72.603094</td>\n",
       "      <td>3421118</td>\n",
       "      <td>70.760250</td>\n",
       "    </tr>\n",
       "    <tr>\n",
       "      <th>3</th>\n",
       "      <td>1520024</td>\n",
       "      <td>27.395031</td>\n",
       "      <td>1413617</td>\n",
       "      <td>29.238364</td>\n",
       "    </tr>\n",
       "  </tbody>\n",
       "</table>\n",
       "</div>"
      ],
      "text/plain": [
       "      Count, all benign  Percentage, all benign  \\\n",
       "prio                                              \n",
       "1                   104                0.001874   \n",
       "2               4028411               72.603094   \n",
       "3               1520024               27.395031   \n",
       "\n",
       "      Count, after discard by manual  Percentage, after discard by manual  \n",
       "prio                                                                       \n",
       "1                                 67                             0.001386  \n",
       "2                            3421118                            70.760250  \n",
       "3                            1413617                            29.238364  "
      ]
     },
     "execution_count": 12,
     "metadata": {},
     "output_type": "execute_result"
    }
   ],
   "source": [
    "print('Priority distribution before and after discard by manual:')\n",
    "disc_man_prio_size = data[idx_benign & (idx_disc_man == False)].groupby('prio').size()\n",
    "df_prio_before_after_manual = pd.concat(\n",
    "    [\n",
    "        benign_prio_size.rename('Count, all benign'), \n",
    "        (benign_prio_size/benign_prio_size.sum()*100).rename('Percentage, all benign'),\n",
    "        disc_man_prio_size.rename('Count, after discard by manual'),\n",
    "        (disc_man_prio_size/disc_man_prio_size.sum()*100).rename('Percentage, after discard by manual'),\n",
    "    ],\n",
    "    axis=1,\n",
    ")\n",
    "\n",
    "logger.debug(df_prio_before_after_manual.to_latex())\n",
    "logger.debug(df_prio_before_after_manual.to_string())\n",
    "df_prio_before_after_manual"
   ]
  },
  {
   "cell_type": "code",
   "execution_count": 13,
   "metadata": {
    "collapsed": false
   },
   "outputs": [
    {
     "name": "stderr",
     "output_type": "stream",
     "text": [
      "Unique rule IDs in orignal benign: 49\n",
      "Unique rule IDs in alerts discarded by manual: 35\n",
      "Unique rule IDs after discarding: 44\n"
     ]
    }
   ],
   "source": [
    "logger.info(\n",
    "    \"Unique rule IDs in orignal benign: %d\" % \n",
    "    data[idx_benign].groupby('rid').size().size\n",
    ")\n",
    "logger.info(\n",
    "    \"Unique rule IDs in alerts discarded by manual: %d\" % \n",
    "    data[idx_benign & idx_disc_man].groupby('rid').size().size\n",
    ")\n",
    "logger.info(\n",
    "    \"Unique rule IDs after discarding: %d\" % \n",
    "    data[idx_benign & (idx_disc_man == False)].groupby('rid').size().size\n",
    ")"
   ]
  },
  {
   "cell_type": "markdown",
   "metadata": {},
   "source": [
    "### Manual and commercial, effects of discarding both "
   ]
  },
  {
   "cell_type": "code",
   "execution_count": 14,
   "metadata": {
    "collapsed": false
   },
   "outputs": [
    {
     "name": "stdout",
     "output_type": "stream",
     "text": [
      "Priority distribution before and after discard:\n"
     ]
    },
    {
     "data": {
      "text/html": [
       "<div>\n",
       "<table border=\"1\" class=\"dataframe\">\n",
       "  <thead>\n",
       "    <tr style=\"text-align: right;\">\n",
       "      <th></th>\n",
       "      <th>Count, all benign</th>\n",
       "      <th>Percentage, all benign</th>\n",
       "      <th>Count, after discard</th>\n",
       "      <th>Percentage, after discard</th>\n",
       "    </tr>\n",
       "    <tr>\n",
       "      <th>prio</th>\n",
       "      <th></th>\n",
       "      <th></th>\n",
       "      <th></th>\n",
       "      <th></th>\n",
       "    </tr>\n",
       "  </thead>\n",
       "  <tbody>\n",
       "    <tr>\n",
       "      <th>1</th>\n",
       "      <td>104</td>\n",
       "      <td>0.001874</td>\n",
       "      <td>67</td>\n",
       "      <td>0.001462</td>\n",
       "    </tr>\n",
       "    <tr>\n",
       "      <th>2</th>\n",
       "      <td>4028411</td>\n",
       "      <td>72.603094</td>\n",
       "      <td>3169238</td>\n",
       "      <td>69.153579</td>\n",
       "    </tr>\n",
       "    <tr>\n",
       "      <th>3</th>\n",
       "      <td>1520024</td>\n",
       "      <td>27.395031</td>\n",
       "      <td>1413593</td>\n",
       "      <td>30.844959</td>\n",
       "    </tr>\n",
       "  </tbody>\n",
       "</table>\n",
       "</div>"
      ],
      "text/plain": [
       "      Count, all benign  Percentage, all benign  Count, after discard  \\\n",
       "prio                                                                    \n",
       "1                   104                0.001874                    67   \n",
       "2               4028411               72.603094               3169238   \n",
       "3               1520024               27.395031               1413593   \n",
       "\n",
       "      Percentage, after discard  \n",
       "prio                             \n",
       "1                      0.001462  \n",
       "2                     69.153579  \n",
       "3                     30.844959  "
      ]
     },
     "execution_count": 14,
     "metadata": {},
     "output_type": "execute_result"
    }
   ],
   "source": [
    "print('Priority distribution before and after discard:')\n",
    "disc_prio_size = data[idx_benign & (idx_disc_com == False) & (idx_disc_man == False)].groupby('prio').size()\n",
    "df_prio_before_after = pd.concat(\n",
    "    [\n",
    "        benign_prio_size.rename('Count, all benign'), \n",
    "        (benign_prio_size/benign_prio_size.sum()*100).rename('Percentage, all benign'),\n",
    "        disc_prio_size.rename('Count, after discard'),\n",
    "        (disc_prio_size/disc_prio_size.sum()*100).rename('Percentage, after discard'),\n",
    "    ],\n",
    "    axis=1,\n",
    ")\n",
    "logger.debug(df_prio_before_after.to_latex())\n",
    "logger.debug(df_prio_before_after.to_string())\n",
    "df_prio_before_after"
   ]
  },
  {
   "cell_type": "code",
   "execution_count": 15,
   "metadata": {
    "collapsed": false
   },
   "outputs": [
    {
     "name": "stderr",
     "output_type": "stream",
     "text": [
      "Unique rule IDs in orignal benign: 49\n",
      "Unique rule IDs in alerts discarded: 35\n",
      "Unique rule IDs after discarding: 44\n"
     ]
    }
   ],
   "source": [
    "logger.info(\n",
    "    \"Unique rule IDs in orignal benign: %d\" % \n",
    "    data[idx_benign].groupby('rid').size().size\n",
    ")\n",
    "logger.info(\n",
    "    \"Unique rule IDs in alerts discarded: %d\" % \n",
    "    data[idx_benign & (idx_disc_man | idx_disc_com)].groupby('rid').size().size\n",
    ")\n",
    "logger.info(\n",
    "    \"Unique rule IDs after discarding: %d\" % \n",
    "    data[idx_benign & ((idx_disc_man | idx_disc_com)==False)].groupby('rid').size().size\n",
    ")"
   ]
  },
  {
   "cell_type": "code",
   "execution_count": 16,
   "metadata": {
    "collapsed": false
   },
   "outputs": [
    {
     "name": "stderr",
     "output_type": "stream",
     "text": [
      "Analysing amount of discard by rule ID\n"
     ]
    }
   ],
   "source": [
    "logger.info('Analysing amount of discard by rule ID')\n",
    "df_discard = pd.concat(\n",
    "    [\n",
    "        data[idx_benign].groupby('rid').size().rename('before'),\n",
    "        data[idx_benign & (idx_disc_com == False)].groupby('rid').size().rename('com'),\n",
    "        data[idx_benign & (idx_disc_man == False)].groupby('rid').size().rename('man'),\n",
    "        data[idx_benign & ((idx_disc_man | idx_disc_com)==False)].groupby('rid').size().rename('both'),\n",
    "    ],\n",
    "    axis=1,\n",
    ").fillna(0).astype(int)\n"
   ]
  },
  {
   "cell_type": "code",
   "execution_count": 17,
   "metadata": {
    "collapsed": false
   },
   "outputs": [
    {
     "data": {
      "text/html": [
       "<div>\n",
       "<table border=\"1\" class=\"dataframe\">\n",
       "  <thead>\n",
       "    <tr style=\"text-align: right;\">\n",
       "      <th></th>\n",
       "      <th>Count, all benign</th>\n",
       "      <th>Percentage, all benign</th>\n",
       "      <th>Count, after discard</th>\n",
       "      <th>Percentage, after discard</th>\n",
       "    </tr>\n",
       "    <tr>\n",
       "      <th>prio</th>\n",
       "      <th></th>\n",
       "      <th></th>\n",
       "      <th></th>\n",
       "      <th></th>\n",
       "    </tr>\n",
       "  </thead>\n",
       "  <tbody>\n",
       "    <tr>\n",
       "      <th>1</th>\n",
       "      <td>104</td>\n",
       "      <td>0.001874</td>\n",
       "      <td>67</td>\n",
       "      <td>0.001462</td>\n",
       "    </tr>\n",
       "    <tr>\n",
       "      <th>2</th>\n",
       "      <td>4028411</td>\n",
       "      <td>72.603094</td>\n",
       "      <td>3169238</td>\n",
       "      <td>69.153579</td>\n",
       "    </tr>\n",
       "    <tr>\n",
       "      <th>3</th>\n",
       "      <td>1520024</td>\n",
       "      <td>27.395031</td>\n",
       "      <td>1413593</td>\n",
       "      <td>30.844959</td>\n",
       "    </tr>\n",
       "  </tbody>\n",
       "</table>\n",
       "</div>"
      ],
      "text/plain": [
       "      Count, all benign  Percentage, all benign  Count, after discard  \\\n",
       "prio                                                                    \n",
       "1                   104                0.001874                    67   \n",
       "2               4028411               72.603094               3169238   \n",
       "3               1520024               27.395031               1413593   \n",
       "\n",
       "      Percentage, after discard  \n",
       "prio                             \n",
       "1                      0.001462  \n",
       "2                     69.153579  \n",
       "3                     30.844959  "
      ]
     },
     "execution_count": 17,
     "metadata": {},
     "output_type": "execute_result"
    }
   ],
   "source": [
    "df_discard['Commercial'] = (df_discard['before']-df_discard['com'])/df_discard['before']*100\n",
    "df_discard['Manual'] = (df_discard['before']-df_discard['man'])/df_discard['before']*100\n",
    "df_discard['Both'] = (df_discard['before']-df_discard['both'])/df_discard['before']*100\n",
    "\n",
    "logger.debug(df_discard.to_latex())\n",
    "logger.debug(df_discard.to_string())\n",
    "df_prio_before_after"
   ]
  },
  {
   "cell_type": "code",
   "execution_count": 18,
   "metadata": {
    "collapsed": false
   },
   "outputs": [
    {
     "data": {
      "image/png": "[encoded data removed]",
      "text/plain": [
       "<matplotlib.figure.Figure at 0x37cef50>"
      ]
     },
     "metadata": {},
     "output_type": "display_data"
    }
   ],
   "source": [
    "ax = df_discard[['Commercial', 'Manual', 'Both']].plot(kind='bar', figsize=(20,10))\n",
    "ax.set_title('Percentage of all benign discarded under various strategies, by Rule ID')\n",
    "ax.set_xlabel('Rule ID')\n",
    "ax.set_ylabel('%')\n",
    "plt.tight_layout()\n",
    "plt.savefig(out_prefix+'discard_ruleid.pdf', bbox_inches='tight')"
   ]
  },
  {
   "cell_type": "code",
   "execution_count": 19,
   "metadata": {
    "collapsed": false
   },
   "outputs": [],
   "source": [
    "# Discard\n",
    "data = data[((idx_disc_man | idx_disc_com)==False) | (idx_benign == False)]"
   ]
  },
  {
   "cell_type": "markdown",
   "metadata": {},
   "source": [
    "## Merge in time"
   ]
  },
  {
   "cell_type": "code",
   "execution_count": 20,
   "metadata": {
    "collapsed": false
   },
   "outputs": [
    {
     "name": "stderr",
     "output_type": "stream",
     "text": [
      "Time overview, before processing\n"
     ]
    },
    {
     "data": {
      "text/html": [
       "<div>\n",
       "<table border=\"1\" class=\"dataframe\">\n",
       "  <thead>\n",
       "    <tr style=\"text-align: right;\">\n",
       "      <th></th>\n",
       "      <th>start</th>\n",
       "      <th>stop</th>\n",
       "      <th>dur</th>\n",
       "    </tr>\n",
       "    <tr>\n",
       "      <th>incident</th>\n",
       "      <th></th>\n",
       "      <th></th>\n",
       "      <th></th>\n",
       "    </tr>\n",
       "  </thead>\n",
       "  <tbody>\n",
       "    <tr>\n",
       "      <th>1</th>\n",
       "      <td>1900-08-15 15:53:38.852633</td>\n",
       "      <td>1900-08-15 16:12:55.075556</td>\n",
       "      <td>0 days 00:19:16.222923</td>\n",
       "    </tr>\n",
       "    <tr>\n",
       "      <th>2</th>\n",
       "      <td>1900-01-01 01:03:00.290316</td>\n",
       "      <td>1900-01-15 10:19:12.356931</td>\n",
       "      <td>14 days 09:16:12.066615</td>\n",
       "    </tr>\n",
       "    <tr>\n",
       "      <th>3</th>\n",
       "      <td>1900-01-01 01:07:12.199683</td>\n",
       "      <td>1900-01-04 19:54:07.258312</td>\n",
       "      <td>3 days 18:46:55.058629</td>\n",
       "    </tr>\n",
       "    <tr>\n",
       "      <th>4</th>\n",
       "      <td>1900-05-25 16:30:42.780734</td>\n",
       "      <td>1900-05-25 18:54:11.436165</td>\n",
       "      <td>0 days 02:23:28.655431</td>\n",
       "    </tr>\n",
       "    <tr>\n",
       "      <th>5</th>\n",
       "      <td>1900-01-01 01:02:27.531158</td>\n",
       "      <td>1900-01-01 02:29:21.832912</td>\n",
       "      <td>0 days 01:26:54.301754</td>\n",
       "    </tr>\n",
       "    <tr>\n",
       "      <th>6</th>\n",
       "      <td>1900-01-01 01:05:27.646936</td>\n",
       "      <td>1900-01-01 13:08:19.105737</td>\n",
       "      <td>0 days 12:02:51.458801</td>\n",
       "    </tr>\n",
       "    <tr>\n",
       "      <th>7</th>\n",
       "      <td>1900-08-16 13:28:11.935713</td>\n",
       "      <td>1900-08-17 07:42:01.247718</td>\n",
       "      <td>0 days 18:13:49.312005</td>\n",
       "    </tr>\n",
       "    <tr>\n",
       "      <th>benign</th>\n",
       "      <td>2016-05-04 09:38:44.365433</td>\n",
       "      <td>2016-06-09 13:29:51.193338</td>\n",
       "      <td>36 days 03:51:06.827905</td>\n",
       "    </tr>\n",
       "  </tbody>\n",
       "</table>\n",
       "</div>"
      ],
      "text/plain": [
       "                              start                       stop  \\\n",
       "incident                                                         \n",
       "1        1900-08-15 15:53:38.852633 1900-08-15 16:12:55.075556   \n",
       "2        1900-01-01 01:03:00.290316 1900-01-15 10:19:12.356931   \n",
       "3        1900-01-01 01:07:12.199683 1900-01-04 19:54:07.258312   \n",
       "4        1900-05-25 16:30:42.780734 1900-05-25 18:54:11.436165   \n",
       "5        1900-01-01 01:02:27.531158 1900-01-01 02:29:21.832912   \n",
       "6        1900-01-01 01:05:27.646936 1900-01-01 13:08:19.105737   \n",
       "7        1900-08-16 13:28:11.935713 1900-08-17 07:42:01.247718   \n",
       "benign   2016-05-04 09:38:44.365433 2016-06-09 13:29:51.193338   \n",
       "\n",
       "                             dur  \n",
       "incident                          \n",
       "1         0 days 00:19:16.222923  \n",
       "2        14 days 09:16:12.066615  \n",
       "3         3 days 18:46:55.058629  \n",
       "4         0 days 02:23:28.655431  \n",
       "5         0 days 01:26:54.301754  \n",
       "6         0 days 12:02:51.458801  \n",
       "7         0 days 18:13:49.312005  \n",
       "benign   36 days 03:51:06.827905  "
      ]
     },
     "execution_count": 20,
     "metadata": {},
     "output_type": "execute_result"
    }
   ],
   "source": [
    "# data time overview\n",
    "logger.info('Time overview, before processing')\n",
    "df_ts = data[['incident', 'ts']].groupby('incident').agg(['min', 'max'])['ts']\n",
    "df_ts.columns = ['start', 'stop', ]\n",
    "df_ts['dur'] = df_ts['stop']-df_ts['start']\n",
    "\n",
    "logger.debug(df_ts.to_latex())\n",
    "logger.debug(df_ts.to_string())\n",
    "df_ts"
   ]
  },
  {
   "cell_type": "code",
   "execution_count": 21,
   "metadata": {
    "collapsed": false
   },
   "outputs": [
    {
     "data": {
      "image/png": "[encoded data removed]",
      "text/plain": [
       "<matplotlib.figure.Figure at 0xc3b10150>"
      ]
     },
     "metadata": {},
     "output_type": "display_data"
    },
    {
     "data": {
      "image/png": "[encoded data removed]",
      "text/plain": [
       "<matplotlib.figure.Figure at 0xc5c5de90>"
      ]
     },
     "metadata": {},
     "output_type": "display_data"
    }
   ],
   "source": [
    "fig = None\n",
    "ax = None\n",
    "def time_span_plot(dataframe):\n",
    "    \"Dataframe must have 'start' and 'duration' keys\"\n",
    "    global fig, ax\n",
    "    fig, ax = plt.subplots()\n",
    "    for index, row in dataframe.iterrows():\n",
    "        x = row['start'] + row['dur']/2\n",
    "        y = int(index) if index is not 'benign' else 0\n",
    "        xerr = row['dur']/2\n",
    "        ax.errorbar(x, y, xerr=xerr)\n",
    "    \n",
    "    ax.spines['right'].set_visible(False)\n",
    "    ax.spines['left'].set_visible(False)\n",
    "    ax.spines['top'].set_visible(False)\n",
    "    \n",
    "    ax.yaxis.set_ticks_position('none')\n",
    "    ax.xaxis.set_ticks_position('bottom')\n",
    "    \n",
    "    ax.set_ylim(np.array(ax.get_ylim()) + [-1, 1])\n",
    "    \n",
    "    fig.set_size_inches(14, 2)\n",
    "\n",
    "time_span_plot(df_ts[(df_ts.index == 'benign')])\n",
    "plt.tight_layout()\n",
    "plt.savefig(out_prefix+'timespan_benign.pdf', bbox_inches='tight')\n",
    "\n",
    "time_span_plot(df_ts[(df_ts.index != 'benign')])\n",
    "plt.tight_layout()\n",
    "plt.savefig(out_prefix+'timespan_malicious.pdf', bbox_inches='tight')"
   ]
  },
  {
   "cell_type": "code",
   "execution_count": 22,
   "metadata": {
    "collapsed": false
   },
   "outputs": [
    {
     "name": "stderr",
     "output_type": "stream",
     "text": [
      "Calculating random shifts\n"
     ]
    },
    {
     "data": {
      "text/html": [
       "<div>\n",
       "<table border=\"1\" class=\"dataframe\">\n",
       "  <thead>\n",
       "    <tr style=\"text-align: right;\">\n",
       "      <th></th>\n",
       "      <th>start</th>\n",
       "      <th>stop</th>\n",
       "      <th>dur</th>\n",
       "      <th>shift</th>\n",
       "    </tr>\n",
       "    <tr>\n",
       "      <th>incident</th>\n",
       "      <th></th>\n",
       "      <th></th>\n",
       "      <th></th>\n",
       "      <th></th>\n",
       "    </tr>\n",
       "  </thead>\n",
       "  <tbody>\n",
       "    <tr>\n",
       "      <th>1</th>\n",
       "      <td>1900-08-15 15:53:38.852633</td>\n",
       "      <td>1900-08-15 16:12:55.075556</td>\n",
       "      <td>0 days 00:19:16.222923</td>\n",
       "      <td>42291 days 18:41:05.279240</td>\n",
       "    </tr>\n",
       "    <tr>\n",
       "      <th>2</th>\n",
       "      <td>1900-01-01 01:03:00.290316</td>\n",
       "      <td>1900-01-15 10:19:12.356931</td>\n",
       "      <td>14 days 09:16:12.066615</td>\n",
       "      <td>42503 days 09:12:21.108171</td>\n",
       "    </tr>\n",
       "    <tr>\n",
       "      <th>3</th>\n",
       "      <td>1900-01-01 01:07:12.199683</td>\n",
       "      <td>1900-01-04 19:54:07.258312</td>\n",
       "      <td>3 days 18:46:55.058629</td>\n",
       "      <td>42497 days 01:44:17.853895</td>\n",
       "    </tr>\n",
       "    <tr>\n",
       "      <th>4</th>\n",
       "      <td>1900-05-25 16:30:42.780734</td>\n",
       "      <td>1900-05-25 18:54:11.436165</td>\n",
       "      <td>0 days 02:23:28.655431</td>\n",
       "      <td>42361 days 14:38:42.199517</td>\n",
       "    </tr>\n",
       "    <tr>\n",
       "      <th>5</th>\n",
       "      <td>1900-01-01 01:02:27.531158</td>\n",
       "      <td>1900-01-01 02:29:21.832912</td>\n",
       "      <td>0 days 01:26:54.301754</td>\n",
       "      <td>42526 days 12:23:46.071861</td>\n",
       "    </tr>\n",
       "    <tr>\n",
       "      <th>6</th>\n",
       "      <td>1900-01-01 01:05:27.646936</td>\n",
       "      <td>1900-01-01 13:08:19.105737</td>\n",
       "      <td>0 days 12:02:51.458801</td>\n",
       "      <td>42496 days 00:11:01.939262</td>\n",
       "    </tr>\n",
       "    <tr>\n",
       "      <th>7</th>\n",
       "      <td>1900-08-16 13:28:11.935713</td>\n",
       "      <td>1900-08-17 07:42:01.247718</td>\n",
       "      <td>0 days 18:13:49.312005</td>\n",
       "      <td>42272 days 10:06:10.005379</td>\n",
       "    </tr>\n",
       "    <tr>\n",
       "      <th>benign</th>\n",
       "      <td>2016-05-04 09:38:44.365433</td>\n",
       "      <td>2016-06-09 13:29:51.193338</td>\n",
       "      <td>36 days 03:51:06.827905</td>\n",
       "      <td>0 days 00:00:00</td>\n",
       "    </tr>\n",
       "  </tbody>\n",
       "</table>\n",
       "</div>"
      ],
      "text/plain": [
       "                              start                       stop  \\\n",
       "incident                                                         \n",
       "1        1900-08-15 15:53:38.852633 1900-08-15 16:12:55.075556   \n",
       "2        1900-01-01 01:03:00.290316 1900-01-15 10:19:12.356931   \n",
       "3        1900-01-01 01:07:12.199683 1900-01-04 19:54:07.258312   \n",
       "4        1900-05-25 16:30:42.780734 1900-05-25 18:54:11.436165   \n",
       "5        1900-01-01 01:02:27.531158 1900-01-01 02:29:21.832912   \n",
       "6        1900-01-01 01:05:27.646936 1900-01-01 13:08:19.105737   \n",
       "7        1900-08-16 13:28:11.935713 1900-08-17 07:42:01.247718   \n",
       "benign   2016-05-04 09:38:44.365433 2016-06-09 13:29:51.193338   \n",
       "\n",
       "                             dur                      shift  \n",
       "incident                                                     \n",
       "1         0 days 00:19:16.222923 42291 days 18:41:05.279240  \n",
       "2        14 days 09:16:12.066615 42503 days 09:12:21.108171  \n",
       "3         3 days 18:46:55.058629 42497 days 01:44:17.853895  \n",
       "4         0 days 02:23:28.655431 42361 days 14:38:42.199517  \n",
       "5         0 days 01:26:54.301754 42526 days 12:23:46.071861  \n",
       "6         0 days 12:02:51.458801 42496 days 00:11:01.939262  \n",
       "7         0 days 18:13:49.312005 42272 days 10:06:10.005379  \n",
       "benign   36 days 03:51:06.827905            0 days 00:00:00  "
      ]
     },
     "execution_count": 22,
     "metadata": {},
     "output_type": "execute_result"
    }
   ],
   "source": [
    "# calculate random shift to end up within boundaries of benign\n",
    "logger.info('Calculating random shifts')\n",
    "new_start_min = df_ts.loc['benign']['start']\n",
    "new_start_max = df_ts.loc['benign']['stop']-df_ts['dur']\n",
    "window = new_start_max - new_start_min\n",
    "assert (np.array(\n",
    "        window+df_ts['dur']-df_ts.loc['benign']['dur'],\n",
    "        dtype='object') == 0).all(), \"window is wrong\"\n",
    "\n",
    "np.random.seed(rndseed())\n",
    "df_ts['shift'] = new_start_min - df_ts['start'] \\\n",
    "    + map(lambda delta : np.random.rand()*delta, window)\n",
    "\n",
    "logger.debug(df_ts.to_latex())\n",
    "logger.debug(df_ts.to_string())\n",
    "df_ts"
   ]
  },
  {
   "cell_type": "code",
   "execution_count": 23,
   "metadata": {
    "collapsed": false
   },
   "outputs": [
    {
     "name": "stderr",
     "output_type": "stream",
     "text": [
      "Applying time shift\n"
     ]
    },
    {
     "data": {
      "text/html": [
       "<div>\n",
       "<table border=\"1\" class=\"dataframe\">\n",
       "  <thead>\n",
       "    <tr style=\"text-align: right;\">\n",
       "      <th></th>\n",
       "      <th>start</th>\n",
       "      <th>stop</th>\n",
       "      <th>dur</th>\n",
       "    </tr>\n",
       "    <tr>\n",
       "      <th>incident</th>\n",
       "      <th></th>\n",
       "      <th></th>\n",
       "      <th></th>\n",
       "    </tr>\n",
       "  </thead>\n",
       "  <tbody>\n",
       "    <tr>\n",
       "      <th>1</th>\n",
       "      <td>2016-05-30 10:34:44.131873994</td>\n",
       "      <td>2016-05-30 10:54:00.354796994</td>\n",
       "      <td>0 days 00:19:16.222923</td>\n",
       "    </tr>\n",
       "    <tr>\n",
       "      <th>2</th>\n",
       "      <td>2016-05-15 10:15:21.398487265</td>\n",
       "      <td>2016-05-29 19:31:33.465102265</td>\n",
       "      <td>14 days 09:16:12.066615</td>\n",
       "    </tr>\n",
       "    <tr>\n",
       "      <th>3</th>\n",
       "      <td>2016-05-09 02:51:30.053578127</td>\n",
       "      <td>2016-05-12 21:38:25.112207127</td>\n",
       "      <td>3 days 18:46:55.058629</td>\n",
       "    </tr>\n",
       "    <tr>\n",
       "      <th>4</th>\n",
       "      <td>2016-05-18 07:09:24.980251846</td>\n",
       "      <td>2016-05-18 09:32:53.635682846</td>\n",
       "      <td>0 days 02:23:28.655431</td>\n",
       "    </tr>\n",
       "    <tr>\n",
       "      <th>5</th>\n",
       "      <td>2016-06-07 13:26:13.603019664</td>\n",
       "      <td>2016-06-07 14:53:07.904773664</td>\n",
       "      <td>0 days 01:26:54.301754</td>\n",
       "    </tr>\n",
       "    <tr>\n",
       "      <th>6</th>\n",
       "      <td>2016-05-08 01:16:29.586198863</td>\n",
       "      <td>2016-05-08 13:19:21.044999863</td>\n",
       "      <td>0 days 12:02:51.458801</td>\n",
       "    </tr>\n",
       "    <tr>\n",
       "      <th>7</th>\n",
       "      <td>2016-05-11 23:34:21.941092222</td>\n",
       "      <td>2016-05-12 17:48:11.253097222</td>\n",
       "      <td>0 days 18:13:49.312005</td>\n",
       "    </tr>\n",
       "    <tr>\n",
       "      <th>benign</th>\n",
       "      <td>2016-05-04 09:38:44.365433000</td>\n",
       "      <td>2016-06-09 13:29:51.193338000</td>\n",
       "      <td>36 days 03:51:06.827905</td>\n",
       "    </tr>\n",
       "  </tbody>\n",
       "</table>\n",
       "</div>"
      ],
      "text/plain": [
       "                                 start                          stop  \\\n",
       "incident                                                               \n",
       "1        2016-05-30 10:34:44.131873994 2016-05-30 10:54:00.354796994   \n",
       "2        2016-05-15 10:15:21.398487265 2016-05-29 19:31:33.465102265   \n",
       "3        2016-05-09 02:51:30.053578127 2016-05-12 21:38:25.112207127   \n",
       "4        2016-05-18 07:09:24.980251846 2016-05-18 09:32:53.635682846   \n",
       "5        2016-06-07 13:26:13.603019664 2016-06-07 14:53:07.904773664   \n",
       "6        2016-05-08 01:16:29.586198863 2016-05-08 13:19:21.044999863   \n",
       "7        2016-05-11 23:34:21.941092222 2016-05-12 17:48:11.253097222   \n",
       "benign   2016-05-04 09:38:44.365433000 2016-06-09 13:29:51.193338000   \n",
       "\n",
       "                             dur  \n",
       "incident                          \n",
       "1         0 days 00:19:16.222923  \n",
       "2        14 days 09:16:12.066615  \n",
       "3         3 days 18:46:55.058629  \n",
       "4         0 days 02:23:28.655431  \n",
       "5         0 days 01:26:54.301754  \n",
       "6         0 days 12:02:51.458801  \n",
       "7         0 days 18:13:49.312005  \n",
       "benign   36 days 03:51:06.827905  "
      ]
     },
     "execution_count": 23,
     "metadata": {},
     "output_type": "execute_result"
    }
   ],
   "source": [
    "logger.info('Applying time shift')\n",
    "\n",
    "# apply shift\n",
    "shifted_data = pd.merge(data, df_ts.reset_index(), on='incident')\n",
    "shifted_data['ts'] = shifted_data['ts'] + shifted_data['shift']\n",
    "assert shifted_data['ts'].max() == data.groupby(['incident']).max().loc['benign']['ts']\n",
    "assert shifted_data['ts'].min() == data.groupby(['incident']).min().loc['benign']['ts']\n",
    "data = shifted_data\n",
    "data = data.sort_values('ts')\n",
    "data = data[data_tmp.columns] # only original columns\n",
    "\n",
    "df_ts = data[['incident', 'ts']].groupby('incident').agg(['min', 'max'])['ts']\n",
    "df_ts.columns = ['start', 'stop', ]\n",
    "df_ts['dur'] = df_ts['stop']-df_ts['start']\n",
    "\n",
    "logger.debug(df_ts.to_latex())\n",
    "logger.debug(df_ts.to_string())\n",
    "df_ts"
   ]
  },
  {
   "cell_type": "code",
   "execution_count": 24,
   "metadata": {
    "collapsed": false
   },
   "outputs": [
    {
     "data": {
      "image/png": "[encoded data removed]",
      "text/plain": [
       "<matplotlib.figure.Figure at 0xc5c56410>"
      ]
     },
     "metadata": {},
     "output_type": "display_data"
    }
   ],
   "source": [
    "time_span_plot(df_ts)\n",
    "ax.plot(new_start_min, 0, 'og')\n",
    "ax.plot(new_start_max[:-1], range(1, len(new_start_max)), 'or')\n",
    "plt.tight_layout()\n",
    "plt.savefig(out_prefix+'timespan_merged.pdf', bbox_inches='tight')"
   ]
  },
  {
   "cell_type": "markdown",
   "metadata": {
    "collapsed": false
   },
   "source": [
    "## Merge in IP space"
   ]
  },
  {
   "cell_type": "code",
   "execution_count": 25,
   "metadata": {
    "collapsed": false
   },
   "outputs": [
    {
     "name": "stderr",
     "output_type": "stream",
     "text": [
      "Merging in IP address space\n",
      "ignoring IPv6 addres: fe80::a97f:ea88:dbc5:ab62:5357\n",
      "ignoring IPv6 addres: fe80::3139:7b55:65e8:c045:38752\n",
      "ignoring IPv6 addres: fe80::3139:7b55:65e8:c045:38809\n"
     ]
    },
    {
     "data": {
      "text/html": [
       "<div>\n",
       "<table border=\"1\" class=\"dataframe\">\n",
       "  <thead>\n",
       "    <tr style=\"text-align: right;\">\n",
       "      <th></th>\n",
       "      <th>incident</th>\n",
       "      <th>from_ip</th>\n",
       "      <th>to_ip</th>\n",
       "    </tr>\n",
       "  </thead>\n",
       "  <tbody>\n",
       "    <tr>\n",
       "      <th>0</th>\n",
       "      <td>6</td>\n",
       "      <td>10.0.2.102</td>\n",
       "      <td>10.151.60.11</td>\n",
       "    </tr>\n",
       "    <tr>\n",
       "      <th>1</th>\n",
       "      <td>3</td>\n",
       "      <td>10.0.2.16</td>\n",
       "      <td>10.130.76.48</td>\n",
       "    </tr>\n",
       "    <tr>\n",
       "      <th>2</th>\n",
       "      <td>7</td>\n",
       "      <td>147.32.84.165</td>\n",
       "      <td>10.130.133.46</td>\n",
       "    </tr>\n",
       "    <tr>\n",
       "      <th>3</th>\n",
       "      <td>2</td>\n",
       "      <td>10.0.2.106</td>\n",
       "      <td>10.130.142.71</td>\n",
       "    </tr>\n",
       "    <tr>\n",
       "      <th>4</th>\n",
       "      <td>4</td>\n",
       "      <td>192.168.0.9</td>\n",
       "      <td>10.130.26.23</td>\n",
       "    </tr>\n",
       "    <tr>\n",
       "      <th>5</th>\n",
       "      <td>1</td>\n",
       "      <td>147.32.84.165</td>\n",
       "      <td>10.130.25.17</td>\n",
       "    </tr>\n",
       "    <tr>\n",
       "      <th>6</th>\n",
       "      <td>5</td>\n",
       "      <td>10.0.2.102</td>\n",
       "      <td>10.130.8.18</td>\n",
       "    </tr>\n",
       "  </tbody>\n",
       "</table>\n",
       "</div>"
      ],
      "text/plain": [
       "  incident        from_ip          to_ip\n",
       "0        6     10.0.2.102   10.151.60.11\n",
       "1        3      10.0.2.16   10.130.76.48\n",
       "2        7  147.32.84.165  10.130.133.46\n",
       "3        2     10.0.2.106  10.130.142.71\n",
       "4        4    192.168.0.9   10.130.26.23\n",
       "5        1  147.32.84.165   10.130.25.17\n",
       "6        5     10.0.2.102    10.130.8.18"
      ]
     },
     "execution_count": 25,
     "metadata": {},
     "output_type": "execute_result"
    }
   ],
   "source": [
    "logger.info('Merging in IP address space')\n",
    "\n",
    "# rewrite victim IPs to match benign\n",
    "malicious_ips = data[data['victim_ip'] != 'benign']\\\n",
    "    [['incident', 'victim_ip']].drop_duplicates()\n",
    "\n",
    "data_benign = data[data['incident'] == 'benign']\n",
    "benign_ips = pd.Series(pd.concat([data_benign['srcip'],data_benign['dstip']]).unique(), name='benign_ips')\n",
    "def is_private_ip(string):\n",
    "    try:\n",
    "        return ipaddress.IPv4Address(string).is_private\n",
    "    except ipaddress.AddressValueError:\n",
    "        logger.info(\"ignoring IPv6 addres: {}\".format(string))\n",
    "        return False\n",
    "    \n",
    "benign_ips = benign_ips[np.array(map(is_private_ip, benign_ips))] # only private\n",
    "benign_ips = benign_ips.sample(malicious_ips.shape[0], random_state=rndseed())\n",
    "df_replace = DataFrame(\n",
    "    zip(malicious_ips['incident'], malicious_ips['victim_ip'], benign_ips),\n",
    "    columns=['incident', 'from_ip', 'to_ip']\n",
    ")\n",
    "\n",
    "logger.debug(df_replace.to_latex())\n",
    "logger.debug(df_replace.to_string())\n",
    "df_replace"
   ]
  },
  {
   "cell_type": "code",
   "execution_count": 26,
   "metadata": {
    "collapsed": false
   },
   "outputs": [],
   "source": [
    "# perform IP replacement\n",
    "src_update = pd.merge(data.reset_index(), df_replace, left_on=['incident', 'srcip'], right_on=['incident', 'from_ip'])\n",
    "src_update['srcip'] = src_update['to_ip']\n",
    "src_update = src_update.drop(['from_ip', 'to_ip'], axis=1)\n",
    "src_update = src_update.set_index('index')\n",
    "data.update(src_update)\n",
    "\n",
    "dst_update = pd.merge(data.reset_index(), df_replace, left_on=['incident', 'dstip'], right_on=['incident', 'from_ip'])\n",
    "dst_update['dstip'] = dst_update['to_ip']\n",
    "dst_update = dst_update.drop(['from_ip', 'to_ip'], axis=1)\n",
    "dst_update = dst_update.set_index('index')\n",
    "data.update(dst_update)\n",
    "\n",
    "assert (np.array(src_update.groupby('incident').size()) > 0).all(), \"No src updated, highly suspicous\"\n",
    "assert (np.array(dst_update.groupby('incident').size()) > 0).all(), \"No dst updated, highly suspicous\"\n",
    "assert pd.merge(data, df_replace, left_on=['incident', 'srcip'], right_on=['incident', 'from_ip']).shape[0] == 0\n",
    "assert pd.merge(data, df_replace, left_on=['incident', 'dstip'], right_on=['incident', 'from_ip']).shape[0] == 0"
   ]
  },
  {
   "cell_type": "code",
   "execution_count": 27,
   "metadata": {
    "collapsed": true
   },
   "outputs": [],
   "source": [
    "# reconstruct alerts\n",
    "data['alert'] = data[['ts', 'rid', 'msg', 'prio', 'proto', 'srcip', 'srcport', 'dstip', 'dstport']].apply(build_line, axis=1)"
   ]
  },
  {
   "cell_type": "markdown",
   "metadata": {},
   "source": [
    "# Stratify"
   ]
  },
  {
   "cell_type": "code",
   "execution_count": 28,
   "metadata": {
    "collapsed": false
   },
   "outputs": [
    {
     "name": "stderr",
     "output_type": "stream",
     "text": [
      "Stratifying data such that benign make up 50 %\n",
      "Overview of stratified data\n"
     ]
    },
    {
     "data": {
      "text/html": [
       "<div>\n",
       "<table border=\"1\" class=\"dataframe\">\n",
       "  <thead>\n",
       "    <tr style=\"text-align: right;\">\n",
       "      <th></th>\n",
       "      <th></th>\n",
       "      <th></th>\n",
       "      <th></th>\n",
       "      <th>inc_prio_cnt</th>\n",
       "      <th>inc_prio_cnt_pct</th>\n",
       "    </tr>\n",
       "    <tr>\n",
       "      <th>incident</th>\n",
       "      <th>inc_cnt</th>\n",
       "      <th>inc_cnt_pct</th>\n",
       "      <th>prio</th>\n",
       "      <th></th>\n",
       "      <th></th>\n",
       "    </tr>\n",
       "  </thead>\n",
       "  <tbody>\n",
       "    <tr>\n",
       "      <th rowspan=\"3\" valign=\"top\">1</th>\n",
       "      <th rowspan=\"3\" valign=\"top\">100</th>\n",
       "      <th rowspan=\"3\" valign=\"top\">2.316960</th>\n",
       "      <th>1</th>\n",
       "      <td>1</td>\n",
       "      <td>1.000000</td>\n",
       "    </tr>\n",
       "    <tr>\n",
       "      <th>2</th>\n",
       "      <td>79</td>\n",
       "      <td>79.000000</td>\n",
       "    </tr>\n",
       "    <tr>\n",
       "      <th>3</th>\n",
       "      <td>20</td>\n",
       "      <td>20.000000</td>\n",
       "    </tr>\n",
       "    <tr>\n",
       "      <th rowspan=\"3\" valign=\"top\">2</th>\n",
       "      <th rowspan=\"3\" valign=\"top\">184</th>\n",
       "      <th rowspan=\"3\" valign=\"top\">4.263207</th>\n",
       "      <th>1</th>\n",
       "      <td>3</td>\n",
       "      <td>1.630435</td>\n",
       "    </tr>\n",
       "    <tr>\n",
       "      <th>2</th>\n",
       "      <td>35</td>\n",
       "      <td>19.021739</td>\n",
       "    </tr>\n",
       "    <tr>\n",
       "      <th>3</th>\n",
       "      <td>146</td>\n",
       "      <td>79.347826</td>\n",
       "    </tr>\n",
       "    <tr>\n",
       "      <th rowspan=\"2\" valign=\"top\">3</th>\n",
       "      <th rowspan=\"2\" valign=\"top\">317</th>\n",
       "      <th rowspan=\"2\" valign=\"top\">7.344764</th>\n",
       "      <th>1</th>\n",
       "      <td>313</td>\n",
       "      <td>98.738170</td>\n",
       "    </tr>\n",
       "    <tr>\n",
       "      <th>3</th>\n",
       "      <td>4</td>\n",
       "      <td>1.261830</td>\n",
       "    </tr>\n",
       "    <tr>\n",
       "      <th rowspan=\"2\" valign=\"top\">4</th>\n",
       "      <th rowspan=\"2\" valign=\"top\">328</th>\n",
       "      <th rowspan=\"2\" valign=\"top\">7.599629</th>\n",
       "      <th>2</th>\n",
       "      <td>305</td>\n",
       "      <td>92.987805</td>\n",
       "    </tr>\n",
       "    <tr>\n",
       "      <th>3</th>\n",
       "      <td>23</td>\n",
       "      <td>7.012195</td>\n",
       "    </tr>\n",
       "    <tr>\n",
       "      <th rowspan=\"2\" valign=\"top\">5</th>\n",
       "      <th rowspan=\"2\" valign=\"top\">390</th>\n",
       "      <th rowspan=\"2\" valign=\"top\">9.036145</th>\n",
       "      <th>2</th>\n",
       "      <td>385</td>\n",
       "      <td>98.717949</td>\n",
       "    </tr>\n",
       "    <tr>\n",
       "      <th>3</th>\n",
       "      <td>5</td>\n",
       "      <td>1.282051</td>\n",
       "    </tr>\n",
       "    <tr>\n",
       "      <th rowspan=\"3\" valign=\"top\">6</th>\n",
       "      <th rowspan=\"3\" valign=\"top\">395</th>\n",
       "      <th rowspan=\"3\" valign=\"top\">9.151993</th>\n",
       "      <th>1</th>\n",
       "      <td>15</td>\n",
       "      <td>3.797468</td>\n",
       "    </tr>\n",
       "    <tr>\n",
       "      <th>2</th>\n",
       "      <td>306</td>\n",
       "      <td>77.468354</td>\n",
       "    </tr>\n",
       "    <tr>\n",
       "      <th>3</th>\n",
       "      <td>74</td>\n",
       "      <td>18.734177</td>\n",
       "    </tr>\n",
       "    <tr>\n",
       "      <th rowspan=\"3\" valign=\"top\">7</th>\n",
       "      <th rowspan=\"3\" valign=\"top\">444</th>\n",
       "      <th rowspan=\"3\" valign=\"top\">10.287303</th>\n",
       "      <th>1</th>\n",
       "      <td>35</td>\n",
       "      <td>7.882883</td>\n",
       "    </tr>\n",
       "    <tr>\n",
       "      <th>2</th>\n",
       "      <td>404</td>\n",
       "      <td>90.990991</td>\n",
       "    </tr>\n",
       "    <tr>\n",
       "      <th>3</th>\n",
       "      <td>5</td>\n",
       "      <td>1.126126</td>\n",
       "    </tr>\n",
       "    <tr>\n",
       "      <th rowspan=\"2\" valign=\"top\">benign</th>\n",
       "      <th rowspan=\"2\" valign=\"top\">2158</th>\n",
       "      <th rowspan=\"2\" valign=\"top\">50.000000</th>\n",
       "      <th>2</th>\n",
       "      <td>1489</td>\n",
       "      <td>68.999073</td>\n",
       "    </tr>\n",
       "    <tr>\n",
       "      <th>3</th>\n",
       "      <td>669</td>\n",
       "      <td>31.000927</td>\n",
       "    </tr>\n",
       "    <tr>\n",
       "      <th rowspan=\"3\" valign=\"top\">total</th>\n",
       "      <th rowspan=\"3\" valign=\"top\">4316</th>\n",
       "      <th rowspan=\"3\" valign=\"top\">100.000000</th>\n",
       "      <th>1</th>\n",
       "      <td>367</td>\n",
       "      <td>8.503244</td>\n",
       "    </tr>\n",
       "    <tr>\n",
       "      <th>2</th>\n",
       "      <td>3003</td>\n",
       "      <td>69.578313</td>\n",
       "    </tr>\n",
       "    <tr>\n",
       "      <th>3</th>\n",
       "      <td>946</td>\n",
       "      <td>21.918443</td>\n",
       "    </tr>\n",
       "  </tbody>\n",
       "</table>\n",
       "</div>"
      ],
      "text/plain": [
       "                                   inc_prio_cnt  inc_prio_cnt_pct\n",
       "incident inc_cnt inc_cnt_pct prio                                \n",
       "1        100     2.316960    1                1          1.000000\n",
       "                             2               79         79.000000\n",
       "                             3               20         20.000000\n",
       "2        184     4.263207    1                3          1.630435\n",
       "                             2               35         19.021739\n",
       "                             3              146         79.347826\n",
       "3        317     7.344764    1              313         98.738170\n",
       "                             3                4          1.261830\n",
       "4        328     7.599629    2              305         92.987805\n",
       "                             3               23          7.012195\n",
       "5        390     9.036145    2              385         98.717949\n",
       "                             3                5          1.282051\n",
       "6        395     9.151993    1               15          3.797468\n",
       "                             2              306         77.468354\n",
       "                             3               74         18.734177\n",
       "7        444     10.287303   1               35          7.882883\n",
       "                             2              404         90.990991\n",
       "                             3                5          1.126126\n",
       "benign   2158    50.000000   2             1489         68.999073\n",
       "                             3              669         31.000927\n",
       "total    4316    100.000000  1              367          8.503244\n",
       "                             2             3003         69.578313\n",
       "                             3              946         21.918443"
      ]
     },
     "execution_count": 28,
     "metadata": {},
     "output_type": "execute_result"
    }
   ],
   "source": [
    "logger.info('Stratifying data such that benign make up 50 %')\n",
    "\n",
    "malicious = data[(data['incident']!='benign')]\n",
    "benign = data[(data['incident']=='benign')]\n",
    "benign = benign.sample(n=len(malicious), random_state=rndseed())\n",
    "data = pd.concat([benign, malicious])\n",
    "\n",
    "# Shuffle\n",
    "np.random.seed(rndseed())\n",
    "data.reindex(np.random.permutation(data.index))\n",
    "\n",
    "logger.info('Overview of stratified data')\n",
    "df_overview = get_data_overview(data)\n",
    "logger.debug(df_overview.to_latex())\n",
    "logger.debug(df_overview.to_string())\n",
    "df_overview"
   ]
  },
  {
   "cell_type": "markdown",
   "metadata": {},
   "source": [
    "# Split alerts"
   ]
  },
  {
   "cell_type": "code",
   "execution_count": 29,
   "metadata": {
    "collapsed": false
   },
   "outputs": [
    {
     "name": "stderr",
     "output_type": "stream",
     "text": [
      "Splitting data\n",
      "Alert count by cuts: \n",
      "cut            0    1    2    3    4    5    6    7    8    9\n",
      "Alert count  432  432  432  432  432  432  431  431  431  431\n"
     ]
    },
    {
     "data": {
      "text/html": [
       "<div>\n",
       "<table border=\"1\" class=\"dataframe\">\n",
       "  <thead>\n",
       "    <tr style=\"text-align: right;\">\n",
       "      <th>cut</th>\n",
       "      <th>0</th>\n",
       "      <th>1</th>\n",
       "      <th>2</th>\n",
       "      <th>3</th>\n",
       "      <th>4</th>\n",
       "      <th>5</th>\n",
       "      <th>6</th>\n",
       "      <th>7</th>\n",
       "      <th>8</th>\n",
       "      <th>9</th>\n",
       "    </tr>\n",
       "  </thead>\n",
       "  <tbody>\n",
       "    <tr>\n",
       "      <th>Alert count</th>\n",
       "      <td>432</td>\n",
       "      <td>432</td>\n",
       "      <td>432</td>\n",
       "      <td>432</td>\n",
       "      <td>432</td>\n",
       "      <td>432</td>\n",
       "      <td>431</td>\n",
       "      <td>431</td>\n",
       "      <td>431</td>\n",
       "      <td>431</td>\n",
       "    </tr>\n",
       "  </tbody>\n",
       "</table>\n",
       "</div>"
      ],
      "text/plain": [
       "cut            0    1    2    3    4    5    6    7    8    9\n",
       "Alert count  432  432  432  432  432  432  431  431  431  431"
      ]
     },
     "execution_count": 29,
     "metadata": {},
     "output_type": "execute_result"
    }
   ],
   "source": [
    "logger.info('Splitting data')\n",
    "\n",
    "# Shuffle\n",
    "np.random.seed(rndseed())\n",
    "data.reindex(np.random.permutation(data.index))\n",
    "\n",
    "data = data.reset_index().reset_index().set_index('index')\n",
    "data['cut'] = data.level_0 % 10\n",
    "data.drop('level_0', axis=1, inplace=True)\n",
    "\n",
    "alert_count = pd.DataFrame(data.groupby('cut').size().rename('Alert count')).T\n",
    "logger.info('Alert count by cuts: \\n' + alert_count.to_string())\n",
    "alert_count\n"
   ]
  },
  {
   "cell_type": "markdown",
   "metadata": {},
   "source": [
    "# Save alerts"
   ]
  },
  {
   "cell_type": "code",
   "execution_count": 30,
   "metadata": {
    "collapsed": false
   },
   "outputs": [
    {
     "name": "stderr",
     "output_type": "stream",
     "text": [
      "Saving alerts\n",
      "Saved alerts\n"
     ]
    }
   ],
   "source": [
    "logger.info('Saving alerts')\n",
    "data.to_csv(\n",
    "    'data/own-recordings/alerts-merged-cleaned-strat50-cross-val.log.1465471791',\n",
    "    columns=['incident', 'alert', 'cut'],\n",
    "    index=False,\n",
    ")\n",
    "logger.info('Saved alerts')"
   ]
  },
  {
   "cell_type": "code",
   "execution_count": 31,
   "metadata": {
    "collapsed": false
   },
   "outputs": [
    {
     "name": "stderr",
     "output_type": "stream",
     "text": [
      "Saving test alerts\n",
      "Saved test alerts\n"
     ]
    }
   ],
   "source": [
    "logger.info('Saving test alerts')\n",
    "data_test = DataFrame()\n",
    "for (i, c) in [(i, c) for i in data['incident'].unique() for c in data['cut'].unique()]:\n",
    "    data_test = pd.concat([\n",
    "        data_test,\n",
    "        data[(data['incident'] == i) & (data['cut'] == c)].head(100)\n",
    "    ])\n",
    "data_test.to_csv(\n",
    "    'data/own-recordings/alerts-merged-cleaned-strat50-cross-val.log.1465471791.test',\n",
    "    columns=['incident', 'alert', 'cut'],\n",
    "    index=False,\n",
    ")\n",
    "logger.info('Saved test alerts')"
   ]
  },
  {
   "cell_type": "code",
   "execution_count": 32,
   "metadata": {
    "collapsed": false
   },
   "outputs": [
    {
     "name": "stderr",
     "output_type": "stream",
     "text": [
      "Completed\n"
     ]
    }
   ],
   "source": [
    "logger.info('Completed')"
   ]
  },
  {
   "cell_type": "code",
   "execution_count": null,
   "metadata": {
    "collapsed": true
   },
   "outputs": [],
   "source": []
  }
 ],
 "metadata": {
  "kernelspec": {
   "display_name": "Python 2",
   "language": "python",
   "name": "python2"
  },
  "language_info": {
   "codemirror_mode": {
    "name": "ipython",
    "version": 2
   },
   "file_extension": ".py",
   "mimetype": "text/x-python",
   "name": "python",
   "nbconvert_exporter": "python",
   "pygments_lexer": "ipython2",
   "version": "2.7.3"
  }
 },
 "nbformat": 4,
 "nbformat_minor": 0
}
